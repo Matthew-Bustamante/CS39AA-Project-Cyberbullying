{
 "cells": [
  {
   "cell_type": "markdown",
   "id": "8d246dbd",
   "metadata": {
    "papermill": {
     "duration": 0.009111,
     "end_time": "2023-11-13T20:43:31.290346",
     "exception": false,
     "start_time": "2023-11-13T20:43:31.281235",
     "status": "completed"
    },
    "tags": []
   },
   "source": [
    "# Project Part 1\n",
    "\n",
    "\n",
    "[![Kaggle](https://kaggle.com/static/images/open-in-kaggle.svg)](https://kaggle.com/kernels/welcome?src=https://github.com/Matthew-Bustamante/CS39AA-Project-Cyberbullying/blob/main/project_part1.ipynb)\n",
    "\n",
    "\n",
    "[![Open In Colab](https://colab.research.google.com/assets/colab-badge.svg)](https://colab.research.google.com/github/Matthew-Bustamante/CS39AA-Project-Cyberbullying/blob/main/project_part1.ipynb)"
   ]
  },
  {
   "cell_type": "markdown",
   "id": "1c5ece76",
   "metadata": {
    "papermill": {
     "duration": 0.006435,
     "end_time": "2023-11-13T20:43:31.303740",
     "exception": false,
     "start_time": "2023-11-13T20:43:31.297305",
     "status": "completed"
    },
    "tags": []
   },
   "source": [
    "## 1. Introduction/Background\n",
    "\n"
   ]
  },
  {
   "cell_type": "markdown",
   "id": "41173daf",
   "metadata": {
    "papermill": {
     "duration": 0.00688,
     "end_time": "2023-11-13T20:43:31.317457",
     "exception": false,
     "start_time": "2023-11-13T20:43:31.310577",
     "status": "completed"
    },
    "tags": []
   },
   "source": [
    "Cyberbullying is a huge problem in the social media space. Due to social media's ubiquity means that cyberbullying can happen anytime, anywhere, and is anonomoyous which means that cyberbullying can be a more effective form of bullying.  This dataset contains about 11099 unique tweets, and is binary as the data is sorted into cyberbullying and non-cyberbullying.\n",
    "\n",
    "\n",
    "The NLP problem this data set is trying to solve is to identitfy and predict if tweet is potentially harmful and flag it as cyberbullying or non-cyberbullying. This problem is a text classification problem because it's taking a tweet which is our X and classifiying it as cyberbullying or non-cyberbullying\n",
    "\n",
    "What I plan to do for this project is to build a baseline model to better understand the dataset, and then use an exisiting NLP model and fine tune it to get it as accurate as possible.  I have noticed that some models are pretty low in accuracy using this dataset and I want to try to improve that, as well as learn why accuracies for this dataset are low and what are the challenges for trying to learn hateful comments."
   ]
  },
  {
   "cell_type": "markdown",
   "id": "c65aeff1",
   "metadata": {
    "papermill": {
     "duration": 0.006366,
     "end_time": "2023-11-13T20:43:31.330539",
     "exception": false,
     "start_time": "2023-11-13T20:43:31.324173",
     "status": "completed"
    },
    "tags": []
   },
   "source": [
    "## 2. Exploratory Data Analysis\n",
    "\n",
    "_You will now load the dataset and carry out some exploratory data analysis steps to better understand what text data looks like. See the examples from class on 10/. The following links provide some good resources of exploratory analyses of text data with Python._\n",
    "\n",
    "\n",
    "* https://neptune.ai/blog/exploratory-data-analysis-natural-language-processing-tools\n",
    "* https://regenerativetoday.com/exploratory-data-analysis-of-text-data-including-visualization-and-sentiment-analysis/\n",
    "* https://medium.com/swlh/text-summarization-guide-exploratory-data-analysis-on-text-data-4e22ce2dd6ad  \n",
    "* https://www.kdnuggets.com/2019/05/complete-exploratory-data-analysis-visualization-text-data.html  \n"
   ]
  },
  {
   "cell_type": "code",
   "execution_count": 1,
   "id": "85b750fd",
   "metadata": {
    "execution": {
     "iopub.execute_input": "2023-11-13T20:43:31.346815Z",
     "iopub.status.busy": "2023-11-13T20:43:31.345858Z",
     "iopub.status.idle": "2023-11-13T20:43:32.171862Z",
     "shell.execute_reply": "2023-11-13T20:43:32.170734Z"
    },
    "papermill": {
     "duration": 0.837064,
     "end_time": "2023-11-13T20:43:32.174404",
     "exception": false,
     "start_time": "2023-11-13T20:43:31.337340",
     "status": "completed"
    },
    "tags": []
   },
   "outputs": [
    {
     "name": "stdout",
     "output_type": "stream",
     "text": [
      "/kaggle/input/cyberbullying-classification/cyberbullying_tweets.csv\n"
     ]
    }
   ],
   "source": [
    "# import all of the python modules/packages you'll need here\n",
    "import pandas as pd\n",
    "import numpy as np\n",
    "import os\n",
    "# ...\n",
    "#to list the directory for the input data\n",
    "for dirname, _, filenames in os.walk('/kaggle/input'):\n",
    "    for filename in filenames:\n",
    "        print(os.path.join(dirname, filename))\n"
   ]
  },
  {
   "cell_type": "markdown",
   "id": "18e8706c",
   "metadata": {
    "papermill": {
     "duration": 0.00665,
     "end_time": "2023-11-13T20:43:32.187895",
     "exception": false,
     "start_time": "2023-11-13T20:43:32.181245",
     "status": "completed"
    },
    "tags": []
   },
   "source": [
    "Here we are reading the csv file and here you can look at what the data looks like, we can see that the data is given a number 0 or 1.  A 1 indicates that the tweet is cyberbullying and a 0 indicates that the tweet is non-cyberbullying"
   ]
  },
  {
   "cell_type": "code",
   "execution_count": 2,
   "id": "448e504f",
   "metadata": {
    "execution": {
     "iopub.execute_input": "2023-11-13T20:43:32.203777Z",
     "iopub.status.busy": "2023-11-13T20:43:32.202963Z",
     "iopub.status.idle": "2023-11-13T20:43:32.592416Z",
     "shell.execute_reply": "2023-11-13T20:43:32.591034Z"
    },
    "papermill": {
     "duration": 0.400333,
     "end_time": "2023-11-13T20:43:32.594979",
     "exception": false,
     "start_time": "2023-11-13T20:43:32.194646",
     "status": "completed"
    },
    "tags": []
   },
   "outputs": [
    {
     "data": {
      "text/html": [
       "<div>\n",
       "<style scoped>\n",
       "    .dataframe tbody tr th:only-of-type {\n",
       "        vertical-align: middle;\n",
       "    }\n",
       "\n",
       "    .dataframe tbody tr th {\n",
       "        vertical-align: top;\n",
       "    }\n",
       "\n",
       "    .dataframe thead th {\n",
       "        text-align: right;\n",
       "    }\n",
       "</style>\n",
       "<table border=\"1\" class=\"dataframe\">\n",
       "  <thead>\n",
       "    <tr style=\"text-align: right;\">\n",
       "      <th></th>\n",
       "      <th>Text</th>\n",
       "      <th>CB_Label</th>\n",
       "    </tr>\n",
       "  </thead>\n",
       "  <tbody>\n",
       "    <tr>\n",
       "      <th>0</th>\n",
       "      <td>damn there is someones nana up here at beach w...</td>\n",
       "      <td>0</td>\n",
       "    </tr>\n",
       "    <tr>\n",
       "      <th>1</th>\n",
       "      <td>no kidding! dick clark was a corpse mechanical...</td>\n",
       "      <td>0</td>\n",
       "    </tr>\n",
       "    <tr>\n",
       "      <th>2</th>\n",
       "      <td>i read an article on jobros and thought damn w...</td>\n",
       "      <td>0</td>\n",
       "    </tr>\n",
       "  </tbody>\n",
       "</table>\n",
       "</div>"
      ],
      "text/plain": [
       "                                                Text  CB_Label\n",
       "0  damn there is someones nana up here at beach w...         0\n",
       "1  no kidding! dick clark was a corpse mechanical...         0\n",
       "2  i read an article on jobros and thought damn w...         0"
      ]
     },
     "execution_count": 2,
     "metadata": {},
     "output_type": "execute_result"
    }
   ],
   "source": [
    "#input_data_path = https://raw.githubusercontent.com/sgeinitz/CS39AA/main/data/trainB1.csv\n",
    "#input_data_path = 'https://raw.githubusercontent.com/Matthew-Bustamante/CS39AA-Project-Cyberbullying/main/CyberBullying_Comments_Dataset.csv'\n",
    "input_data_path = 'https://raw.githubusercontent.com/Matthew-Bustamante/CS39AA-Project-Cyberbullying/main/CyberBullying_Comments_Dataset.csv'\n",
    "cyberBullying = pd.read_csv(input_data_path, nrows=10000)\n",
    "cyberBullying.head(3)"
   ]
  },
  {
   "cell_type": "markdown",
   "id": "7192a953",
   "metadata": {
    "papermill": {
     "duration": 0.006818,
     "end_time": "2023-11-13T20:43:32.609007",
     "exception": false,
     "start_time": "2023-11-13T20:43:32.602189",
     "status": "completed"
    },
    "tags": []
   },
   "source": [
    "Lets look at how many characters are in these tweets"
   ]
  },
  {
   "cell_type": "code",
   "execution_count": 3,
   "id": "b700fac5",
   "metadata": {
    "execution": {
     "iopub.execute_input": "2023-11-13T20:43:32.625094Z",
     "iopub.status.busy": "2023-11-13T20:43:32.624669Z",
     "iopub.status.idle": "2023-11-13T20:43:33.014874Z",
     "shell.execute_reply": "2023-11-13T20:43:33.013690Z"
    },
    "papermill": {
     "duration": 0.401267,
     "end_time": "2023-11-13T20:43:33.017349",
     "exception": false,
     "start_time": "2023-11-13T20:43:32.616082",
     "status": "completed"
    },
    "tags": []
   },
   "outputs": [
    {
     "data": {
      "image/png": "[encoded data removed]",
      "text/plain": [
       "<Figure size 640x480 with 1 Axes>"
      ]
     },
     "metadata": {},
     "output_type": "display_data"
    }
   ],
   "source": [
    "#cyberBullying['tweet_text'].map(lambda x: len(x)).hist()\n",
    "\n",
    "\"\"\"\n",
    "A method that takes in the dataset and divides up the words into characters and plots the frequecny\n",
    "of each character to a histogram\n",
    "\"\"\"\n",
    "def wordNumberHistogram(text):\n",
    "    text.str.split().\\\n",
    "        map(lambda x: len(x)).\\\n",
    "        hist()\n",
    "    \n",
    "wordNumberHistogram(cyberBullying['Text'])"
   ]
  },
  {
   "cell_type": "markdown",
   "id": "e1a23b3e",
   "metadata": {
    "papermill": {
     "duration": 0.00705,
     "end_time": "2023-11-13T20:43:33.031706",
     "exception": false,
     "start_time": "2023-11-13T20:43:33.024656",
     "status": "completed"
    },
    "tags": []
   },
   "source": [
    "We can see that majority of these tweets fall between 1 and 70 characters which makes sense as tweets are suppose to be short and concise\n",
    "\n",
    "Next, Let's see how many words are in each tweet"
   ]
  },
  {
   "cell_type": "code",
   "execution_count": 4,
   "id": "76afa5cb",
   "metadata": {
    "execution": {
     "iopub.execute_input": "2023-11-13T20:43:33.048637Z",
     "iopub.status.busy": "2023-11-13T20:43:33.047674Z",
     "iopub.status.idle": "2023-11-13T20:43:33.575320Z",
     "shell.execute_reply": "2023-11-13T20:43:33.574109Z"
    },
    "papermill": {
     "duration": 0.53899,
     "end_time": "2023-11-13T20:43:33.578032",
     "exception": false,
     "start_time": "2023-11-13T20:43:33.039042",
     "status": "completed"
    },
    "tags": []
   },
   "outputs": [
    {
     "data": {
      "text/plain": [
       "<Axes: >"
      ]
     },
     "execution_count": 4,
     "metadata": {},
     "output_type": "execute_result"
    },
    {
     "data": {
      "image/png": "[encoded data removed]",
      "text/plain": [
       "<Figure size 640x480 with 1 Axes>"
      ]
     },
     "metadata": {},
     "output_type": "display_data"
    }
   ],
   "source": [
    "cyberBullying['Text'].str.split().apply(lambda x : [len(i) for i in x]).map(lambda x: np.mean(x)).hist()"
   ]
  },
  {
   "cell_type": "markdown",
   "id": "62ebbea6",
   "metadata": {
    "papermill": {
     "duration": 0.007864,
     "end_time": "2023-11-13T20:43:33.594292",
     "exception": false,
     "start_time": "2023-11-13T20:43:33.586428",
     "status": "completed"
    },
    "tags": []
   },
   "source": [
    "The majority of these tweets contain about 1 to 15 words which makes sense as tweets are usually short and consise compared to other text."
   ]
  },
  {
   "cell_type": "markdown",
   "id": "8a3974e8",
   "metadata": {
    "papermill": {
     "duration": 0.007516,
     "end_time": "2023-11-13T20:43:33.609660",
     "exception": false,
     "start_time": "2023-11-13T20:43:33.602144",
     "status": "completed"
    },
    "tags": []
   },
   "source": [
    "Let's now see how many stopwords this data set has\n",
    "\n",
    "Stop words are commonly used words that are in a language and it's important to filter them out from less commonly used words so that you can access the least commonly used words. \n",
    "\n",
    "Here we want to see how many stop words are used in these tweets"
   ]
  },
  {
   "cell_type": "code",
   "execution_count": 5,
   "id": "b7ce933d",
   "metadata": {
    "execution": {
     "iopub.execute_input": "2023-11-13T20:43:33.627648Z",
     "iopub.status.busy": "2023-11-13T20:43:33.627000Z",
     "iopub.status.idle": "2023-11-13T20:43:36.107272Z",
     "shell.execute_reply": "2023-11-13T20:43:36.105980Z"
    },
    "papermill": {
     "duration": 2.492371,
     "end_time": "2023-11-13T20:43:36.109878",
     "exception": false,
     "start_time": "2023-11-13T20:43:33.617507",
     "status": "completed"
    },
    "tags": []
   },
   "outputs": [
    {
     "data": {
      "image/png": "[encoded data removed]",
      "text/plain": [
       "<Figure size 640x480 with 1 Axes>"
      ]
     },
     "metadata": {},
     "output_type": "display_data"
    }
   ],
   "source": [
    "import matplotlib.pyplot as plt\n",
    "import numpy as np\n",
    "from nltk.corpus import stopwords\n",
    "\n",
    "\"\"\"\n",
    "a method that takes in text from the data set and checks if the text has stops words \n",
    "if so then it adds it to a dictionary. After the entire dataset is read the method then\n",
    "Plots the dictionary with all of the stopwords into a bar graph\n",
    "\"\"\"\n",
    "def plot_top_stopwords_barchart(text):\n",
    "    stop=set(stopwords.words('english'))\n",
    "    \n",
    "    new= text.str.split()\n",
    "    new=new.values.tolist()\n",
    "    corpus=[word for i in new for word in i]\n",
    "    from collections import defaultdict\n",
    "    dic=defaultdict(int)\n",
    "    for word in corpus:\n",
    "        if word in stop:\n",
    "            dic[word]+=1\n",
    "            \n",
    "    top=sorted(dic.items(), key=lambda x:x[1],reverse=True)[:10] \n",
    "    x,y=zip(*top)\n",
    "    plt.bar(x,y)\n",
    "\n",
    "plot_top_stopwords_barchart(cyberBullying['Text'])"
   ]
  },
  {
   "cell_type": "markdown",
   "id": "145b1adb",
   "metadata": {
    "papermill": {
     "duration": 0.008221,
     "end_time": "2023-11-13T20:43:36.126694",
     "exception": false,
     "start_time": "2023-11-13T20:43:36.118473",
     "status": "completed"
    },
    "tags": []
   },
   "source": [
    "We can see that the top 3 most used stop words words are 'you', 'the', and 'a'.  About 3000 or more tweets contain these words.  "
   ]
  },
  {
   "cell_type": "markdown",
   "id": "264a76c4",
   "metadata": {
    "papermill": {
     "duration": 0.008138,
     "end_time": "2023-11-13T20:43:36.143273",
     "exception": false,
     "start_time": "2023-11-13T20:43:36.135135",
     "status": "completed"
    },
    "tags": []
   },
   "source": [
    "Now that we have the most common words that are in the dataset lets look at the non-stopwords which are the words that least common.  This will help us see what the words that most commonly used that are not stops words like (the, a, to, etc.)\n",
    "\n",
    "\n",
    "**TRIGGER WARNING**\n",
    "\n",
    "\n",
    "Some of the words you may see next may contain vulgar words "
   ]
  },
  {
   "cell_type": "code",
   "execution_count": 6,
   "id": "51afddba",
   "metadata": {
    "execution": {
     "iopub.execute_input": "2023-11-13T20:43:36.162730Z",
     "iopub.status.busy": "2023-11-13T20:43:36.162306Z",
     "iopub.status.idle": "2023-11-13T20:43:37.019829Z",
     "shell.execute_reply": "2023-11-13T20:43:37.018855Z"
    },
    "papermill": {
     "duration": 0.870796,
     "end_time": "2023-11-13T20:43:37.022446",
     "exception": false,
     "start_time": "2023-11-13T20:43:36.151650",
     "status": "completed"
    },
    "tags": []
   },
   "outputs": [
    {
     "data": {
      "image/png": "[encoded data removed]",
      "text/plain": [
       "<Figure size 640x480 with 1 Axes>"
      ]
     },
     "metadata": {},
     "output_type": "display_data"
    }
   ],
   "source": [
    "import seaborn as sns\n",
    "#from nltk.corpus import stopwords\n",
    "from collections import Counter\n",
    "\n",
    "\"\"\"\n",
    "A method utilizing a module called counter to search for non-stop words\n",
    "If the word is not a stop word , the word is appended in a 2D array\n",
    "At the end a bargraph is made with the 2D array\n",
    "\"\"\"\n",
    "def plot_top_non_stopwords_barchart(text):\n",
    "    stop=set(stopwords.words('english'))\n",
    "    \n",
    "    new= text.str.split()\n",
    "    new=new.values.tolist()\n",
    "    corpus=[word for i in new for word in i]\n",
    "\n",
    "    counter=Counter(corpus)\n",
    "    most=counter.most_common()\n",
    "    x, y=[], []\n",
    "    for word,count in most[:40]:\n",
    "        if (word not in stop):\n",
    "            x.append(word)\n",
    "            y.append(count)\n",
    "            \n",
    "    sns.barplot(x=y,y=x)\n",
    "    \n",
    "\n",
    "plot_top_non_stopwords_barchart(cyberBullying['Text'])"
   ]
  },
  {
   "cell_type": "markdown",
   "id": "0e10317c",
   "metadata": {
    "papermill": {
     "duration": 0.009122,
     "end_time": "2023-11-13T20:43:37.040487",
     "exception": false,
     "start_time": "2023-11-13T20:43:37.031365",
     "status": "completed"
    },
    "tags": []
   },
   "source": [
    "Based on this bar graph we can see that the word \"I\" is the most common non-stop word with about 3500 tweets containing it.  Next is the word 'hate' that is 1250 tweets.  Interestingly the most used vulguar word is 'ass' and 'damn' (if you count damn as a vulgar word)."
   ]
  },
  {
   "cell_type": "markdown",
   "id": "20973583",
   "metadata": {
    "papermill": {
     "duration": 0.00876,
     "end_time": "2023-11-13T20:43:37.057923",
     "exception": false,
     "start_time": "2023-11-13T20:43:37.049163",
     "status": "completed"
    },
    "tags": []
   },
   "source": [
    "Now lets make an ngram to look sequences of words.  The way this will work is that a sequence of words can be n long. For example the sequence 'the three muskteers' would be n = 3 and something like 'you are' would be n = 2.  This will help us to see what the most common sequence of words.  Let's show the sequences for n = 2 and n = 3.\n",
    "\n",
    "For n = 2: we get the following graph"
   ]
  },
  {
   "cell_type": "code",
   "execution_count": 7,
   "id": "65b3f379",
   "metadata": {
    "execution": {
     "iopub.execute_input": "2023-11-13T20:43:37.077155Z",
     "iopub.status.busy": "2023-11-13T20:43:37.076764Z",
     "iopub.status.idle": "2023-11-13T20:43:38.588851Z",
     "shell.execute_reply": "2023-11-13T20:43:38.587516Z"
    },
    "papermill": {
     "duration": 1.526199,
     "end_time": "2023-11-13T20:43:38.592754",
     "exception": false,
     "start_time": "2023-11-13T20:43:37.066555",
     "status": "completed"
    },
    "tags": []
   },
   "outputs": [
    {
     "data": {
      "image/png": "[encoded data removed]",
      "text/plain": [
       "<Figure size 640x480 with 1 Axes>"
      ]
     },
     "metadata": {},
     "output_type": "display_data"
    }
   ],
   "source": [
    "from sklearn.feature_extraction.text import CountVectorizer\n",
    "from collections import  Counter\n",
    "\n",
    "\"\"\"\n",
    "Method that plots a barchart for the sequences of words\n",
    "\"\"\"\n",
    "def plot_top_ngrams_barchart(text, n=2):\n",
    "    stop=set(stopwords.words('english'))\n",
    "\n",
    "    new= text.str.split()\n",
    "    new=new.values.tolist()\n",
    "    corpus=[word for i in new for word in i]\n",
    "    \n",
    "    \"\"\"\n",
    "    Getter to get the top sequences of words based on what n is equal to\n",
    "    \"\"\"\n",
    "    def _get_top_ngram(corpus, n=None):\n",
    "        vec = CountVectorizer(ngram_range=(n, n)).fit(corpus)\n",
    "        bag_of_words = vec.transform(corpus)\n",
    "        sum_words = bag_of_words.sum(axis=0) \n",
    "        words_freq = [(word, sum_words[0, idx]) \n",
    "                      for word, idx in vec.vocabulary_.items()]\n",
    "        words_freq =sorted(words_freq, key = lambda x: x[1], reverse=True)\n",
    "        return words_freq[:10]\n",
    "\n",
    "    top_n_bigrams=_get_top_ngram(text,n)[:10]\n",
    "    x,y=map(list,zip(*top_n_bigrams))\n",
    "    sns.barplot(x=y,y=x)\n",
    "    \n",
    "plot_top_ngrams_barchart(cyberBullying['Text'],2)"
   ]
  },
  {
   "cell_type": "markdown",
   "id": "5836a9ad",
   "metadata": {
    "papermill": {
     "duration": 0.008754,
     "end_time": "2023-11-13T20:43:38.611129",
     "exception": false,
     "start_time": "2023-11-13T20:43:38.602375",
     "status": "completed"
    },
    "tags": []
   },
   "source": [
    "For n = 3 we get the following graph"
   ]
  },
  {
   "cell_type": "code",
   "execution_count": 8,
   "id": "400e229d",
   "metadata": {
    "execution": {
     "iopub.execute_input": "2023-11-13T20:43:38.631295Z",
     "iopub.status.busy": "2023-11-13T20:43:38.630880Z",
     "iopub.status.idle": "2023-11-13T20:43:40.453933Z",
     "shell.execute_reply": "2023-11-13T20:43:40.453097Z"
    },
    "papermill": {
     "duration": 1.835807,
     "end_time": "2023-11-13T20:43:40.456101",
     "exception": false,
     "start_time": "2023-11-13T20:43:38.620294",
     "status": "completed"
    },
    "tags": []
   },
   "outputs": [
    {
     "data": {
      "image/png": "[encoded data removed]",
      "text/plain": [
       "<Figure size 640x480 with 1 Axes>"
      ]
     },
     "metadata": {},
     "output_type": "display_data"
    }
   ],
   "source": [
    "plot_top_ngrams_barchart(cyberBullying['Text'],3)"
   ]
  },
  {
   "cell_type": "markdown",
   "id": "45e56a9a",
   "metadata": {
    "papermill": {
     "duration": 0.009006,
     "end_time": "2023-11-13T20:43:40.474695",
     "exception": false,
     "start_time": "2023-11-13T20:43:40.465689",
     "status": "completed"
    },
    "tags": []
   },
   "source": [
    "Now this gives us a better look at some of the tweets look like and the amount of combinations of words that commonly used when n is 2.  We can see the phrase 'you are' is in about 550 tweets and the phrase 'you re' is the second common seen in about 420 tweets.  For n = 3 we can see the sequencec 'u2026 u2026 u2026' is the most used pharse with about 100 tweets containing it.  We can also see when n = 3 that there are urls are in this dataset like 'http tinyurl com' and 'http twitpic com'.  We can also see some potenitally harmful sequences like 'the fuck up' and 'you are an', 'fake fake fake', and even 'go back to' are all potentially harmful sequences of words that we want our model to recognize\n",
    "\n",
    "By seeing the sequences and non-stop words we can start to see which combinations in this language can contribute to a harmful comment.  We can see that if we combine the sequence 'you are' and the non-stop word 'ass' we can get a potentially harmful comment 'you are ass'. By breaking the data set into stop-words, non-stop-words and sequences we start to recognize patterns in the dataset that can potentially help us train a model to recognize these patterns."
   ]
  }
 ],
 "metadata": {
  "kernelspec": {
   "display_name": "Python 3",
   "language": "python",
   "name": "python3"
  },
  "language_info": {
   "codemirror_mode": {
    "name": "ipython",
    "version": 3
   },
   "file_extension": ".py",
   "mimetype": "text/x-python",
   "name": "python",
   "nbconvert_exporter": "python",
   "pygments_lexer": "ipython3",
   "version": "3.10.12"
  },
  "papermill": {
   "default_parameters": {},
   "duration": 13.994571,
   "end_time": "2023-11-13T20:43:41.204747",
   "environment_variables": {},
   "exception": null,
   "input_path": "__notebook__.ipynb",
   "output_path": "__notebook__.ipynb",
   "parameters": {},
   "start_time": "2023-11-13T20:43:27.210176",
   "version": "2.4.0"
  }
 },
 "nbformat": 4,
 "nbformat_minor": 5
}
