{
 "cells": [
  {
   "cell_type": "markdown",
   "id": "e03118db",
   "metadata": {
    "papermill": {
     "duration": 0.007071,
     "end_time": "2023-11-11T21:36:13.432105",
     "exception": false,
     "start_time": "2023-11-11T21:36:13.425034",
     "status": "completed"
    },
    "tags": []
   },
   "source": [
    "# Project Part 1\n",
    "Link 1 goes to original project\n",
    "\n",
    "Link 2 goes to main branch project \n",
    "\n",
    "Link 3 goes to feature branch project\n",
    "\n",
    "[![Kaggle](https://kaggle.com/static/images/open-in-kaggle.svg)](https://kaggle.com/kernels/welcome?src=https://github.com/sgeinitz/CS39AA-project/blob/main/project_part1.ipynb)\n",
    "\n",
    "[![Kaggle](https://kaggle.com/static/images/open-in-kaggle.svg)](https://kaggle.com/kernels/welcome?src=https://github.com/Matthew-Bustamante/CS39AA-Project-Cyberbullying/blob/main/project_part1.ipynb)\n",
    "\n",
    "[![Kaggle](https://kaggle.com/static/images/open-in-kaggle.svg)](https://kaggle.com/kernels/welcome?src=https://github.com/Matthew-Bustamante/CS39AA-Project-Cyberbullying/blob/inputing-data/project_part1.ipynb)\n",
    "\n",
    "[![Open In Colab](https://colab.research.google.com/assets/colab-badge.svg)](https://colab.research.google.com/github/sgeinitz/CS39AA-project/blob/main/project_part1.ipynb)\n",
    "\n",
    "This notebook is intended to serve as a template to complete Part 1 of the projects. Feel free to modify this notebook as needed, but be sure to have the two main parts, a) a introductory proposal section describing what it is your doing to do and where the dataset originates, and b) an exploratory analysis section that has the histograms, charts, tables, etc. that are the output from your exploratory analysis. \n",
    "\n",
    "__Note you will want to remove the text above, and in the markdown cells below, and replace it with your own text describing the dataset, task, exploratory steps, etc.__"
   ]
  },
  {
   "cell_type": "markdown",
   "id": "6b37bffe",
   "metadata": {
    "papermill": {
     "duration": 0.004043,
     "end_time": "2023-11-11T21:36:13.440593",
     "exception": false,
     "start_time": "2023-11-11T21:36:13.436550",
     "status": "completed"
    },
    "tags": []
   },
   "source": [
    "## 1. Introduction/Background\n",
    "\n",
    "_In this section you will describe (in English) the dataset you are using as well as the NLP problem it deals with. For example, if you are planning to use the Twitter Natural Disaster dataset, then you will describe what the data and where it came as if you were explaining it to someone who does not know anything about the data. You will then describe how this is a __text classification__ problem, and that the labels are binary (e.g. a tweet either refers to a genuine/real natural disaster, or it does not)._ \n",
    "\n",
    "_Overall, this should be about a paragraph of text that could be read by someone outside of our class, and they could still understand what it is your project is doing._ \n",
    "\n",
    "_Note that you should __not__ simply write one sentence stating, \"This project is base on the Kaggle competition: Predicting Natural Disasters with Twitter._\"\n",
    "\n",
    "_If you are still looking for datasets to use, consider the following resources to explore text datasets._\n",
    "\n",
    "* https://huggingface.co/datasets/\n",
    "* https://www.kaggle.com/datasets\n",
    "* https://data-flair.training/blogs/machine-learning-datasets/ \n",
    "* https://pytorch.org/text/stable/datasets.html\n",
    "* https://github.com/niderhoff/nlp-datasets \n",
    "* https://medium.com/@ODSC/20-open-datasets-for-natural-language-processing-538fbfaf8e38 \n",
    "* https://imerit.net/blog/25-best-nlp-datasets-for-machine-learning-all-pbm/ \n",
    "\n",
    "\n",
    "_If you instead are planning to do a more research-oriented or applied type of project, then describe what it is that you plan to do._\n",
    "\n",
    "_If it is research, then what do you want to understand/explain better?_\n",
    "\n",
    "_If it is applied, then what it is you plan to build?_ "
   ]
  },
  {
   "cell_type": "markdown",
   "id": "a5d4ae34",
   "metadata": {
    "papermill": {
     "duration": 0.004055,
     "end_time": "2023-11-11T21:36:13.449023",
     "exception": false,
     "start_time": "2023-11-11T21:36:13.444968",
     "status": "completed"
    },
    "tags": []
   },
   "source": [
    "Cyberbullying is a huge problem in the social media space. Due to social media's ubiquity means that cyberbullying can happen anytime, anywhere, and is anonomoyous which means that cyberbullying can have a greater affect on students than other forms of bullying.  This dataset contains about 11099 unique tweets, and is binary as the data is sorted into cyberbullying and non-cyberbullying.\n",
    "\n",
    "\n",
    "The NLP problem this data set is trying to solve is to identitfy a tweet and flag it as a potentially harmful.  This is a text classification problem as it requires you to classify text as either cyberbully or non-cyberbullying\n",
    "\n",
    "What I plan to do for this project is to build a baseline model to better understand the dataset, and then use an exisiting NLP model and fine tune it to get it as accurate as possible.  I have noticed that some models are pretty low in accuracy using this dataset and I want to try to improve that as well as learn why that is the case and what are the challenges for trying to learn hateful comments."
   ]
  },
  {
   "cell_type": "markdown",
   "id": "092a6b46",
   "metadata": {
    "papermill": {
     "duration": 0.00404,
     "end_time": "2023-11-11T21:36:13.457350",
     "exception": false,
     "start_time": "2023-11-11T21:36:13.453310",
     "status": "completed"
    },
    "tags": []
   },
   "source": [
    "## 2. Exploratory Data Analysis\n",
    "\n",
    "_You will now load the dataset and carry out some exploratory data analysis steps to better understand what text data looks like. See the examples from class on 10/. The following links provide some good resources of exploratory analyses of text data with Python._\n",
    "\n",
    "\n",
    "* https://neptune.ai/blog/exploratory-data-analysis-natural-language-processing-tools\n",
    "* https://regenerativetoday.com/exploratory-data-analysis-of-text-data-including-visualization-and-sentiment-analysis/\n",
    "* https://medium.com/swlh/text-summarization-guide-exploratory-data-analysis-on-text-data-4e22ce2dd6ad  \n",
    "* https://www.kdnuggets.com/2019/05/complete-exploratory-data-analysis-visualization-text-data.html  \n"
   ]
  },
  {
   "cell_type": "code",
   "execution_count": 1,
   "id": "568d3525",
   "metadata": {
    "execution": {
     "iopub.execute_input": "2023-11-11T21:36:13.468418Z",
     "iopub.status.busy": "2023-11-11T21:36:13.467697Z",
     "iopub.status.idle": "2023-11-11T21:36:14.415995Z",
     "shell.execute_reply": "2023-11-11T21:36:14.415067Z"
    },
    "papermill": {
     "duration": 0.956493,
     "end_time": "2023-11-11T21:36:14.418279",
     "exception": false,
     "start_time": "2023-11-11T21:36:13.461786",
     "status": "completed"
    },
    "tags": []
   },
   "outputs": [
    {
     "name": "stdout",
     "output_type": "stream",
     "text": [
      "/kaggle/input/cyberbullying-classification/cyberbullying_tweets.csv\n"
     ]
    }
   ],
   "source": [
    "# import all of the python modules/packages you'll need here\n",
    "import pandas as pd\n",
    "import numpy as np\n",
    "import os\n",
    "# ...\n",
    "#to list the directory for the input data\n",
    "for dirname, _, filenames in os.walk('/kaggle/input'):\n",
    "    for filename in filenames:\n",
    "        print(os.path.join(dirname, filename))\n"
   ]
  },
  {
   "cell_type": "markdown",
   "id": "576df1ac",
   "metadata": {
    "papermill": {
     "duration": 0.004218,
     "end_time": "2023-11-11T21:36:14.427398",
     "exception": false,
     "start_time": "2023-11-11T21:36:14.423180",
     "status": "completed"
    },
    "tags": []
   },
   "source": [
    "Here we are reading the csv file and here you can look at what the data looks like, we can see that the data is sorted into two categories not_cyberbullying and cyberbullying"
   ]
  },
  {
   "cell_type": "code",
   "execution_count": 2,
   "id": "8e498d6d",
   "metadata": {
    "execution": {
     "iopub.execute_input": "2023-11-11T21:36:14.437920Z",
     "iopub.status.busy": "2023-11-11T21:36:14.437441Z",
     "iopub.status.idle": "2023-11-11T21:36:14.790939Z",
     "shell.execute_reply": "2023-11-11T21:36:14.789603Z"
    },
    "papermill": {
     "duration": 0.361637,
     "end_time": "2023-11-11T21:36:14.793463",
     "exception": false,
     "start_time": "2023-11-11T21:36:14.431826",
     "status": "completed"
    },
    "tags": []
   },
   "outputs": [
    {
     "data": {
      "text/html": [
       "<div>\n",
       "<style scoped>\n",
       "    .dataframe tbody tr th:only-of-type {\n",
       "        vertical-align: middle;\n",
       "    }\n",
       "\n",
       "    .dataframe tbody tr th {\n",
       "        vertical-align: top;\n",
       "    }\n",
       "\n",
       "    .dataframe thead th {\n",
       "        text-align: right;\n",
       "    }\n",
       "</style>\n",
       "<table border=\"1\" class=\"dataframe\">\n",
       "  <thead>\n",
       "    <tr style=\"text-align: right;\">\n",
       "      <th></th>\n",
       "      <th>Text</th>\n",
       "      <th>CB_Label</th>\n",
       "    </tr>\n",
       "  </thead>\n",
       "  <tbody>\n",
       "    <tr>\n",
       "      <th>0</th>\n",
       "      <td>damn there is someones nana up here at beach w...</td>\n",
       "      <td>0</td>\n",
       "    </tr>\n",
       "    <tr>\n",
       "      <th>1</th>\n",
       "      <td>no kidding! dick clark was a corpse mechanical...</td>\n",
       "      <td>0</td>\n",
       "    </tr>\n",
       "    <tr>\n",
       "      <th>2</th>\n",
       "      <td>i read an article on jobros and thought damn w...</td>\n",
       "      <td>0</td>\n",
       "    </tr>\n",
       "  </tbody>\n",
       "</table>\n",
       "</div>"
      ],
      "text/plain": [
       "                                                Text  CB_Label\n",
       "0  damn there is someones nana up here at beach w...         0\n",
       "1  no kidding! dick clark was a corpse mechanical...         0\n",
       "2  i read an article on jobros and thought damn w...         0"
      ]
     },
     "execution_count": 2,
     "metadata": {},
     "output_type": "execute_result"
    }
   ],
   "source": [
    "#input_data_path = https://raw.githubusercontent.com/sgeinitz/CS39AA/main/data/trainB1.csv\n",
    "input_data_path = 'https://raw.githubusercontent.com/Matthew-Bustamante/CS39AA-Project-Cyberbullying/main/CyberBullying_Comments_Dataset.csv'\n",
    "\n",
    "cyberBullying = pd.read_csv(input_data_path, nrows=10000)\n",
    "cyberBullying.head(3)"
   ]
  },
  {
   "cell_type": "code",
   "execution_count": 3,
   "id": "6af40192",
   "metadata": {
    "execution": {
     "iopub.execute_input": "2023-11-11T21:36:14.805547Z",
     "iopub.status.busy": "2023-11-11T21:36:14.805100Z",
     "iopub.status.idle": "2023-11-11T21:36:15.073408Z",
     "shell.execute_reply": "2023-11-11T21:36:15.072004Z"
    },
    "papermill": {
     "duration": 0.277118,
     "end_time": "2023-11-11T21:36:15.075832",
     "exception": false,
     "start_time": "2023-11-11T21:36:14.798714",
     "status": "completed"
    },
    "tags": []
   },
   "outputs": [
    {
     "data": {
      "text/plain": [
       "<Axes: >"
      ]
     },
     "execution_count": 3,
     "metadata": {},
     "output_type": "execute_result"
    },
    {
     "data": {
      "image/png": "[encoded data removed]",
      "text/plain": [
       "<Figure size 640x480 with 1 Axes>"
      ]
     },
     "metadata": {},
     "output_type": "display_data"
    }
   ],
   "source": [
    "cyberBullying['Text'].str.len().hist()"
   ]
  },
  {
   "cell_type": "markdown",
   "id": "9334b3a7",
   "metadata": {
    "papermill": {
     "duration": 0.004743,
     "end_time": "2023-11-11T21:36:15.085816",
     "exception": false,
     "start_time": "2023-11-11T21:36:15.081073",
     "status": "completed"
    },
    "tags": []
   },
   "source": [
    "We can see that majority of these tweets are between 0 and 400 charaters.  "
   ]
  },
  {
   "cell_type": "markdown",
   "id": "292ac895",
   "metadata": {
    "papermill": {
     "duration": 0.004584,
     "end_time": "2023-11-11T21:36:15.095411",
     "exception": false,
     "start_time": "2023-11-11T21:36:15.090827",
     "status": "completed"
    },
    "tags": []
   },
   "source": [
    "Now lets see how many words are formed from these characters"
   ]
  },
  {
   "cell_type": "code",
   "execution_count": 4,
   "id": "aca6392a",
   "metadata": {
    "execution": {
     "iopub.execute_input": "2023-11-11T21:36:15.106753Z",
     "iopub.status.busy": "2023-11-11T21:36:15.106394Z",
     "iopub.status.idle": "2023-11-11T21:36:15.337094Z",
     "shell.execute_reply": "2023-11-11T21:36:15.336072Z"
    },
    "papermill": {
     "duration": 0.239768,
     "end_time": "2023-11-11T21:36:15.340003",
     "exception": false,
     "start_time": "2023-11-11T21:36:15.100235",
     "status": "completed"
    },
    "tags": []
   },
   "outputs": [
    {
     "data": {
      "image/png": "[encoded data removed]",
      "text/plain": [
       "<Figure size 640x480 with 1 Axes>"
      ]
     },
     "metadata": {},
     "output_type": "display_data"
    }
   ],
   "source": [
    "#cyberBullying['tweet_text'].map(lambda x: len(x)).hist()\n",
    "\n",
    "\"\"\"\n",
    "A method that takes in the dataset and divides up the words into characters and plots the frequecny\n",
    "of each character to a histogram\n",
    "\"\"\"\n",
    "def wordNumberHistogram(text):\n",
    "    text.str.split().\\\n",
    "        map(lambda x: len(x)).\\\n",
    "        hist()\n",
    "    \n",
    "wordNumberHistogram(cyberBullying['Text'])"
   ]
  },
  {
   "cell_type": "markdown",
   "id": "374c3278",
   "metadata": {
    "papermill": {
     "duration": 0.004975,
     "end_time": "2023-11-11T21:36:15.350518",
     "exception": false,
     "start_time": "2023-11-11T21:36:15.345543",
     "status": "completed"
    },
    "tags": []
   },
   "source": [
    "We can see that majority of these tweets fall between 1 and 70 words which makes sense as tweets are suppose to be short and concise"
   ]
  },
  {
   "cell_type": "code",
   "execution_count": 5,
   "id": "65eb36d4",
   "metadata": {
    "execution": {
     "iopub.execute_input": "2023-11-11T21:36:15.362454Z",
     "iopub.status.busy": "2023-11-11T21:36:15.362132Z",
     "iopub.status.idle": "2023-11-11T21:36:15.686854Z",
     "shell.execute_reply": "2023-11-11T21:36:15.685754Z"
    },
    "papermill": {
     "duration": 0.334598,
     "end_time": "2023-11-11T21:36:15.690212",
     "exception": false,
     "start_time": "2023-11-11T21:36:15.355614",
     "status": "completed"
    },
    "tags": []
   },
   "outputs": [
    {
     "data": {
      "text/plain": [
       "<Axes: >"
      ]
     },
     "execution_count": 5,
     "metadata": {},
     "output_type": "execute_result"
    },
    {
     "data": {
      "image/png": "[encoded data removed]",
      "text/plain": [
       "<Figure size 640x480 with 1 Axes>"
      ]
     },
     "metadata": {},
     "output_type": "display_data"
    }
   ],
   "source": [
    "cyberBullying['Text'].str.split().apply(lambda x : [len(i) for i in x]).map(lambda x: np.mean(x)).hist()"
   ]
  },
  {
   "cell_type": "markdown",
   "id": "5f295f8d",
   "metadata": {
    "papermill": {
     "duration": 0.005306,
     "end_time": "2023-11-11T21:36:15.701268",
     "exception": false,
     "start_time": "2023-11-11T21:36:15.695962",
     "status": "completed"
    },
    "tags": []
   },
   "source": [
    "We can see that these tweets fall between 5 and 25 words.  The majority of these tweets contain about 5 to 15 words.  This makes sense as tweets are usually short and concise"
   ]
  },
  {
   "cell_type": "markdown",
   "id": "63876135",
   "metadata": {
    "papermill": {
     "duration": 0.005165,
     "end_time": "2023-11-11T21:36:15.712009",
     "exception": false,
     "start_time": "2023-11-11T21:36:15.706844",
     "status": "completed"
    },
    "tags": []
   },
   "source": [
    "Let's now see how many stopwords this data set has\n",
    "\n",
    "Stop words are commonly used words that are in a language and it's important to filter them out from less commonly used words so that you can access the least commonly used words. \n",
    "\n",
    "Here we want to see how many stop words are used in these tweets"
   ]
  },
  {
   "cell_type": "code",
   "execution_count": 6,
   "id": "e873474e",
   "metadata": {
    "execution": {
     "iopub.execute_input": "2023-11-11T21:36:15.725177Z",
     "iopub.status.busy": "2023-11-11T21:36:15.724786Z",
     "iopub.status.idle": "2023-11-11T21:36:18.236159Z",
     "shell.execute_reply": "2023-11-11T21:36:18.235039Z"
    },
    "papermill": {
     "duration": 2.520387,
     "end_time": "2023-11-11T21:36:18.238136",
     "exception": false,
     "start_time": "2023-11-11T21:36:15.717749",
     "status": "completed"
    },
    "tags": []
   },
   "outputs": [
    {
     "data": {
      "image/png": "[encoded data removed]",
      "text/plain": [
       "<Figure size 640x480 with 1 Axes>"
      ]
     },
     "metadata": {},
     "output_type": "display_data"
    }
   ],
   "source": [
    "import matplotlib.pyplot as plt\n",
    "import numpy as np\n",
    "from nltk.corpus import stopwords\n",
    "\n",
    "def plot_top_stopwords_barchart(text):\n",
    "    stop=set(stopwords.words('english'))\n",
    "    \n",
    "    new= text.str.split()\n",
    "    new=new.values.tolist()\n",
    "    corpus=[word for i in new for word in i]\n",
    "    from collections import defaultdict\n",
    "    dic=defaultdict(int)\n",
    "    for word in corpus:\n",
    "        if word in stop:\n",
    "            dic[word]+=1\n",
    "            \n",
    "    top=sorted(dic.items(), key=lambda x:x[1],reverse=True)[:10] \n",
    "    x,y=zip(*top)\n",
    "    plt.bar(x,y)\n",
    "\n",
    "plot_top_stopwords_barchart(cyberBullying['Text'])"
   ]
  },
  {
   "cell_type": "markdown",
   "id": "f1d6ff29",
   "metadata": {
    "papermill": {
     "duration": 0.005705,
     "end_time": "2023-11-11T21:36:18.249602",
     "exception": false,
     "start_time": "2023-11-11T21:36:18.243897",
     "status": "completed"
    },
    "tags": []
   },
   "source": [
    "We can see that the top 3 most used stop words words are 'you', 'the', and 'a' and that about 3000 or more tweets contain these words.  "
   ]
  },
  {
   "cell_type": "markdown",
   "id": "d823ad76",
   "metadata": {
    "papermill": {
     "duration": 0.005525,
     "end_time": "2023-11-11T21:36:18.260745",
     "exception": false,
     "start_time": "2023-11-11T21:36:18.255220",
     "status": "completed"
    },
    "tags": []
   },
   "source": [
    "Now that we have the most common words that are in the dataset lets look at the non-stopwords which are the words that least common.  This will help us see what the words that most commonly used that are not stops words like (the, a, to, etc.)\n",
    "\n",
    "\n",
    "**TRIGGER WARNING**\n",
    "\n",
    "\n",
    "Some of the words you may see next are vulgar words "
   ]
  },
  {
   "cell_type": "code",
   "execution_count": 7,
   "id": "b5c07981",
   "metadata": {
    "execution": {
     "iopub.execute_input": "2023-11-11T21:36:18.274725Z",
     "iopub.status.busy": "2023-11-11T21:36:18.274378Z",
     "iopub.status.idle": "2023-11-11T21:36:18.964247Z",
     "shell.execute_reply": "2023-11-11T21:36:18.963178Z"
    },
    "papermill": {
     "duration": 0.699383,
     "end_time": "2023-11-11T21:36:18.966373",
     "exception": false,
     "start_time": "2023-11-11T21:36:18.266990",
     "status": "completed"
    },
    "tags": []
   },
   "outputs": [
    {
     "data": {
      "image/png": "[encoded data removed]",
      "text/plain": [
       "<Figure size 640x480 with 1 Axes>"
      ]
     },
     "metadata": {},
     "output_type": "display_data"
    }
   ],
   "source": [
    "import seaborn as sns\n",
    "#from nltk.corpus import stopwords\n",
    "from collections import Counter\n",
    "\n",
    "def plot_top_non_stopwords_barchart(text):\n",
    "    stop=set(stopwords.words('english'))\n",
    "    \n",
    "    new= text.str.split()\n",
    "    new=new.values.tolist()\n",
    "    corpus=[word for i in new for word in i]\n",
    "\n",
    "    counter=Counter(corpus)\n",
    "    most=counter.most_common()\n",
    "    x, y=[], []\n",
    "    for word,count in most[:40]:\n",
    "        if (word not in stop):\n",
    "            x.append(word)\n",
    "            y.append(count)\n",
    "            \n",
    "    sns.barplot(x=y,y=x)\n",
    "    \n",
    "\n",
    "plot_top_non_stopwords_barchart(cyberBullying['Text'])"
   ]
  },
  {
   "cell_type": "markdown",
   "id": "37671132",
   "metadata": {
    "papermill": {
     "duration": 0.005935,
     "end_time": "2023-11-11T21:36:18.978596",
     "exception": false,
     "start_time": "2023-11-11T21:36:18.972661",
     "status": "completed"
    },
    "tags": []
   },
   "source": [
    "Based on this bar graph we can see that the word \"I\" is the most common non-stop word with about 3500 tweets containing it.  Next is the word 'hate' that is 1250 tweets.  Interstingly the most used vulguar word is 'ass' and 'damn' (if you count damn as a vulgar word)."
   ]
  },
  {
   "cell_type": "markdown",
   "id": "28de79ae",
   "metadata": {
    "papermill": {
     "duration": 0.005484,
     "end_time": "2023-11-11T21:36:18.989826",
     "exception": false,
     "start_time": "2023-11-11T21:36:18.984342",
     "status": "completed"
    },
    "tags": []
   },
   "source": [
    "Now lets make an ngram to look sequences of words.  The way this will work is that a sequence of words can be n long so the sequence 'the three muskteers' would be n = 3 and something like 'you are' would be n = 2.  This will help us to see what the most common sequence of words.  For simplicity we're going to set n to 2."
   ]
  },
  {
   "cell_type": "code",
   "execution_count": 8,
   "id": "eca865e3",
   "metadata": {
    "execution": {
     "iopub.execute_input": "2023-11-11T21:36:19.003180Z",
     "iopub.status.busy": "2023-11-11T21:36:19.002780Z",
     "iopub.status.idle": "2023-11-11T21:36:19.933966Z",
     "shell.execute_reply": "2023-11-11T21:36:19.932402Z"
    },
    "papermill": {
     "duration": 0.941194,
     "end_time": "2023-11-11T21:36:19.936688",
     "exception": false,
     "start_time": "2023-11-11T21:36:18.995494",
     "status": "completed"
    },
    "tags": []
   },
   "outputs": [
    {
     "data": {
      "image/png": "[encoded data removed]",
      "text/plain": [
       "<Figure size 640x480 with 1 Axes>"
      ]
     },
     "metadata": {},
     "output_type": "display_data"
    }
   ],
   "source": [
    "from sklearn.feature_extraction.text import CountVectorizer\n",
    "from collections import  Counter\n",
    "\n",
    "def plot_top_ngrams_barchart(text, n=2):\n",
    "    stop=set(stopwords.words('english'))\n",
    "\n",
    "    new= text.str.split()\n",
    "    new=new.values.tolist()\n",
    "    corpus=[word for i in new for word in i]\n",
    "\n",
    "    def _get_top_ngram(corpus, n=None):\n",
    "        vec = CountVectorizer(ngram_range=(n, n)).fit(corpus)\n",
    "        bag_of_words = vec.transform(corpus)\n",
    "        sum_words = bag_of_words.sum(axis=0) \n",
    "        words_freq = [(word, sum_words[0, idx]) \n",
    "                      for word, idx in vec.vocabulary_.items()]\n",
    "        words_freq =sorted(words_freq, key = lambda x: x[1], reverse=True)\n",
    "        return words_freq[:10]\n",
    "\n",
    "    top_n_bigrams=_get_top_ngram(text,n)[:10]\n",
    "    x,y=map(list,zip(*top_n_bigrams))\n",
    "    sns.barplot(x=y,y=x)\n",
    "    \n",
    "plot_top_ngrams_barchart(cyberBullying['Text'],2)"
   ]
  },
  {
   "cell_type": "markdown",
   "id": "975d1523",
   "metadata": {
    "papermill": {
     "duration": 0.006932,
     "end_time": "2023-11-11T21:36:19.950940",
     "exception": false,
     "start_time": "2023-11-11T21:36:19.944008",
     "status": "completed"
    },
    "tags": []
   },
   "source": [
    "Now this gives us a better look at some of the tweets look like and the amount of combinations of words that commonly used when n is 2.  We can see the phrase 'you are' is in about 550 tweets and the phrase 'you re' is the second common seen in about 420 tweets.  \n",
    "\n",
    "By seeing the sequences we can start to see which sequence of words in this language can contribute to a harmful comment.  We can see that if we combine the sequence 'you are' and the non-stop word 'ass' we can get a potentially harmful comment 'you are ass'. By breaking the data set into stop-words, non-stop-words and sequences we start to recognize patterns in the dataset that can potentially help us train a model to recognize these patterns."
   ]
  }
 ],
 "metadata": {
  "kernelspec": {
   "display_name": "Python 3",
   "language": "python",
   "name": "python3"
  },
  "language_info": {
   "codemirror_mode": {
    "name": "ipython",
    "version": 3
   },
   "file_extension": ".py",
   "mimetype": "text/x-python",
   "name": "python",
   "nbconvert_exporter": "python",
   "pygments_lexer": "ipython3",
   "version": "3.10.12"
  },
  "papermill": {
   "default_parameters": {},
   "duration": 11.015627,
   "end_time": "2023-11-11T21:36:20.679325",
   "environment_variables": {},
   "exception": null,
   "input_path": "__notebook__.ipynb",
   "output_path": "__notebook__.ipynb",
   "parameters": {},
   "start_time": "2023-11-11T21:36:09.663698",
   "version": "2.4.0"
  }
 },
 "nbformat": 4,
 "nbformat_minor": 5
}
