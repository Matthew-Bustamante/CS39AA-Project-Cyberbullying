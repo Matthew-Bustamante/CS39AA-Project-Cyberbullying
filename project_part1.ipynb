{
 "cells": [
  {
   "cell_type": "markdown",
   "id": "777e6ab3",
   "metadata": {
    "papermill": {
     "duration": 0.005199,
     "end_time": "2023-11-02T15:25:33.033992",
     "exception": false,
     "start_time": "2023-11-02T15:25:33.028793",
     "status": "completed"
    },
    "tags": []
   },
   "source": [
    "# Project Part 1\n",
    "Link 1 goes to original project\n",
    "\n",
    "Link 2 goes to main branch project \n",
    "\n",
    "Link 3 goes to feature branch project\n",
    "\n",
    "[![Kaggle](https://kaggle.com/static/images/open-in-kaggle.svg)](https://kaggle.com/kernels/welcome?src=https://github.com/sgeinitz/CS39AA-project/blob/main/project_part1.ipynb)\n",
    "\n",
    "[![Kaggle](https://kaggle.com/static/images/open-in-kaggle.svg)](https://kaggle.com/kernels/welcome?src=https://github.com/Matthew-Bustamante/CS39AA-Project-Cyberbullying/blob/main/project_part1.ipynb)\n",
    "\n",
    "[![Kaggle](https://kaggle.com/static/images/open-in-kaggle.svg)](https://kaggle.com/kernels/welcome?src=https://github.com/Matthew-Bustamante/CS39AA-Project-Cyberbullying/blob/inputing-data/project_part1.ipynb)\n",
    "\n",
    "[![Open In Colab](https://colab.research.google.com/assets/colab-badge.svg)](https://colab.research.google.com/github/sgeinitz/CS39AA-project/blob/main/project_part1.ipynb)\n",
    "\n",
    "This notebook is intended to serve as a template to complete Part 1 of the projects. Feel free to modify this notebook as needed, but be sure to have the two main parts, a) a introductory proposal section describing what it is your doing to do and where the dataset originates, and b) an exploratory analysis section that has the histograms, charts, tables, etc. that are the output from your exploratory analysis. \n",
    "\n",
    "__Note you will want to remove the text above, and in the markdown cells below, and replace it with your own text describing the dataset, task, exploratory steps, etc.__"
   ]
  },
  {
   "cell_type": "markdown",
   "id": "5195de6f",
   "metadata": {
    "papermill": {
     "duration": 0.004434,
     "end_time": "2023-11-02T15:25:33.045452",
     "exception": false,
     "start_time": "2023-11-02T15:25:33.041018",
     "status": "completed"
    },
    "tags": []
   },
   "source": [
    "## 1. Introduction/Background\n",
    "\n",
    "_In this section you will describe (in English) the dataset you are using as well as the NLP problem it deals with. For example, if you are planning to use the Twitter Natural Disaster dataset, then you will describe what the data and where it came as if you were explaining it to someone who does not know anything about the data. You will then describe how this is a __text classification__ problem, and that the labels are binary (e.g. a tweet either refers to a genuine/real natural disaster, or it does not)._ \n",
    "\n",
    "_Overall, this should be about a paragraph of text that could be read by someone outside of our class, and they could still understand what it is your project is doing._ \n",
    "\n",
    "_Note that you should __not__ simply write one sentence stating, \"This project is base on the Kaggle competition: Predicting Natural Disasters with Twitter._\"\n",
    "\n",
    "_If you are still looking for datasets to use, consider the following resources to explore text datasets._\n",
    "\n",
    "* https://huggingface.co/datasets/\n",
    "* https://www.kaggle.com/datasets\n",
    "* https://data-flair.training/blogs/machine-learning-datasets/ \n",
    "* https://pytorch.org/text/stable/datasets.html\n",
    "* https://github.com/niderhoff/nlp-datasets \n",
    "* https://medium.com/@ODSC/20-open-datasets-for-natural-language-processing-538fbfaf8e38 \n",
    "* https://imerit.net/blog/25-best-nlp-datasets-for-machine-learning-all-pbm/ \n",
    "\n",
    "\n",
    "_If you instead are planning to do a more research-oriented or applied type of project, then describe what it is that you plan to do._\n",
    "\n",
    "_If it is research, then what do you want to understand/explain better?_\n",
    "\n",
    "_If it is applied, then what it is you plan to build?_ "
   ]
  },
  {
   "cell_type": "markdown",
   "id": "4bb6ddb8",
   "metadata": {
    "papermill": {
     "duration": 0.004394,
     "end_time": "2023-11-02T15:25:33.054575",
     "exception": false,
     "start_time": "2023-11-02T15:25:33.050181",
     "status": "completed"
    },
    "tags": []
   },
   "source": [
    "THIS IS A TEST"
   ]
  },
  {
   "cell_type": "markdown",
   "id": "b82d55ca",
   "metadata": {
    "papermill": {
     "duration": 0.004352,
     "end_time": "2023-11-02T15:25:33.063623",
     "exception": false,
     "start_time": "2023-11-02T15:25:33.059271",
     "status": "completed"
    },
    "tags": []
   },
   "source": [
    "THIS IS A SECONDARY TEST\n",
    "THIS IS A TERTIARY TEST"
   ]
  },
  {
   "cell_type": "markdown",
   "id": "aac51c5a",
   "metadata": {
    "papermill": {
     "duration": 0.004545,
     "end_time": "2023-11-02T15:25:33.073411",
     "exception": false,
     "start_time": "2023-11-02T15:25:33.068866",
     "status": "completed"
    },
    "tags": []
   },
   "source": [
    "## 2. Exploratory Data Analysis\n",
    "\n",
    "_You will now load the dataset and carry out some exploratory data analysis steps to better understand what text data looks like. See the examples from class on 10/. The following links provide some good resources of exploratory analyses of text data with Python._\n",
    "\n",
    "\n",
    "* https://neptune.ai/blog/exploratory-data-analysis-natural-language-processing-tools\n",
    "* https://regenerativetoday.com/exploratory-data-analysis-of-text-data-including-visualization-and-sentiment-analysis/\n",
    "* https://medium.com/swlh/text-summarization-guide-exploratory-data-analysis-on-text-data-4e22ce2dd6ad  \n",
    "* https://www.kdnuggets.com/2019/05/complete-exploratory-data-analysis-visualization-text-data.html  \n"
   ]
  },
  {
   "cell_type": "code",
   "execution_count": 1,
   "id": "d2cea27e",
   "metadata": {
    "execution": {
     "iopub.execute_input": "2023-11-02T15:25:33.085045Z",
     "iopub.status.busy": "2023-11-02T15:25:33.084496Z",
     "iopub.status.idle": "2023-11-02T15:25:33.526124Z",
     "shell.execute_reply": "2023-11-02T15:25:33.524531Z"
    },
    "papermill": {
     "duration": 0.451136,
     "end_time": "2023-11-02T15:25:33.529318",
     "exception": false,
     "start_time": "2023-11-02T15:25:33.078182",
     "status": "completed"
    },
    "tags": []
   },
   "outputs": [
    {
     "name": "stdout",
     "output_type": "stream",
     "text": [
      "/kaggle/input/cyberbullying-classification/cyberbullying_tweets.csv\n"
     ]
    }
   ],
   "source": [
    "# import all of the python modules/packages you'll need here\n",
    "import pandas as pd\n",
    "import numpy as np\n",
    "import os\n",
    "# ...\n",
    "#to list the directory for the input data\n",
    "for dirname, _, filenames in os.walk('/kaggle/input'):\n",
    "    for filename in filenames:\n",
    "        print(os.path.join(dirname, filename))\n"
   ]
  },
  {
   "cell_type": "markdown",
   "id": "85243ab5",
   "metadata": {
    "papermill": {
     "duration": 0.00454,
     "end_time": "2023-11-02T15:25:33.538999",
     "exception": false,
     "start_time": "2023-11-02T15:25:33.534459",
     "status": "completed"
    },
    "tags": []
   },
   "source": [
    "Here we are reading the csv file and here you can look at what the data looks like, we can see that the data is sorted into two categories not_cyberbullying and cyberbullying"
   ]
  },
  {
   "cell_type": "code",
   "execution_count": 2,
   "id": "d227c239",
   "metadata": {
    "execution": {
     "iopub.execute_input": "2023-11-02T15:25:33.551668Z",
     "iopub.status.busy": "2023-11-02T15:25:33.550097Z",
     "iopub.status.idle": "2023-11-02T15:25:33.723033Z",
     "shell.execute_reply": "2023-11-02T15:25:33.721539Z"
    },
    "papermill": {
     "duration": 0.182055,
     "end_time": "2023-11-02T15:25:33.725929",
     "exception": false,
     "start_time": "2023-11-02T15:25:33.543874",
     "status": "completed"
    },
    "tags": []
   },
   "outputs": [
    {
     "data": {
      "text/html": [
       "<div>\n",
       "<style scoped>\n",
       "    .dataframe tbody tr th:only-of-type {\n",
       "        vertical-align: middle;\n",
       "    }\n",
       "\n",
       "    .dataframe tbody tr th {\n",
       "        vertical-align: top;\n",
       "    }\n",
       "\n",
       "    .dataframe thead th {\n",
       "        text-align: right;\n",
       "    }\n",
       "</style>\n",
       "<table border=\"1\" class=\"dataframe\">\n",
       "  <thead>\n",
       "    <tr style=\"text-align: right;\">\n",
       "      <th></th>\n",
       "      <th>tweet_text</th>\n",
       "      <th>cyberbullying_type</th>\n",
       "    </tr>\n",
       "  </thead>\n",
       "  <tbody>\n",
       "    <tr>\n",
       "      <th>0</th>\n",
       "      <td>In other words #katandandre, your food was cra...</td>\n",
       "      <td>not_cyberbullying</td>\n",
       "    </tr>\n",
       "    <tr>\n",
       "      <th>1</th>\n",
       "      <td>Why is #aussietv so white? #MKR #theblock #ImA...</td>\n",
       "      <td>not_cyberbullying</td>\n",
       "    </tr>\n",
       "    <tr>\n",
       "      <th>2</th>\n",
       "      <td>@XochitlSuckkks a classy whore? Or more red ve...</td>\n",
       "      <td>not_cyberbullying</td>\n",
       "    </tr>\n",
       "  </tbody>\n",
       "</table>\n",
       "</div>"
      ],
      "text/plain": [
       "                                          tweet_text cyberbullying_type\n",
       "0  In other words #katandandre, your food was cra...  not_cyberbullying\n",
       "1  Why is #aussietv so white? #MKR #theblock #ImA...  not_cyberbullying\n",
       "2  @XochitlSuckkks a classy whore? Or more red ve...  not_cyberbullying"
      ]
     },
     "execution_count": 2,
     "metadata": {},
     "output_type": "execute_result"
    }
   ],
   "source": [
    "#input_data_path = https://raw.githubusercontent.com/sgeinitz/CS39AA/main/data/trainB1.csv\n",
    "input_data_path = 'https://raw.githubusercontent.com/Matthew-Bustamante/CS39AA-Project-Cyberbullying/main/cyberbullying_tweets.csv'\n",
    "\n",
    "cyberBullying = pd.read_csv(input_data_path, nrows=10000)\n",
    "cyberBullying.head(3)"
   ]
  },
  {
   "cell_type": "code",
   "execution_count": 3,
   "id": "4a2df100",
   "metadata": {
    "execution": {
     "iopub.execute_input": "2023-11-02T15:25:33.739392Z",
     "iopub.status.busy": "2023-11-02T15:25:33.738984Z",
     "iopub.status.idle": "2023-11-02T15:25:34.127108Z",
     "shell.execute_reply": "2023-11-02T15:25:34.125778Z"
    },
    "papermill": {
     "duration": 0.398472,
     "end_time": "2023-11-02T15:25:34.129828",
     "exception": false,
     "start_time": "2023-11-02T15:25:33.731356",
     "status": "completed"
    },
    "tags": []
   },
   "outputs": [
    {
     "data": {
      "text/plain": [
       "<Axes: >"
      ]
     },
     "execution_count": 3,
     "metadata": {},
     "output_type": "execute_result"
    },
    {
     "data": {
      "image/png": "[encoded data removed]",
      "text/plain": [
       "<Figure size 640x480 with 1 Axes>"
      ]
     },
     "metadata": {},
     "output_type": "display_data"
    }
   ],
   "source": [
    "cyberBullying['tweet_text'].str.len().hist()"
   ]
  },
  {
   "cell_type": "markdown",
   "id": "b2e5df7e",
   "metadata": {
    "papermill": {
     "duration": 0.005814,
     "end_time": "2023-11-02T15:25:34.141347",
     "exception": false,
     "start_time": "2023-11-02T15:25:34.135533",
     "status": "completed"
    },
    "tags": []
   },
   "source": [
    "We can see that majority of these tweets are between 0 and 250 charaters.  We can also see that most tweets fa"
   ]
  },
  {
   "cell_type": "markdown",
   "id": "0b817bc5",
   "metadata": {
    "papermill": {
     "duration": 0.005333,
     "end_time": "2023-11-02T15:25:34.152460",
     "exception": false,
     "start_time": "2023-11-02T15:25:34.147127",
     "status": "completed"
    },
    "tags": []
   },
   "source": [
    "Now lets see how many words are formed from these characters"
   ]
  },
  {
   "cell_type": "code",
   "execution_count": 4,
   "id": "b38eadea",
   "metadata": {
    "execution": {
     "iopub.execute_input": "2023-11-02T15:25:34.165597Z",
     "iopub.status.busy": "2023-11-02T15:25:34.165213Z",
     "iopub.status.idle": "2023-11-02T15:25:34.494329Z",
     "shell.execute_reply": "2023-11-02T15:25:34.492961Z"
    },
    "papermill": {
     "duration": 0.338734,
     "end_time": "2023-11-02T15:25:34.496956",
     "exception": false,
     "start_time": "2023-11-02T15:25:34.158222",
     "status": "completed"
    },
    "tags": []
   },
   "outputs": [
    {
     "data": {
      "text/plain": [
       "<Axes: >"
      ]
     },
     "execution_count": 4,
     "metadata": {},
     "output_type": "execute_result"
    },
    {
     "data": {
      "image/png": "[encoded data removed]",
      "text/plain": [
       "<Figure size 640x480 with 1 Axes>"
      ]
     },
     "metadata": {},
     "output_type": "display_data"
    }
   ],
   "source": [
    "cyberBullying['tweet_text'].map(lambda x: len(x)).hist()"
   ]
  },
  {
   "cell_type": "code",
   "execution_count": 5,
   "id": "9403574a",
   "metadata": {
    "execution": {
     "iopub.execute_input": "2023-11-02T15:25:34.511380Z",
     "iopub.status.busy": "2023-11-02T15:25:34.510965Z",
     "iopub.status.idle": "2023-11-02T15:25:35.055761Z",
     "shell.execute_reply": "2023-11-02T15:25:35.054474Z"
    },
    "papermill": {
     "duration": 0.555877,
     "end_time": "2023-11-02T15:25:35.059027",
     "exception": false,
     "start_time": "2023-11-02T15:25:34.503150",
     "status": "completed"
    },
    "tags": []
   },
   "outputs": [
    {
     "data": {
      "text/plain": [
       "<Axes: >"
      ]
     },
     "execution_count": 5,
     "metadata": {},
     "output_type": "execute_result"
    },
    {
     "data": {
      "image/png": "[encoded data removed]",
      "text/plain": [
       "<Figure size 640x480 with 1 Axes>"
      ]
     },
     "metadata": {},
     "output_type": "display_data"
    }
   ],
   "source": [
    "cyberBullying['tweet_text'].str.split().apply(lambda x : [len(i) for i in x]).map(lambda x: np.mean(x)).hist()"
   ]
  },
  {
   "cell_type": "markdown",
   "id": "3b514e27",
   "metadata": {
    "papermill": {
     "duration": 0.006348,
     "end_time": "2023-11-02T15:25:35.072227",
     "exception": false,
     "start_time": "2023-11-02T15:25:35.065879",
     "status": "completed"
    },
    "tags": []
   },
   "source": [
    "We can see that these tweets fall between 5 and 25 words.  The majority of these tweets contain about 5 to 15 words."
   ]
  }
 ],
 "metadata": {
  "kernelspec": {
   "display_name": "Python 3",
   "language": "python",
   "name": "python3"
  },
  "language_info": {
   "codemirror_mode": {
    "name": "ipython",
    "version": 3
   },
   "file_extension": ".py",
   "mimetype": "text/x-python",
   "name": "python",
   "nbconvert_exporter": "python",
   "pygments_lexer": "ipython3",
   "version": "3.10.12"
  },
  "papermill": {
   "default_parameters": {},
   "duration": 6.472538,
   "end_time": "2023-11-02T15:25:35.601903",
   "environment_variables": {},
   "exception": null,
   "input_path": "__notebook__.ipynb",
   "output_path": "__notebook__.ipynb",
   "parameters": {},
   "start_time": "2023-11-02T15:25:29.129365",
   "version": "2.4.0"
  }
 },
 "nbformat": 4,
 "nbformat_minor": 5
}
