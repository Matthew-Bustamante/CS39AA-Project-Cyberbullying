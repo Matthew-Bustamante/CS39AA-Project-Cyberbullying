{
 "cells": [
  {
   "cell_type": "markdown",
   "id": "270b74e5",
   "metadata": {
    "papermill": {
     "duration": 0.00825,
     "end_time": "2023-11-09T20:48:38.585743",
     "exception": false,
     "start_time": "2023-11-09T20:48:38.577493",
     "status": "completed"
    },
    "tags": []
   },
   "source": [
    "# Project Part 1\n",
    "Link 1 goes to original project\n",
    "\n",
    "Link 2 goes to main branch project \n",
    "\n",
    "Link 3 goes to feature branch project\n",
    "\n",
    "[![Kaggle](https://kaggle.com/static/images/open-in-kaggle.svg)](https://kaggle.com/kernels/welcome?src=https://github.com/sgeinitz/CS39AA-project/blob/main/project_part1.ipynb)\n",
    "\n",
    "[![Kaggle](https://kaggle.com/static/images/open-in-kaggle.svg)](https://kaggle.com/kernels/welcome?src=https://github.com/Matthew-Bustamante/CS39AA-Project-Cyberbullying/blob/main/project_part1.ipynb)\n",
    "\n",
    "[![Kaggle](https://kaggle.com/static/images/open-in-kaggle.svg)](https://kaggle.com/kernels/welcome?src=https://github.com/Matthew-Bustamante/CS39AA-Project-Cyberbullying/blob/inputing-data/project_part1.ipynb)\n",
    "\n",
    "[![Open In Colab](https://colab.research.google.com/assets/colab-badge.svg)](https://colab.research.google.com/github/sgeinitz/CS39AA-project/blob/main/project_part1.ipynb)\n",
    "\n",
    "This notebook is intended to serve as a template to complete Part 1 of the projects. Feel free to modify this notebook as needed, but be sure to have the two main parts, a) a introductory proposal section describing what it is your doing to do and where the dataset originates, and b) an exploratory analysis section that has the histograms, charts, tables, etc. that are the output from your exploratory analysis. \n",
    "\n",
    "__Note you will want to remove the text above, and in the markdown cells below, and replace it with your own text describing the dataset, task, exploratory steps, etc.__"
   ]
  },
  {
   "cell_type": "markdown",
   "id": "438b0adf",
   "metadata": {
    "papermill": {
     "duration": 0.00788,
     "end_time": "2023-11-09T20:48:38.601610",
     "exception": false,
     "start_time": "2023-11-09T20:48:38.593730",
     "status": "completed"
    },
    "tags": []
   },
   "source": [
    "## 1. Introduction/Background\n",
    "\n",
    "_In this section you will describe (in English) the dataset you are using as well as the NLP problem it deals with. For example, if you are planning to use the Twitter Natural Disaster dataset, then you will describe what the data and where it came as if you were explaining it to someone who does not know anything about the data. You will then describe how this is a __text classification__ problem, and that the labels are binary (e.g. a tweet either refers to a genuine/real natural disaster, or it does not)._ \n",
    "\n",
    "_Overall, this should be about a paragraph of text that could be read by someone outside of our class, and they could still understand what it is your project is doing._ \n",
    "\n",
    "_Note that you should __not__ simply write one sentence stating, \"This project is base on the Kaggle competition: Predicting Natural Disasters with Twitter._\"\n",
    "\n",
    "_If you are still looking for datasets to use, consider the following resources to explore text datasets._\n",
    "\n",
    "* https://huggingface.co/datasets/\n",
    "* https://www.kaggle.com/datasets\n",
    "* https://data-flair.training/blogs/machine-learning-datasets/ \n",
    "* https://pytorch.org/text/stable/datasets.html\n",
    "* https://github.com/niderhoff/nlp-datasets \n",
    "* https://medium.com/@ODSC/20-open-datasets-for-natural-language-processing-538fbfaf8e38 \n",
    "* https://imerit.net/blog/25-best-nlp-datasets-for-machine-learning-all-pbm/ \n",
    "\n",
    "\n",
    "_If you instead are planning to do a more research-oriented or applied type of project, then describe what it is that you plan to do._\n",
    "\n",
    "_If it is research, then what do you want to understand/explain better?_\n",
    "\n",
    "_If it is applied, then what it is you plan to build?_ "
   ]
  },
  {
   "cell_type": "markdown",
   "id": "96cdc684",
   "metadata": {
    "papermill": {
     "duration": 0.007359,
     "end_time": "2023-11-09T20:48:38.616766",
     "exception": false,
     "start_time": "2023-11-09T20:48:38.609407",
     "status": "completed"
    },
    "tags": []
   },
   "source": [
    "THIS IS A TEST"
   ]
  },
  {
   "cell_type": "markdown",
   "id": "ad8c1948",
   "metadata": {
    "papermill": {
     "duration": 0.007444,
     "end_time": "2023-11-09T20:48:38.631783",
     "exception": false,
     "start_time": "2023-11-09T20:48:38.624339",
     "status": "completed"
    },
    "tags": []
   },
   "source": [
    "THIS IS A SECONDARY TEST\n",
    "THIS IS A TERTIARY TEST"
   ]
  },
  {
   "cell_type": "markdown",
   "id": "166051be",
   "metadata": {
    "papermill": {
     "duration": 0.007293,
     "end_time": "2023-11-09T20:48:38.646770",
     "exception": false,
     "start_time": "2023-11-09T20:48:38.639477",
     "status": "completed"
    },
    "tags": []
   },
   "source": [
    "## 2. Exploratory Data Analysis\n",
    "\n",
    "_You will now load the dataset and carry out some exploratory data analysis steps to better understand what text data looks like. See the examples from class on 10/. The following links provide some good resources of exploratory analyses of text data with Python._\n",
    "\n",
    "\n",
    "* https://neptune.ai/blog/exploratory-data-analysis-natural-language-processing-tools\n",
    "* https://regenerativetoday.com/exploratory-data-analysis-of-text-data-including-visualization-and-sentiment-analysis/\n",
    "* https://medium.com/swlh/text-summarization-guide-exploratory-data-analysis-on-text-data-4e22ce2dd6ad  \n",
    "* https://www.kdnuggets.com/2019/05/complete-exploratory-data-analysis-visualization-text-data.html  \n"
   ]
  },
  {
   "cell_type": "code",
   "execution_count": 1,
   "id": "25cb54b5",
   "metadata": {
    "execution": {
     "iopub.execute_input": "2023-11-09T20:48:38.665116Z",
     "iopub.status.busy": "2023-11-09T20:48:38.664216Z",
     "iopub.status.idle": "2023-11-09T20:48:39.813946Z",
     "shell.execute_reply": "2023-11-09T20:48:39.812015Z"
    },
    "papermill": {
     "duration": 1.16343,
     "end_time": "2023-11-09T20:48:39.817827",
     "exception": false,
     "start_time": "2023-11-09T20:48:38.654397",
     "status": "completed"
    },
    "tags": []
   },
   "outputs": [
    {
     "name": "stdout",
     "output_type": "stream",
     "text": [
      "/kaggle/input/cyberbullying-classification/cyberbullying_tweets.csv\n"
     ]
    }
   ],
   "source": [
    "# import all of the python modules/packages you'll need here\n",
    "import pandas as pd\n",
    "import numpy as np\n",
    "import os\n",
    "# ...\n",
    "#to list the directory for the input data\n",
    "for dirname, _, filenames in os.walk('/kaggle/input'):\n",
    "    for filename in filenames:\n",
    "        print(os.path.join(dirname, filename))\n"
   ]
  },
  {
   "cell_type": "markdown",
   "id": "25db725f",
   "metadata": {
    "papermill": {
     "duration": 0.007529,
     "end_time": "2023-11-09T20:48:39.833354",
     "exception": false,
     "start_time": "2023-11-09T20:48:39.825825",
     "status": "completed"
    },
    "tags": []
   },
   "source": [
    "Here we are reading the csv file and here you can look at what the data looks like, we can see that the data is sorted into two categories not_cyberbullying and cyberbullying"
   ]
  },
  {
   "cell_type": "code",
   "execution_count": 2,
   "id": "cd7b7b6d",
   "metadata": {
    "execution": {
     "iopub.execute_input": "2023-11-09T20:48:39.851749Z",
     "iopub.status.busy": "2023-11-09T20:48:39.850561Z",
     "iopub.status.idle": "2023-11-09T20:48:40.230581Z",
     "shell.execute_reply": "2023-11-09T20:48:40.229096Z"
    },
    "papermill": {
     "duration": 0.3926,
     "end_time": "2023-11-09T20:48:40.233672",
     "exception": false,
     "start_time": "2023-11-09T20:48:39.841072",
     "status": "completed"
    },
    "tags": []
   },
   "outputs": [
    {
     "data": {
      "text/html": [
       "<div>\n",
       "<style scoped>\n",
       "    .dataframe tbody tr th:only-of-type {\n",
       "        vertical-align: middle;\n",
       "    }\n",
       "\n",
       "    .dataframe tbody tr th {\n",
       "        vertical-align: top;\n",
       "    }\n",
       "\n",
       "    .dataframe thead th {\n",
       "        text-align: right;\n",
       "    }\n",
       "</style>\n",
       "<table border=\"1\" class=\"dataframe\">\n",
       "  <thead>\n",
       "    <tr style=\"text-align: right;\">\n",
       "      <th></th>\n",
       "      <th>tweet_text</th>\n",
       "      <th>cyberbullying_type</th>\n",
       "    </tr>\n",
       "  </thead>\n",
       "  <tbody>\n",
       "    <tr>\n",
       "      <th>0</th>\n",
       "      <td>In other words #katandandre, your food was cra...</td>\n",
       "      <td>not_cyberbullying</td>\n",
       "    </tr>\n",
       "    <tr>\n",
       "      <th>1</th>\n",
       "      <td>Why is #aussietv so white? #MKR #theblock #ImA...</td>\n",
       "      <td>not_cyberbullying</td>\n",
       "    </tr>\n",
       "    <tr>\n",
       "      <th>2</th>\n",
       "      <td>@XochitlSuckkks a classy whore? Or more red ve...</td>\n",
       "      <td>not_cyberbullying</td>\n",
       "    </tr>\n",
       "  </tbody>\n",
       "</table>\n",
       "</div>"
      ],
      "text/plain": [
       "                                          tweet_text cyberbullying_type\n",
       "0  In other words #katandandre, your food was cra...  not_cyberbullying\n",
       "1  Why is #aussietv so white? #MKR #theblock #ImA...  not_cyberbullying\n",
       "2  @XochitlSuckkks a classy whore? Or more red ve...  not_cyberbullying"
      ]
     },
     "execution_count": 2,
     "metadata": {},
     "output_type": "execute_result"
    }
   ],
   "source": [
    "#input_data_path = https://raw.githubusercontent.com/sgeinitz/CS39AA/main/data/trainB1.csv\n",
    "input_data_path = 'https://raw.githubusercontent.com/Matthew-Bustamante/CS39AA-Project-Cyberbullying/main/cyberbullying_tweets.csv'\n",
    "\n",
    "cyberBullying = pd.read_csv(input_data_path, nrows=10000)\n",
    "cyberBullying.head(3)"
   ]
  },
  {
   "cell_type": "code",
   "execution_count": 3,
   "id": "8da09281",
   "metadata": {
    "execution": {
     "iopub.execute_input": "2023-11-09T20:48:40.252927Z",
     "iopub.status.busy": "2023-11-09T20:48:40.252481Z",
     "iopub.status.idle": "2023-11-09T20:48:40.648337Z",
     "shell.execute_reply": "2023-11-09T20:48:40.646810Z"
    },
    "papermill": {
     "duration": 0.408285,
     "end_time": "2023-11-09T20:48:40.651077",
     "exception": false,
     "start_time": "2023-11-09T20:48:40.242792",
     "status": "completed"
    },
    "tags": []
   },
   "outputs": [
    {
     "data": {
      "text/plain": [
       "<Axes: >"
      ]
     },
     "execution_count": 3,
     "metadata": {},
     "output_type": "execute_result"
    },
    {
     "data": {
      "image/png": "[encoded data removed]",
      "text/plain": [
       "<Figure size 640x480 with 1 Axes>"
      ]
     },
     "metadata": {},
     "output_type": "display_data"
    }
   ],
   "source": [
    "cyberBullying['tweet_text'].str.len().hist()"
   ]
  },
  {
   "cell_type": "markdown",
   "id": "ac03b0ba",
   "metadata": {
    "papermill": {
     "duration": 0.008883,
     "end_time": "2023-11-09T20:48:40.668404",
     "exception": false,
     "start_time": "2023-11-09T20:48:40.659521",
     "status": "completed"
    },
    "tags": []
   },
   "source": [
    "We can see that majority of these tweets are between 0 and 300 charaters.  "
   ]
  },
  {
   "cell_type": "markdown",
   "id": "015baa00",
   "metadata": {
    "papermill": {
     "duration": 0.008783,
     "end_time": "2023-11-09T20:48:40.686419",
     "exception": false,
     "start_time": "2023-11-09T20:48:40.677636",
     "status": "completed"
    },
    "tags": []
   },
   "source": [
    "Now lets see how many words are formed from these characters"
   ]
  },
  {
   "cell_type": "code",
   "execution_count": 4,
   "id": "436db2b2",
   "metadata": {
    "execution": {
     "iopub.execute_input": "2023-11-09T20:48:40.707448Z",
     "iopub.status.busy": "2023-11-09T20:48:40.707004Z",
     "iopub.status.idle": "2023-11-09T20:48:41.056072Z",
     "shell.execute_reply": "2023-11-09T20:48:41.054800Z"
    },
    "papermill": {
     "duration": 0.367046,
     "end_time": "2023-11-09T20:48:41.062889",
     "exception": false,
     "start_time": "2023-11-09T20:48:40.695843",
     "status": "completed"
    },
    "tags": []
   },
   "outputs": [
    {
     "data": {
      "image/png": "[encoded data removed]",
      "text/plain": [
       "<Figure size 640x480 with 1 Axes>"
      ]
     },
     "metadata": {},
     "output_type": "display_data"
    }
   ],
   "source": [
    "#cyberBullying['tweet_text'].map(lambda x: len(x)).hist()\n",
    "\n",
    "\"\"\"\n",
    "A method that takes in the dataset and divides up the words into characters and plots the frequecny\n",
    "of each character to a histogram\n",
    "\"\"\"\n",
    "def wordNumberHistogram(text):\n",
    "    text.str.split().\\\n",
    "        map(lambda x: len(x)).\\\n",
    "        hist()\n",
    "    \n",
    "wordNumberHistogram(cyberBullying['tweet_text'])"
   ]
  },
  {
   "cell_type": "markdown",
   "id": "8d092ba2",
   "metadata": {
    "papermill": {
     "duration": 0.00914,
     "end_time": "2023-11-09T20:48:41.081902",
     "exception": false,
     "start_time": "2023-11-09T20:48:41.072762",
     "status": "completed"
    },
    "tags": []
   },
   "source": [
    "We can see that majority of these tweets fall between 1 and 50 words which makes sense as tweets are suppose to be short and concise"
   ]
  },
  {
   "cell_type": "code",
   "execution_count": null,
   "id": "8194d0c1",
   "metadata": {
    "papermill": {
     "duration": 0.008684,
     "end_time": "2023-11-09T20:48:41.099595",
     "exception": false,
     "start_time": "2023-11-09T20:48:41.090911",
     "status": "completed"
    },
    "tags": []
   },
   "outputs": [],
   "source": []
  },
  {
   "cell_type": "code",
   "execution_count": 5,
   "id": "0f4c6f86",
   "metadata": {
    "execution": {
     "iopub.execute_input": "2023-11-09T20:48:41.120234Z",
     "iopub.status.busy": "2023-11-09T20:48:41.119470Z",
     "iopub.status.idle": "2023-11-09T20:48:41.680301Z",
     "shell.execute_reply": "2023-11-09T20:48:41.678951Z"
    },
    "papermill": {
     "duration": 0.575268,
     "end_time": "2023-11-09T20:48:41.683770",
     "exception": false,
     "start_time": "2023-11-09T20:48:41.108502",
     "status": "completed"
    },
    "tags": []
   },
   "outputs": [
    {
     "data": {
      "text/plain": [
       "<Axes: >"
      ]
     },
     "execution_count": 5,
     "metadata": {},
     "output_type": "execute_result"
    },
    {
     "data": {
      "image/png": "[encoded data removed]",
      "text/plain": [
       "<Figure size 640x480 with 1 Axes>"
      ]
     },
     "metadata": {},
     "output_type": "display_data"
    }
   ],
   "source": [
    "cyberBullying['tweet_text'].str.split().apply(lambda x : [len(i) for i in x]).map(lambda x: np.mean(x)).hist()"
   ]
  },
  {
   "cell_type": "markdown",
   "id": "b65cf9c2",
   "metadata": {
    "papermill": {
     "duration": 0.009432,
     "end_time": "2023-11-09T20:48:41.703944",
     "exception": false,
     "start_time": "2023-11-09T20:48:41.694512",
     "status": "completed"
    },
    "tags": []
   },
   "source": [
    "We can see that these tweets fall between 5 and 25 words.  The majority of these tweets contain about 5 to 15 words.  This makes sense as tweets are usually short and concise"
   ]
  },
  {
   "cell_type": "markdown",
   "id": "ac9cc2db",
   "metadata": {
    "papermill": {
     "duration": 0.00954,
     "end_time": "2023-11-09T20:48:41.723445",
     "exception": false,
     "start_time": "2023-11-09T20:48:41.713905",
     "status": "completed"
    },
    "tags": []
   },
   "source": [
    "Let's now see how many stopwords this data set has\n",
    "\n",
    "Stop words are commonly used words that are in a language and it's important to filter them out from less commonly used words so that you can access the least commonly used words. \n",
    "\n",
    "Here we want to see how many stop words are used in these tweets"
   ]
  },
  {
   "cell_type": "code",
   "execution_count": 6,
   "id": "ab71f94c",
   "metadata": {
    "execution": {
     "iopub.execute_input": "2023-11-09T20:48:41.745656Z",
     "iopub.status.busy": "2023-11-09T20:48:41.745138Z",
     "iopub.status.idle": "2023-11-09T20:48:44.914488Z",
     "shell.execute_reply": "2023-11-09T20:48:44.912798Z"
    },
    "papermill": {
     "duration": 3.184955,
     "end_time": "2023-11-09T20:48:44.917988",
     "exception": false,
     "start_time": "2023-11-09T20:48:41.733033",
     "status": "completed"
    },
    "tags": []
   },
   "outputs": [
    {
     "data": {
      "image/png": "[encoded data removed]",
      "text/plain": [
       "<Figure size 640x480 with 1 Axes>"
      ]
     },
     "metadata": {},
     "output_type": "display_data"
    }
   ],
   "source": [
    "import matplotlib.pyplot as plt\n",
    "import numpy as np\n",
    "from nltk.corpus import stopwords\n",
    "\n",
    "def plot_top_stopwords_barchart(text):\n",
    "    stop=set(stopwords.words('english'))\n",
    "    \n",
    "    new= text.str.split()\n",
    "    new=new.values.tolist()\n",
    "    corpus=[word for i in new for word in i]\n",
    "    from collections import defaultdict\n",
    "    dic=defaultdict(int)\n",
    "    for word in corpus:\n",
    "        if word in stop:\n",
    "            dic[word]+=1\n",
    "            \n",
    "    top=sorted(dic.items(), key=lambda x:x[1],reverse=True)[:10] \n",
    "    x,y=zip(*top)\n",
    "    plt.bar(x,y)\n",
    "\n",
    "plot_top_stopwords_barchart(cyberBullying['tweet_text'])"
   ]
  },
  {
   "cell_type": "markdown",
   "id": "8178506f",
   "metadata": {
    "papermill": {
     "duration": 0.011374,
     "end_time": "2023-11-09T20:48:44.940219",
     "exception": false,
     "start_time": "2023-11-09T20:48:44.928845",
     "status": "completed"
    },
    "tags": []
   },
   "source": [
    "We can see that the top 3 most used stop words words are 'the', 'a', and 'to' and that about 3000 or more tweets contain these words.  "
   ]
  },
  {
   "cell_type": "markdown",
   "id": "36ac344e",
   "metadata": {
    "papermill": {
     "duration": 0.009343,
     "end_time": "2023-11-09T20:48:44.959409",
     "exception": false,
     "start_time": "2023-11-09T20:48:44.950066",
     "status": "completed"
    },
    "tags": []
   },
   "source": [
    "Now that we have the most common words that are in the dataset lets look at the non-stopwords which are the words that least common.  This will help us see what the words that most commonly used that are not stops words like (the, a, to, etc.)\n",
    "\n",
    "\n",
    "**TRIGGER WARNING**\n",
    "\n",
    "\n",
    "Some of the words you may see next are vulgar words "
   ]
  },
  {
   "cell_type": "code",
   "execution_count": 7,
   "id": "734ed6c0",
   "metadata": {
    "execution": {
     "iopub.execute_input": "2023-11-09T20:48:44.982886Z",
     "iopub.status.busy": "2023-11-09T20:48:44.981972Z",
     "iopub.status.idle": "2023-11-09T20:48:45.977861Z",
     "shell.execute_reply": "2023-11-09T20:48:45.976526Z"
    },
    "papermill": {
     "duration": 1.011523,
     "end_time": "2023-11-09T20:48:45.980762",
     "exception": false,
     "start_time": "2023-11-09T20:48:44.969239",
     "status": "completed"
    },
    "tags": []
   },
   "outputs": [
    {
     "data": {
      "image/png": "[encoded data removed]",
      "text/plain": [
       "<Figure size 640x480 with 1 Axes>"
      ]
     },
     "metadata": {},
     "output_type": "display_data"
    }
   ],
   "source": [
    "import seaborn as sns\n",
    "#from nltk.corpus import stopwords\n",
    "from collections import Counter\n",
    "\n",
    "def plot_top_non_stopwords_barchart(text):\n",
    "    stop=set(stopwords.words('english'))\n",
    "    \n",
    "    new= text.str.split()\n",
    "    new=new.values.tolist()\n",
    "    corpus=[word for i in new for word in i]\n",
    "\n",
    "    counter=Counter(corpus)\n",
    "    most=counter.most_common()\n",
    "    x, y=[], []\n",
    "    for word,count in most[:40]:\n",
    "        if (word not in stop):\n",
    "            x.append(word)\n",
    "            y.append(count)\n",
    "            \n",
    "    sns.barplot(x=y,y=x)\n",
    "    \n",
    "\n",
    "plot_top_non_stopwords_barchart(cyberBullying['tweet_text'])"
   ]
  },
  {
   "cell_type": "markdown",
   "id": "ac995292",
   "metadata": {
    "papermill": {
     "duration": 0.009702,
     "end_time": "2023-11-09T20:48:46.000739",
     "exception": false,
     "start_time": "2023-11-09T20:48:45.991037",
     "status": "completed"
    },
    "tags": []
   },
   "source": [
    "Based on this bar graph we can see that the word \"I\" and \"RT are used quite often.  \"RT\" stands for retweet so this shows use how many comments are being retweeted which are about 1100.  We can also see an acronymb being used as well called \"MKR\" which based on some research is an acronym for an Austrilian cooking show called \"My Kitchen Rules\".  We can also see some vulgar words being used here as well, so this shows us what kind of words that are potentially being used to cyberbully people."
   ]
  },
  {
   "cell_type": "markdown",
   "id": "69230de6",
   "metadata": {
    "papermill": {
     "duration": 0.009763,
     "end_time": "2023-11-09T20:48:46.020624",
     "exception": false,
     "start_time": "2023-11-09T20:48:46.010861",
     "status": "completed"
    },
    "tags": []
   },
   "source": [
    "Now lets make an ngram to look sequences of words that are together like 'riverbank, or 'the three musketeers' this will help us show more of what's in the data set "
   ]
  },
  {
   "cell_type": "code",
   "execution_count": 8,
   "id": "a8370754",
   "metadata": {
    "execution": {
     "iopub.execute_input": "2023-11-09T20:48:46.044480Z",
     "iopub.status.busy": "2023-11-09T20:48:46.043967Z",
     "iopub.status.idle": "2023-11-09T20:48:47.924950Z",
     "shell.execute_reply": "2023-11-09T20:48:47.923476Z"
    },
    "papermill": {
     "duration": 1.897056,
     "end_time": "2023-11-09T20:48:47.928478",
     "exception": false,
     "start_time": "2023-11-09T20:48:46.031422",
     "status": "completed"
    },
    "tags": []
   },
   "outputs": [
    {
     "data": {
      "image/png": "[encoded data removed]",
      "text/plain": [
       "<Figure size 640x480 with 1 Axes>"
      ]
     },
     "metadata": {},
     "output_type": "display_data"
    }
   ],
   "source": [
    "from sklearn.feature_extraction.text import CountVectorizer\n",
    "from collections import  Counter\n",
    "\n",
    "def plot_top_ngrams_barchart(text, n=2):\n",
    "    stop=set(stopwords.words('english'))\n",
    "\n",
    "    new= text.str.split()\n",
    "    new=new.values.tolist()\n",
    "    corpus=[word for i in new for word in i]\n",
    "\n",
    "    def _get_top_ngram(corpus, n=None):\n",
    "        vec = CountVectorizer(ngram_range=(n, n)).fit(corpus)\n",
    "        bag_of_words = vec.transform(corpus)\n",
    "        sum_words = bag_of_words.sum(axis=0) \n",
    "        words_freq = [(word, sum_words[0, idx]) \n",
    "                      for word, idx in vec.vocabulary_.items()]\n",
    "        words_freq =sorted(words_freq, key = lambda x: x[1], reverse=True)\n",
    "        return words_freq[:10]\n",
    "\n",
    "    top_n_bigrams=_get_top_ngram(text,n)[:10]\n",
    "    x,y=map(list,zip(*top_n_bigrams))\n",
    "    sns.barplot(x=y,y=x)\n",
    "    \n",
    "plot_top_ngrams_barchart(cyberBullying['tweet_text'],2)"
   ]
  },
  {
   "cell_type": "markdown",
   "id": "0c8582e2",
   "metadata": {
    "papermill": {
     "duration": 0.011153,
     "end_time": "2023-11-09T20:48:47.951172",
     "exception": false,
     "start_time": "2023-11-09T20:48:47.940019",
     "status": "completed"
    },
    "tags": []
   },
   "source": [
    "Now this gives us a better look at some of the tweets look like and the amount of combinations of words that commonly used.  We can see 'http co' which looks like companies website or link to something.  The next sequence is 'rape jokes' which about 400 tweets contain this phrase.  The graph shows us that although these vulgur sequences are not as common they still do exist and this graph helps to break down on which vulgur pharse is used most often.  We can see that a lot of vulgur sequences contain phrases relating to sex, which is one the types of cyberbullying, which could mean that the most common type of cyberbullying in this data set is sexual cyberbullying."
   ]
  }
 ],
 "metadata": {
  "kernelspec": {
   "display_name": "Python 3",
   "language": "python",
   "name": "python3"
  },
  "language_info": {
   "codemirror_mode": {
    "name": "ipython",
    "version": 3
   },
   "file_extension": ".py",
   "mimetype": "text/x-python",
   "name": "python",
   "nbconvert_exporter": "python",
   "pygments_lexer": "ipython3",
   "version": "3.10.12"
  },
  "papermill": {
   "default_parameters": {},
   "duration": 15.299857,
   "end_time": "2023-11-09T20:48:49.089597",
   "environment_variables": {},
   "exception": null,
   "input_path": "__notebook__.ipynb",
   "output_path": "__notebook__.ipynb",
   "parameters": {},
   "start_time": "2023-11-09T20:48:33.789740",
   "version": "2.4.0"
  }
 },
 "nbformat": 4,
 "nbformat_minor": 5
}
