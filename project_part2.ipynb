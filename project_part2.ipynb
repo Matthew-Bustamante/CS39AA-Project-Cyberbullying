{
 "cells": [
  {
   "cell_type": "code",
   "execution_count": 1,
   "id": "4619037d",
   "metadata": {
    "_cell_guid": "b1076dfc-b9ad-4769-8c92-a6c4dae69d19",
    "_uuid": "8f2839f25d086af736a60e9eeb907d3b93b6e0e5",
    "execution": {
     "iopub.execute_input": "2023-11-16T16:00:11.584675Z",
     "iopub.status.busy": "2023-11-16T16:00:11.583946Z",
     "iopub.status.idle": "2023-11-16T16:00:12.049450Z",
     "shell.execute_reply": "2023-11-16T16:00:12.048314Z"
    },
    "papermill": {
     "duration": 0.475464,
     "end_time": "2023-11-16T16:00:12.052189",
     "exception": false,
     "start_time": "2023-11-16T16:00:11.576725",
     "status": "completed"
    },
    "tags": []
   },
   "outputs": [],
   "source": [
    "# This Python 3 environment comes with many helpful analytics libraries installed\n",
    "# It is defined by the kaggle/python Docker image: https://github.com/kaggle/docker-python\n",
    "# For example, here's several helpful packages to load\n",
    "\n",
    "import numpy as np # linear algebra\n",
    "import pandas as pd # data processing, CSV file I/O (e.g. pd.read_csv)\n",
    "\n",
    "# Input data files are available in the read-only \"../input/\" directory\n",
    "# For example, running this (by clicking run or pressing Shift+Enter) will list all files under the input directory\n",
    "\n",
    "import os\n",
    "for dirname, _, filenames in os.walk('/kaggle/input'):\n",
    "    for filename in filenames:\n",
    "        print(os.path.join(dirname, filename))\n",
    "\n",
    "# You can write up to 20GB to the current directory (/kaggle/working/) that gets preserved as output when you create a version using \"Save & Run All\" \n",
    "# You can also write temporary files to /kaggle/temp/, but they won't be saved outside of the current session"
   ]
  },
  {
   "cell_type": "code",
   "execution_count": 2,
   "id": "21ee16d4",
   "metadata": {
    "execution": {
     "iopub.execute_input": "2023-11-16T16:00:12.067185Z",
     "iopub.status.busy": "2023-11-16T16:00:12.066289Z",
     "iopub.status.idle": "2023-11-16T16:00:13.114760Z",
     "shell.execute_reply": "2023-11-16T16:00:13.113358Z"
    },
    "papermill": {
     "duration": 1.057593,
     "end_time": "2023-11-16T16:00:13.117481",
     "exception": false,
     "start_time": "2023-11-16T16:00:12.059888",
     "status": "completed"
    },
    "tags": []
   },
   "outputs": [
    {
     "data": {
      "text/html": [
       "<div>\n",
       "<style scoped>\n",
       "    .dataframe tbody tr th:only-of-type {\n",
       "        vertical-align: middle;\n",
       "    }\n",
       "\n",
       "    .dataframe tbody tr th {\n",
       "        vertical-align: top;\n",
       "    }\n",
       "\n",
       "    .dataframe thead th {\n",
       "        text-align: right;\n",
       "    }\n",
       "</style>\n",
       "<table border=\"1\" class=\"dataframe\">\n",
       "  <thead>\n",
       "    <tr style=\"text-align: right;\">\n",
       "      <th></th>\n",
       "      <th>Text</th>\n",
       "      <th>CB_Label</th>\n",
       "    </tr>\n",
       "  </thead>\n",
       "  <tbody>\n",
       "    <tr>\n",
       "      <th>0</th>\n",
       "      <td>damn there is someones nana up here at beach w...</td>\n",
       "      <td>0</td>\n",
       "    </tr>\n",
       "    <tr>\n",
       "      <th>1</th>\n",
       "      <td>no kidding! dick clark was a corpse mechanical...</td>\n",
       "      <td>0</td>\n",
       "    </tr>\n",
       "    <tr>\n",
       "      <th>2</th>\n",
       "      <td>i read an article on jobros and thought damn w...</td>\n",
       "      <td>0</td>\n",
       "    </tr>\n",
       "    <tr>\n",
       "      <th>3</th>\n",
       "      <td>I got one fucking day of sprinkles and now it'...</td>\n",
       "      <td>0</td>\n",
       "    </tr>\n",
       "    <tr>\n",
       "      <th>4</th>\n",
       "      <td>I was already listening to Elliott smith  and ...</td>\n",
       "      <td>0</td>\n",
       "    </tr>\n",
       "  </tbody>\n",
       "</table>\n",
       "</div>"
      ],
      "text/plain": [
       "                                                Text  CB_Label\n",
       "0  damn there is someones nana up here at beach w...         0\n",
       "1  no kidding! dick clark was a corpse mechanical...         0\n",
       "2  i read an article on jobros and thought damn w...         0\n",
       "3  I got one fucking day of sprinkles and now it'...         0\n",
       "4  I was already listening to Elliott smith  and ...         0"
      ]
     },
     "execution_count": 2,
     "metadata": {},
     "output_type": "execute_result"
    }
   ],
   "source": [
    "input_data_path = 'https://raw.githubusercontent.com/Matthew-Bustamante/CS39AA-Project-Cyberbullying/main/'\n",
    "training_data_file = 'CyberBullying_Comments_Dataset.csv'\n",
    "df = pd.read_csv(input_data_path + training_data_file)\n",
    "df.head()"
   ]
  },
  {
   "cell_type": "markdown",
   "id": "2284cb1e",
   "metadata": {
    "papermill": {
     "duration": 0.004469,
     "end_time": "2023-11-16T16:00:13.126930",
     "exception": false,
     "start_time": "2023-11-16T16:00:13.122461",
     "status": "completed"
    },
    "tags": []
   },
   "source": [
    "Splitting the data"
   ]
  },
  {
   "cell_type": "code",
   "execution_count": 3,
   "id": "96ed41dc",
   "metadata": {
    "execution": {
     "iopub.execute_input": "2023-11-16T16:00:13.139503Z",
     "iopub.status.busy": "2023-11-16T16:00:13.138290Z",
     "iopub.status.idle": "2023-11-16T16:00:14.558039Z",
     "shell.execute_reply": "2023-11-16T16:00:14.556802Z"
    },
    "papermill": {
     "duration": 1.429204,
     "end_time": "2023-11-16T16:00:14.561145",
     "exception": false,
     "start_time": "2023-11-16T16:00:13.131941",
     "status": "completed"
    },
    "tags": []
   },
   "outputs": [],
   "source": [
    "from sklearn.model_selection import train_test_split\n",
    "\n",
    "X = df['Text'].copy()\n",
    "y = df['CB_Label'].copy()\n",
    "\n",
    "X_train_raw, X_val_raw, y_train, y_val = train_test_split(X, y, test_size=0.20, random_state=42)"
   ]
  },
  {
   "cell_type": "markdown",
   "id": "d8dfd23f",
   "metadata": {
    "papermill": {
     "duration": 0.004468,
     "end_time": "2023-11-16T16:00:14.570475",
     "exception": false,
     "start_time": "2023-11-16T16:00:14.566007",
     "status": "completed"
    },
    "tags": []
   },
   "source": [
    "Next we're going to vectorize the data"
   ]
  },
  {
   "cell_type": "code",
   "execution_count": 4,
   "id": "09838545",
   "metadata": {
    "execution": {
     "iopub.execute_input": "2023-11-16T16:00:14.582193Z",
     "iopub.status.busy": "2023-11-16T16:00:14.581771Z",
     "iopub.status.idle": "2023-11-16T16:00:15.567944Z",
     "shell.execute_reply": "2023-11-16T16:00:15.566692Z"
    },
    "papermill": {
     "duration": 0.995412,
     "end_time": "2023-11-16T16:00:15.570567",
     "exception": false,
     "start_time": "2023-11-16T16:00:14.575155",
     "status": "completed"
    },
    "tags": []
   },
   "outputs": [
    {
     "name": "stdout",
     "output_type": "stream",
     "text": [
      "X_train.shape = (8880, 15603)\n"
     ]
    },
    {
     "data": {
      "text/plain": [
       "numpy.ndarray"
      ]
     },
     "execution_count": 4,
     "metadata": {},
     "output_type": "execute_result"
    }
   ],
   "source": [
    "from sklearn.feature_extraction.text import TfidfVectorizer\n",
    "\n",
    "tfidf_vectorizer = TfidfVectorizer()\n",
    "X_train = tfidf_vectorizer.fit_transform(X_train_raw).toarray()\n",
    "\n",
    "print(f\"X_train.shape = {X_train.shape}\")\n",
    "type(X_train)"
   ]
  },
  {
   "cell_type": "markdown",
   "id": "e13f08d3",
   "metadata": {
    "papermill": {
     "duration": 0.004894,
     "end_time": "2023-11-16T16:00:15.580652",
     "exception": false,
     "start_time": "2023-11-16T16:00:15.575758",
     "status": "completed"
    },
    "tags": []
   },
   "source": [
    "Now its time to implement a baseline model to the data.  For right now we'll use RandomForestClassifier to get a baseline view of how the data will work"
   ]
  },
  {
   "cell_type": "code",
   "execution_count": 5,
   "id": "eded0d51",
   "metadata": {
    "execution": {
     "iopub.execute_input": "2023-11-16T16:00:15.593253Z",
     "iopub.status.busy": "2023-11-16T16:00:15.592842Z",
     "iopub.status.idle": "2023-11-16T16:00:34.924117Z",
     "shell.execute_reply": "2023-11-16T16:00:34.922857Z"
    },
    "papermill": {
     "duration": 19.340838,
     "end_time": "2023-11-16T16:00:34.926874",
     "exception": false,
     "start_time": "2023-11-16T16:00:15.586036",
     "status": "completed"
    },
    "tags": []
   },
   "outputs": [
    {
     "name": "stdout",
     "output_type": "stream",
     "text": [
      "accuracy (on y_train): 0.9981\n"
     ]
    },
    {
     "data": {
      "image/png": "[encoded data removed]",
      "text/plain": [
       "<Figure size 640x480 with 2 Axes>"
      ]
     },
     "metadata": {},
     "output_type": "display_data"
    }
   ],
   "source": [
    "from sklearn.ensemble import RandomForestClassifier\n",
    "from sklearn.metrics import confusion_matrix, ConfusionMatrixDisplay, accuracy_score\n",
    "\n",
    "model = RandomForestClassifier(n_estimators=25)\n",
    "model = model.fit(X_train, y_train)\n",
    "\n",
    "predictions_train = model.predict(X_train)\n",
    "\n",
    "disp = ConfusionMatrixDisplay(confusion_matrix(y_train, predictions_train), display_labels=['positive', 'negative'])\n",
    "disp.plot()\n",
    "print(f\"accuracy (on y_train): {accuracy_score(y_train, predictions_train):.4f}\")"
   ]
  },
  {
   "cell_type": "markdown",
   "id": "32844857",
   "metadata": {
    "papermill": {
     "duration": 0.005331,
     "end_time": "2023-11-16T16:00:34.937999",
     "exception": false,
     "start_time": "2023-11-16T16:00:34.932668",
     "status": "completed"
    },
    "tags": []
   },
   "source": [
    "Checking to make sure the validation data looks like what we expect it to be"
   ]
  },
  {
   "cell_type": "code",
   "execution_count": 6,
   "id": "9d05f634",
   "metadata": {
    "execution": {
     "iopub.execute_input": "2023-11-16T16:00:34.951891Z",
     "iopub.status.busy": "2023-11-16T16:00:34.951459Z",
     "iopub.status.idle": "2023-11-16T16:00:35.143171Z",
     "shell.execute_reply": "2023-11-16T16:00:35.141979Z"
    },
    "papermill": {
     "duration": 0.201599,
     "end_time": "2023-11-16T16:00:35.145513",
     "exception": false,
     "start_time": "2023-11-16T16:00:34.943914",
     "status": "completed"
    },
    "tags": []
   },
   "outputs": [
    {
     "name": "stdout",
     "output_type": "stream",
     "text": [
      "X_val.shape = (2220, 15603)\n"
     ]
    },
    {
     "data": {
      "text/plain": [
       "numpy.ndarray"
      ]
     },
     "execution_count": 6,
     "metadata": {},
     "output_type": "execute_result"
    }
   ],
   "source": [
    "X_val = tfidf_vectorizer.transform(X_val_raw).toarray()\n",
    "print(f\"X_val.shape = {X_val.shape}\")\n",
    "type(X_val)"
   ]
  },
  {
   "cell_type": "code",
   "execution_count": 7,
   "id": "2fbad14b",
   "metadata": {
    "execution": {
     "iopub.execute_input": "2023-11-16T16:00:35.159801Z",
     "iopub.status.busy": "2023-11-16T16:00:35.158651Z",
     "iopub.status.idle": "2023-11-16T16:00:35.723954Z",
     "shell.execute_reply": "2023-11-16T16:00:35.722740Z"
    },
    "papermill": {
     "duration": 0.575002,
     "end_time": "2023-11-16T16:00:35.726363",
     "exception": false,
     "start_time": "2023-11-16T16:00:35.151361",
     "status": "completed"
    },
    "tags": []
   },
   "outputs": [
    {
     "name": "stdout",
     "output_type": "stream",
     "text": [
      "accuracy (on y_val): 0.7437\n"
     ]
    },
    {
     "data": {
      "image/png": "[encoded data removed]",
      "text/plain": [
       "<Figure size 640x480 with 2 Axes>"
      ]
     },
     "metadata": {},
     "output_type": "display_data"
    }
   ],
   "source": [
    "predictions_val = model.predict(X_val)\n",
    "disp = ConfusionMatrixDisplay(confusion_matrix(y_val, predictions_val), display_labels=['positive','negative'])\n",
    "disp.plot()\n",
    "print(f\"accuracy (on y_val): {accuracy_score(y_val, predictions_val):.4f}\")"
   ]
  },
  {
   "cell_type": "markdown",
   "id": "22463a4a",
   "metadata": {
    "papermill": {
     "duration": 0.006252,
     "end_time": "2023-11-16T16:00:35.739179",
     "exception": false,
     "start_time": "2023-11-16T16:00:35.732927",
     "status": "completed"
    },
    "tags": []
   },
   "source": [
    "So our accuracy for this model is pretty bad with the model having an accuracy of 75%.  Let's see if we can find a hyperparameter that can tune this model to be more accurate."
   ]
  }
 ],
 "metadata": {
  "kaggle": {
   "accelerator": "none",
   "dataSources": [],
   "dockerImageVersionId": 30587,
   "isGpuEnabled": false,
   "isInternetEnabled": true,
   "language": "python",
   "sourceType": "notebook"
  },
  "kernelspec": {
   "display_name": "Python 3",
   "language": "python",
   "name": "python3"
  },
  "language_info": {
   "codemirror_mode": {
    "name": "ipython",
    "version": 3
   },
   "file_extension": ".py",
   "mimetype": "text/x-python",
   "name": "python",
   "nbconvert_exporter": "python",
   "pygments_lexer": "ipython3",
   "version": "3.10.12"
  },
  "papermill": {
   "default_parameters": {},
   "duration": 28.542778,
   "end_time": "2023-11-16T16:00:36.468028",
   "environment_variables": {},
   "exception": null,
   "input_path": "__notebook__.ipynb",
   "output_path": "__notebook__.ipynb",
   "parameters": {},
   "start_time": "2023-11-16T16:00:07.925250",
   "version": "2.4.0"
  }
 },
 "nbformat": 4,
 "nbformat_minor": 5
}
