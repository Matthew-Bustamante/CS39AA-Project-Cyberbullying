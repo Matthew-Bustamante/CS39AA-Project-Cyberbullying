{
 "cells": [
  {
   "cell_type": "markdown",
   "id": "8e842f3e",
   "metadata": {
    "papermill": {
     "duration": 0.004015,
     "end_time": "2023-11-16T16:06:39.906162",
     "exception": false,
     "start_time": "2023-11-16T16:06:39.902147",
     "status": "completed"
    },
    "tags": []
   },
   "source": [
    "# Project Part 2\n",
    "\n",
    "[![Kaggle](https://kaggle.com/static/images/open-in-kaggle.svg)](https://kaggle.com/kernels/welcome?src=https://github.com/Matthew-Bustamante/CS39AA-Project-Cyberbullying/blob/main/project_part2.ipynb)\n",
    "\n",
    "\n",
    "[![Open In Colab](https://colab.research.google.com/assets/colab-badge.svg)](https://colab.research.google.com/github/Matthew-Bustamante/CS39AA-Project-Cyberbullying/blob/main/project_part2.ipynb)"
   ]
  },
  {
   "cell_type": "code",
   "execution_count": 1,
   "id": "cc435fc1",
   "metadata": {
    "_cell_guid": "b1076dfc-b9ad-4769-8c92-a6c4dae69d19",
    "_uuid": "8f2839f25d086af736a60e9eeb907d3b93b6e0e5",
    "execution": {
     "iopub.execute_input": "2023-11-16T16:06:39.918176Z",
     "iopub.status.busy": "2023-11-16T16:06:39.916904Z",
     "iopub.status.idle": "2023-11-16T16:06:40.282111Z",
     "shell.execute_reply": "2023-11-16T16:06:40.281054Z"
    },
    "papermill": {
     "duration": 0.372275,
     "end_time": "2023-11-16T16:06:40.284459",
     "exception": false,
     "start_time": "2023-11-16T16:06:39.912184",
     "status": "completed"
    },
    "tags": []
   },
   "outputs": [],
   "source": [
    "# This Python 3 environment comes with many helpful analytics libraries installed\n",
    "# It is defined by the kaggle/python Docker image: https://github.com/kaggle/docker-python\n",
    "# For example, here's several helpful packages to load\n",
    "\n",
    "import numpy as np # linear algebra\n",
    "import pandas as pd # data processing, CSV file I/O (e.g. pd.read_csv)\n",
    "\n",
    "# Input data files are available in the read-only \"../input/\" directory\n",
    "# For example, running this (by clicking run or pressing Shift+Enter) will list all files under the input directory\n",
    "\n",
    "import os\n",
    "for dirname, _, filenames in os.walk('/kaggle/input'):\n",
    "    for filename in filenames:\n",
    "        print(os.path.join(dirname, filename))\n",
    "\n",
    "# You can write up to 20GB to the current directory (/kaggle/working/) that gets preserved as output when you create a version using \"Save & Run All\" \n",
    "# You can also write temporary files to /kaggle/temp/, but they won't be saved outside of the current session"
   ]
  },
  {
   "cell_type": "code",
   "execution_count": 2,
   "id": "1c635551",
   "metadata": {
    "execution": {
     "iopub.execute_input": "2023-11-16T16:06:40.292940Z",
     "iopub.status.busy": "2023-11-16T16:06:40.292429Z",
     "iopub.status.idle": "2023-11-16T16:06:40.919458Z",
     "shell.execute_reply": "2023-11-16T16:06:40.918492Z"
    },
    "papermill": {
     "duration": 0.633672,
     "end_time": "2023-11-16T16:06:40.921581",
     "exception": false,
     "start_time": "2023-11-16T16:06:40.287909",
     "status": "completed"
    },
    "tags": []
   },
   "outputs": [
    {
     "data": {
      "text/html": [
       "<div>\n",
       "<style scoped>\n",
       "    .dataframe tbody tr th:only-of-type {\n",
       "        vertical-align: middle;\n",
       "    }\n",
       "\n",
       "    .dataframe tbody tr th {\n",
       "        vertical-align: top;\n",
       "    }\n",
       "\n",
       "    .dataframe thead th {\n",
       "        text-align: right;\n",
       "    }\n",
       "</style>\n",
       "<table border=\"1\" class=\"dataframe\">\n",
       "  <thead>\n",
       "    <tr style=\"text-align: right;\">\n",
       "      <th></th>\n",
       "      <th>Text</th>\n",
       "      <th>CB_Label</th>\n",
       "    </tr>\n",
       "  </thead>\n",
       "  <tbody>\n",
       "    <tr>\n",
       "      <th>0</th>\n",
       "      <td>damn there is someones nana up here at beach w...</td>\n",
       "      <td>0</td>\n",
       "    </tr>\n",
       "    <tr>\n",
       "      <th>1</th>\n",
       "      <td>no kidding! dick clark was a corpse mechanical...</td>\n",
       "      <td>0</td>\n",
       "    </tr>\n",
       "    <tr>\n",
       "      <th>2</th>\n",
       "      <td>i read an article on jobros and thought damn w...</td>\n",
       "      <td>0</td>\n",
       "    </tr>\n",
       "    <tr>\n",
       "      <th>3</th>\n",
       "      <td>I got one fucking day of sprinkles and now it'...</td>\n",
       "      <td>0</td>\n",
       "    </tr>\n",
       "    <tr>\n",
       "      <th>4</th>\n",
       "      <td>I was already listening to Elliott smith  and ...</td>\n",
       "      <td>0</td>\n",
       "    </tr>\n",
       "  </tbody>\n",
       "</table>\n",
       "</div>"
      ],
      "text/plain": [
       "                                                Text  CB_Label\n",
       "0  damn there is someones nana up here at beach w...         0\n",
       "1  no kidding! dick clark was a corpse mechanical...         0\n",
       "2  i read an article on jobros and thought damn w...         0\n",
       "3  I got one fucking day of sprinkles and now it'...         0\n",
       "4  I was already listening to Elliott smith  and ...         0"
      ]
     },
     "execution_count": 2,
     "metadata": {},
     "output_type": "execute_result"
    }
   ],
   "source": [
    "input_data_path = 'https://raw.githubusercontent.com/Matthew-Bustamante/CS39AA-Project-Cyberbullying/main/'\n",
    "training_data_file = 'CyberBullying_Comments_Dataset.csv'\n",
    "df = pd.read_csv(input_data_path + training_data_file)\n",
    "df.head()"
   ]
  },
  {
   "cell_type": "markdown",
   "id": "e7d48402",
   "metadata": {
    "papermill": {
     "duration": 0.003237,
     "end_time": "2023-11-16T16:06:40.928483",
     "exception": false,
     "start_time": "2023-11-16T16:06:40.925246",
     "status": "completed"
    },
    "tags": []
   },
   "source": [
    "Splitting the data"
   ]
  },
  {
   "cell_type": "code",
   "execution_count": 3,
   "id": "09bc56d4",
   "metadata": {
    "execution": {
     "iopub.execute_input": "2023-11-16T16:06:40.937002Z",
     "iopub.status.busy": "2023-11-16T16:06:40.936241Z",
     "iopub.status.idle": "2023-11-16T16:06:42.019727Z",
     "shell.execute_reply": "2023-11-16T16:06:42.018829Z"
    },
    "papermill": {
     "duration": 1.090274,
     "end_time": "2023-11-16T16:06:42.022084",
     "exception": false,
     "start_time": "2023-11-16T16:06:40.931810",
     "status": "completed"
    },
    "tags": []
   },
   "outputs": [],
   "source": [
    "from sklearn.model_selection import train_test_split\n",
    "\n",
    "X = df['Text'].copy()\n",
    "y = df['CB_Label'].copy()\n",
    "\n",
    "X_train_raw, X_val_raw, y_train, y_val = train_test_split(X, y, test_size=0.20, random_state=42)"
   ]
  },
  {
   "cell_type": "markdown",
   "id": "efca47d1",
   "metadata": {
    "papermill": {
     "duration": 0.003358,
     "end_time": "2023-11-16T16:06:42.029084",
     "exception": false,
     "start_time": "2023-11-16T16:06:42.025726",
     "status": "completed"
    },
    "tags": []
   },
   "source": [
    "Next we're going to vectorize the data"
   ]
  },
  {
   "cell_type": "code",
   "execution_count": 4,
   "id": "3f9eed1a",
   "metadata": {
    "execution": {
     "iopub.execute_input": "2023-11-16T16:06:42.037234Z",
     "iopub.status.busy": "2023-11-16T16:06:42.036897Z",
     "iopub.status.idle": "2023-11-16T16:06:42.822106Z",
     "shell.execute_reply": "2023-11-16T16:06:42.821055Z"
    },
    "papermill": {
     "duration": 0.791794,
     "end_time": "2023-11-16T16:06:42.824232",
     "exception": false,
     "start_time": "2023-11-16T16:06:42.032438",
     "status": "completed"
    },
    "tags": []
   },
   "outputs": [
    {
     "name": "stdout",
     "output_type": "stream",
     "text": [
      "X_train.shape = (8880, 15603)\n"
     ]
    },
    {
     "data": {
      "text/plain": [
       "numpy.ndarray"
      ]
     },
     "execution_count": 4,
     "metadata": {},
     "output_type": "execute_result"
    }
   ],
   "source": [
    "from sklearn.feature_extraction.text import TfidfVectorizer\n",
    "\n",
    "tfidf_vectorizer = TfidfVectorizer()\n",
    "X_train = tfidf_vectorizer.fit_transform(X_train_raw).toarray()\n",
    "\n",
    "print(f\"X_train.shape = {X_train.shape}\")\n",
    "type(X_train)"
   ]
  },
  {
   "cell_type": "markdown",
   "id": "b7efdcab",
   "metadata": {
    "papermill": {
     "duration": 0.00335,
     "end_time": "2023-11-16T16:06:42.831366",
     "exception": false,
     "start_time": "2023-11-16T16:06:42.828016",
     "status": "completed"
    },
    "tags": []
   },
   "source": [
    "Now its time to implement a baseline model to the data.  For right now we'll use RandomForestClassifier to get a baseline view of how the data will work"
   ]
  },
  {
   "cell_type": "code",
   "execution_count": 5,
   "id": "5faed057",
   "metadata": {
    "execution": {
     "iopub.execute_input": "2023-11-16T16:06:42.840302Z",
     "iopub.status.busy": "2023-11-16T16:06:42.839619Z",
     "iopub.status.idle": "2023-11-16T16:06:59.729735Z",
     "shell.execute_reply": "2023-11-16T16:06:59.728727Z"
    },
    "papermill": {
     "duration": 16.897106,
     "end_time": "2023-11-16T16:06:59.732113",
     "exception": false,
     "start_time": "2023-11-16T16:06:42.835007",
     "status": "completed"
    },
    "tags": []
   },
   "outputs": [
    {
     "name": "stdout",
     "output_type": "stream",
     "text": [
      "accuracy (on y_train): 0.9975\n"
     ]
    },
    {
     "data": {
      "image/png": "[encoded data removed]",
      "text/plain": [
       "<Figure size 640x480 with 2 Axes>"
      ]
     },
     "metadata": {},
     "output_type": "display_data"
    }
   ],
   "source": [
    "from sklearn.ensemble import RandomForestClassifier\n",
    "from sklearn.metrics import confusion_matrix, ConfusionMatrixDisplay, accuracy_score\n",
    "\n",
    "model = RandomForestClassifier(n_estimators=25)\n",
    "model = model.fit(X_train, y_train)\n",
    "\n",
    "predictions_train = model.predict(X_train)\n",
    "\n",
    "disp = ConfusionMatrixDisplay(confusion_matrix(y_train, predictions_train), display_labels=['positive', 'negative'])\n",
    "disp.plot()\n",
    "print(f\"accuracy (on y_train): {accuracy_score(y_train, predictions_train):.4f}\")"
   ]
  },
  {
   "cell_type": "markdown",
   "id": "bcc0ce7b",
   "metadata": {
    "papermill": {
     "duration": 0.003947,
     "end_time": "2023-11-16T16:06:59.740368",
     "exception": false,
     "start_time": "2023-11-16T16:06:59.736421",
     "status": "completed"
    },
    "tags": []
   },
   "source": [
    "Checking to make sure the validation data looks like what we expect it to be"
   ]
  },
  {
   "cell_type": "code",
   "execution_count": 6,
   "id": "09f12393",
   "metadata": {
    "execution": {
     "iopub.execute_input": "2023-11-16T16:06:59.750122Z",
     "iopub.status.busy": "2023-11-16T16:06:59.749755Z",
     "iopub.status.idle": "2023-11-16T16:06:59.912173Z",
     "shell.execute_reply": "2023-11-16T16:06:59.911133Z"
    },
    "papermill": {
     "duration": 0.17066,
     "end_time": "2023-11-16T16:06:59.915198",
     "exception": false,
     "start_time": "2023-11-16T16:06:59.744538",
     "status": "completed"
    },
    "tags": []
   },
   "outputs": [
    {
     "name": "stdout",
     "output_type": "stream",
     "text": [
      "X_val.shape = (2220, 15603)\n"
     ]
    },
    {
     "data": {
      "text/plain": [
       "numpy.ndarray"
      ]
     },
     "execution_count": 6,
     "metadata": {},
     "output_type": "execute_result"
    }
   ],
   "source": [
    "X_val = tfidf_vectorizer.transform(X_val_raw).toarray()\n",
    "print(f\"X_val.shape = {X_val.shape}\")\n",
    "type(X_val)"
   ]
  },
  {
   "cell_type": "code",
   "execution_count": 7,
   "id": "8e0ea8f8",
   "metadata": {
    "execution": {
     "iopub.execute_input": "2023-11-16T16:06:59.925420Z",
     "iopub.status.busy": "2023-11-16T16:06:59.925085Z",
     "iopub.status.idle": "2023-11-16T16:07:00.418189Z",
     "shell.execute_reply": "2023-11-16T16:07:00.417417Z"
    },
    "papermill": {
     "duration": 0.500613,
     "end_time": "2023-11-16T16:07:00.420264",
     "exception": false,
     "start_time": "2023-11-16T16:06:59.919651",
     "status": "completed"
    },
    "tags": []
   },
   "outputs": [
    {
     "name": "stdout",
     "output_type": "stream",
     "text": [
      "accuracy (on y_val): 0.7518\n"
     ]
    },
    {
     "data": {
      "image/png": "[encoded data removed]",
      "text/plain": [
       "<Figure size 640x480 with 2 Axes>"
      ]
     },
     "metadata": {},
     "output_type": "display_data"
    }
   ],
   "source": [
    "predictions_val = model.predict(X_val)\n",
    "disp = ConfusionMatrixDisplay(confusion_matrix(y_val, predictions_val), display_labels=['positive','negative'])\n",
    "disp.plot()\n",
    "print(f\"accuracy (on y_val): {accuracy_score(y_val, predictions_val):.4f}\")"
   ]
  },
  {
   "cell_type": "markdown",
   "id": "cfb0dbbd",
   "metadata": {
    "papermill": {
     "duration": 0.004667,
     "end_time": "2023-11-16T16:07:00.430058",
     "exception": false,
     "start_time": "2023-11-16T16:07:00.425391",
     "status": "completed"
    },
    "tags": []
   },
   "source": [
    "So our accuracy for this model is pretty bad with the model having an accuracy of 75%.  Let's see if we can find a hyperparameter that can tune this model to be more accurate."
   ]
  }
 ],
 "metadata": {
  "kaggle": {
   "accelerator": "none",
   "dataSources": [],
   "dockerImageVersionId": 30587,
   "isGpuEnabled": false,
   "isInternetEnabled": true,
   "language": "python",
   "sourceType": "notebook"
  },
  "kernelspec": {
   "display_name": "Python 3",
   "language": "python",
   "name": "python3"
  },
  "language_info": {
   "codemirror_mode": {
    "name": "ipython",
    "version": 3
   },
   "file_extension": ".py",
   "mimetype": "text/x-python",
   "name": "python",
   "nbconvert_exporter": "python",
   "pygments_lexer": "ipython3",
   "version": "3.10.12"
  },
  "papermill": {
   "default_parameters": {},
   "duration": 24.082277,
   "end_time": "2023-11-16T16:07:01.056524",
   "environment_variables": {},
   "exception": null,
   "input_path": "__notebook__.ipynb",
   "output_path": "__notebook__.ipynb",
   "parameters": {},
   "start_time": "2023-11-16T16:06:36.974247",
   "version": "2.4.0"
  }
 },
 "nbformat": 4,
 "nbformat_minor": 5
}
