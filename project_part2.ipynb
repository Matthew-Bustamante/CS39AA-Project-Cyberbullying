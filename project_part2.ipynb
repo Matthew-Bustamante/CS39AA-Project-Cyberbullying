{
 "cells": [
  {
   "cell_type": "markdown",
   "id": "d0c786f8",
   "metadata": {
    "papermill": {
     "duration": 0.012271,
     "end_time": "2023-11-21T22:52:15.336526",
     "exception": false,
     "start_time": "2023-11-21T22:52:15.324255",
     "status": "completed"
    },
    "tags": []
   },
   "source": [
    "# Project Part 2\n",
    "\n",
    "[![Kaggle](https://kaggle.com/static/images/open-in-kaggle.svg)](https://kaggle.com/kernels/welcome?src=https://github.com/Matthew-Bustamante/CS39AA-Project-Cyberbullying/blob/main/project_part2.ipynb)\n",
    "\n",
    "\n",
    "[![Open In Colab](https://colab.research.google.com/assets/colab-badge.svg)](https://colab.research.google.com/github/Matthew-Bustamante/CS39AA-Project-Cyberbullying/blob/main/project_part2.ipynb)"
   ]
  },
  {
   "cell_type": "code",
   "execution_count": 1,
   "id": "faa52724",
   "metadata": {
    "_cell_guid": "b1076dfc-b9ad-4769-8c92-a6c4dae69d19",
    "_uuid": "8f2839f25d086af736a60e9eeb907d3b93b6e0e5",
    "execution": {
     "iopub.execute_input": "2023-11-21T22:52:15.358845Z",
     "iopub.status.busy": "2023-11-21T22:52:15.357415Z",
     "iopub.status.idle": "2023-11-21T22:52:15.857098Z",
     "shell.execute_reply": "2023-11-21T22:52:15.855617Z"
    },
    "jupyter": {
     "source_hidden": true
    },
    "papermill": {
     "duration": 0.51448,
     "end_time": "2023-11-21T22:52:15.860403",
     "exception": false,
     "start_time": "2023-11-21T22:52:15.345923",
     "status": "completed"
    },
    "tags": []
   },
   "outputs": [],
   "source": [
    "# This Python 3 environment comes with many helpful analytics libraries installed\n",
    "# It is defined by the kaggle/python Docker image: https://github.com/kaggle/docker-python\n",
    "# For example, here's several helpful packages to load\n",
    "\n",
    "import numpy as np # linear algebra\n",
    "import pandas as pd # data processing, CSV file I/O (e.g. pd.read_csv)\n",
    "\n",
    "# Input data files are available in the read-only \"../input/\" directory\n",
    "# For example, running this (by clicking run or pressing Shift+Enter) will list all files under the input directory\n",
    "\n",
    "import os\n",
    "for dirname, _, filenames in os.walk('/kaggle/input'):\n",
    "    for filename in filenames:\n",
    "        print(os.path.join(dirname, filename))\n",
    "\n",
    "# You can write up to 20GB to the current directory (/kaggle/working/) that gets preserved as output when you create a version using \"Save & Run All\" \n",
    "# You can also write temporary files to /kaggle/temp/, but they won't be saved outside of the current session"
   ]
  },
  {
   "cell_type": "markdown",
   "id": "9147288f",
   "metadata": {
    "papermill": {
     "duration": 0.008653,
     "end_time": "2023-11-21T22:52:15.878610",
     "exception": false,
     "start_time": "2023-11-21T22:52:15.869957",
     "status": "completed"
    },
    "tags": []
   },
   "source": [
    "Inputing the data and reading the data"
   ]
  },
  {
   "cell_type": "code",
   "execution_count": 2,
   "id": "62a3b290",
   "metadata": {
    "execution": {
     "iopub.execute_input": "2023-11-21T22:52:15.900402Z",
     "iopub.status.busy": "2023-11-21T22:52:15.898759Z",
     "iopub.status.idle": "2023-11-21T22:52:16.293485Z",
     "shell.execute_reply": "2023-11-21T22:52:16.291959Z"
    },
    "papermill": {
     "duration": 0.409038,
     "end_time": "2023-11-21T22:52:16.296652",
     "exception": false,
     "start_time": "2023-11-21T22:52:15.887614",
     "status": "completed"
    },
    "tags": []
   },
   "outputs": [
    {
     "data": {
      "text/html": [
       "<div>\n",
       "<style scoped>\n",
       "    .dataframe tbody tr th:only-of-type {\n",
       "        vertical-align: middle;\n",
       "    }\n",
       "\n",
       "    .dataframe tbody tr th {\n",
       "        vertical-align: top;\n",
       "    }\n",
       "\n",
       "    .dataframe thead th {\n",
       "        text-align: right;\n",
       "    }\n",
       "</style>\n",
       "<table border=\"1\" class=\"dataframe\">\n",
       "  <thead>\n",
       "    <tr style=\"text-align: right;\">\n",
       "      <th></th>\n",
       "      <th>Text</th>\n",
       "      <th>CB_Label</th>\n",
       "    </tr>\n",
       "  </thead>\n",
       "  <tbody>\n",
       "    <tr>\n",
       "      <th>0</th>\n",
       "      <td>damn there is someones nana up here at beach w...</td>\n",
       "      <td>0</td>\n",
       "    </tr>\n",
       "    <tr>\n",
       "      <th>1</th>\n",
       "      <td>no kidding! dick clark was a corpse mechanical...</td>\n",
       "      <td>0</td>\n",
       "    </tr>\n",
       "    <tr>\n",
       "      <th>2</th>\n",
       "      <td>i read an article on jobros and thought damn w...</td>\n",
       "      <td>0</td>\n",
       "    </tr>\n",
       "    <tr>\n",
       "      <th>3</th>\n",
       "      <td>I got one fucking day of sprinkles and now it'...</td>\n",
       "      <td>0</td>\n",
       "    </tr>\n",
       "    <tr>\n",
       "      <th>4</th>\n",
       "      <td>I was already listening to Elliott smith  and ...</td>\n",
       "      <td>0</td>\n",
       "    </tr>\n",
       "  </tbody>\n",
       "</table>\n",
       "</div>"
      ],
      "text/plain": [
       "                                                Text  CB_Label\n",
       "0  damn there is someones nana up here at beach w...         0\n",
       "1  no kidding! dick clark was a corpse mechanical...         0\n",
       "2  i read an article on jobros and thought damn w...         0\n",
       "3  I got one fucking day of sprinkles and now it'...         0\n",
       "4  I was already listening to Elliott smith  and ...         0"
      ]
     },
     "execution_count": 2,
     "metadata": {},
     "output_type": "execute_result"
    }
   ],
   "source": [
    "input_data_path = 'https://raw.githubusercontent.com/Matthew-Bustamante/CS39AA-Project-Cyberbullying/main/'\n",
    "training_data_file = 'CyberBullying_Comments_Dataset.csv'\n",
    "df = pd.read_csv(input_data_path + training_data_file)\n",
    "df.head()"
   ]
  },
  {
   "cell_type": "markdown",
   "id": "4045761f",
   "metadata": {
    "papermill": {
     "duration": 0.008579,
     "end_time": "2023-11-21T22:52:16.314573",
     "exception": false,
     "start_time": "2023-11-21T22:52:16.305994",
     "status": "completed"
    },
    "tags": []
   },
   "source": [
    "Splitting the data"
   ]
  },
  {
   "cell_type": "code",
   "execution_count": 3,
   "id": "3f966247",
   "metadata": {
    "execution": {
     "iopub.execute_input": "2023-11-21T22:52:16.336120Z",
     "iopub.status.busy": "2023-11-21T22:52:16.335671Z",
     "iopub.status.idle": "2023-11-21T22:52:17.974410Z",
     "shell.execute_reply": "2023-11-21T22:52:17.973087Z"
    },
    "papermill": {
     "duration": 1.653442,
     "end_time": "2023-11-21T22:52:17.977623",
     "exception": false,
     "start_time": "2023-11-21T22:52:16.324181",
     "status": "completed"
    },
    "tags": []
   },
   "outputs": [],
   "source": [
    "from sklearn.model_selection import train_test_split\n",
    "\n",
    "X = df['Text'].copy()\n",
    "y = df['CB_Label'].copy()\n",
    "\n",
    "X_train_raw, X_val_raw, y_train, y_val = train_test_split(X, y, test_size=0.20, random_state=42)"
   ]
  },
  {
   "cell_type": "markdown",
   "id": "2a3c93dc",
   "metadata": {
    "papermill": {
     "duration": 0.008834,
     "end_time": "2023-11-21T22:52:17.996372",
     "exception": false,
     "start_time": "2023-11-21T22:52:17.987538",
     "status": "completed"
    },
    "tags": []
   },
   "source": [
    "Next we're going to vectorize the data"
   ]
  },
  {
   "cell_type": "code",
   "execution_count": 4,
   "id": "3d3dd5b8",
   "metadata": {
    "execution": {
     "iopub.execute_input": "2023-11-21T22:52:18.018034Z",
     "iopub.status.busy": "2023-11-21T22:52:18.016508Z",
     "iopub.status.idle": "2023-11-21T22:52:19.035027Z",
     "shell.execute_reply": "2023-11-21T22:52:19.033745Z"
    },
    "papermill": {
     "duration": 1.032814,
     "end_time": "2023-11-21T22:52:19.038615",
     "exception": false,
     "start_time": "2023-11-21T22:52:18.005801",
     "status": "completed"
    },
    "tags": []
   },
   "outputs": [
    {
     "name": "stdout",
     "output_type": "stream",
     "text": [
      "X_train.shape = (8880, 15603)\n"
     ]
    },
    {
     "data": {
      "text/plain": [
       "numpy.ndarray"
      ]
     },
     "execution_count": 4,
     "metadata": {},
     "output_type": "execute_result"
    }
   ],
   "source": [
    "from sklearn.feature_extraction.text import TfidfVectorizer\n",
    "\n",
    "tfidf_vectorizer = TfidfVectorizer()\n",
    "X_train = tfidf_vectorizer.fit_transform(X_train_raw).toarray()\n",
    "\n",
    "print(f\"X_train.shape = {X_train.shape}\")\n",
    "type(X_train)"
   ]
  },
  {
   "cell_type": "markdown",
   "id": "b9c8aeb7",
   "metadata": {
    "papermill": {
     "duration": 0.009843,
     "end_time": "2023-11-21T22:52:19.058276",
     "exception": false,
     "start_time": "2023-11-21T22:52:19.048433",
     "status": "completed"
    },
    "tags": []
   },
   "source": [
    "Now its time to implement a baseline model to the data.  For right now we'll use RandomForestClassifier to get a baseline view of how the data will work"
   ]
  },
  {
   "cell_type": "code",
   "execution_count": 5,
   "id": "f6fe8248",
   "metadata": {
    "execution": {
     "iopub.execute_input": "2023-11-21T22:52:19.080731Z",
     "iopub.status.busy": "2023-11-21T22:52:19.079727Z",
     "iopub.status.idle": "2023-11-21T22:52:38.897050Z",
     "shell.execute_reply": "2023-11-21T22:52:38.895546Z"
    },
    "papermill": {
     "duration": 19.831742,
     "end_time": "2023-11-21T22:52:38.899997",
     "exception": false,
     "start_time": "2023-11-21T22:52:19.068255",
     "status": "completed"
    },
    "tags": []
   },
   "outputs": [
    {
     "name": "stdout",
     "output_type": "stream",
     "text": [
      "accuracy (on y_train): 0.9975\n"
     ]
    },
    {
     "data": {
      "image/png": "[encoded data removed]",
      "text/plain": [
       "<Figure size 640x480 with 2 Axes>"
      ]
     },
     "metadata": {},
     "output_type": "display_data"
    }
   ],
   "source": [
    "from sklearn.ensemble import RandomForestClassifier\n",
    "from sklearn.metrics import confusion_matrix, ConfusionMatrixDisplay, accuracy_score\n",
    "\n",
    "model = RandomForestClassifier(n_estimators=25)\n",
    "model = model.fit(X_train, y_train)\n",
    "\n",
    "predictions_train = model.predict(X_train)\n",
    "\n",
    "disp = ConfusionMatrixDisplay(confusion_matrix(y_train, predictions_train), display_labels=['non-cyberbullying', 'cyberbullying'])\n",
    "disp.plot()\n",
    "print(f\"accuracy (on y_train): {accuracy_score(y_train, predictions_train):.4f}\")"
   ]
  },
  {
   "cell_type": "markdown",
   "id": "e9278c43",
   "metadata": {
    "papermill": {
     "duration": 0.009478,
     "end_time": "2023-11-21T22:52:38.919505",
     "exception": false,
     "start_time": "2023-11-21T22:52:38.910027",
     "status": "completed"
    },
    "tags": []
   },
   "source": [
    "Checking to make sure the validation data looks like what we expect it to be"
   ]
  },
  {
   "cell_type": "code",
   "execution_count": 6,
   "id": "99484226",
   "metadata": {
    "execution": {
     "iopub.execute_input": "2023-11-21T22:52:38.941304Z",
     "iopub.status.busy": "2023-11-21T22:52:38.940792Z",
     "iopub.status.idle": "2023-11-21T22:52:39.129807Z",
     "shell.execute_reply": "2023-11-21T22:52:39.128514Z"
    },
    "papermill": {
     "duration": 0.203029,
     "end_time": "2023-11-21T22:52:39.132387",
     "exception": false,
     "start_time": "2023-11-21T22:52:38.929358",
     "status": "completed"
    },
    "tags": []
   },
   "outputs": [
    {
     "name": "stdout",
     "output_type": "stream",
     "text": [
      "X_val.shape = (2220, 15603)\n"
     ]
    },
    {
     "data": {
      "text/plain": [
       "numpy.ndarray"
      ]
     },
     "execution_count": 6,
     "metadata": {},
     "output_type": "execute_result"
    }
   ],
   "source": [
    "X_val = tfidf_vectorizer.transform(X_val_raw).toarray()\n",
    "print(f\"X_val.shape = {X_val.shape}\")\n",
    "type(X_val)"
   ]
  },
  {
   "cell_type": "code",
   "execution_count": 7,
   "id": "106a1eee",
   "metadata": {
    "execution": {
     "iopub.execute_input": "2023-11-21T22:52:39.155447Z",
     "iopub.status.busy": "2023-11-21T22:52:39.155024Z",
     "iopub.status.idle": "2023-11-21T22:52:39.728045Z",
     "shell.execute_reply": "2023-11-21T22:52:39.725719Z"
    },
    "papermill": {
     "duration": 0.591628,
     "end_time": "2023-11-21T22:52:39.734817",
     "exception": false,
     "start_time": "2023-11-21T22:52:39.143189",
     "status": "completed"
    },
    "tags": []
   },
   "outputs": [
    {
     "name": "stdout",
     "output_type": "stream",
     "text": [
      "accuracy (on y_val): 0.7477\n"
     ]
    },
    {
     "data": {
      "image/png": "[encoded data removed]",
      "text/plain": [
       "<Figure size 640x480 with 2 Axes>"
      ]
     },
     "metadata": {},
     "output_type": "display_data"
    }
   ],
   "source": [
    "predictions_val = model.predict(X_val)\n",
    "disp = ConfusionMatrixDisplay(confusion_matrix(y_val, predictions_val), display_labels=['non-cyberbullying','cyberbullying'])\n",
    "disp.plot()\n",
    "print(f\"accuracy (on y_val): {accuracy_score(y_val, predictions_val):.4f}\")"
   ]
  },
  {
   "cell_type": "markdown",
   "id": "a1d2beee",
   "metadata": {
    "papermill": {
     "duration": 0.010693,
     "end_time": "2023-11-21T22:52:39.757368",
     "exception": false,
     "start_time": "2023-11-21T22:52:39.746675",
     "status": "completed"
    },
    "tags": []
   },
   "source": [
    "So our accuracy for this model is pretty bad with the model having an accuracy of 74-75%.  Let's see if we can find a hyperparameter that can tune this model to be more accurate."
   ]
  },
  {
   "cell_type": "code",
   "execution_count": 8,
   "id": "7b4ca9e8",
   "metadata": {
    "execution": {
     "iopub.execute_input": "2023-11-21T22:52:39.782240Z",
     "iopub.status.busy": "2023-11-21T22:52:39.781425Z",
     "iopub.status.idle": "2023-11-21T22:52:39.786423Z",
     "shell.execute_reply": "2023-11-21T22:52:39.784973Z"
    },
    "papermill": {
     "duration": 0.020521,
     "end_time": "2023-11-21T22:52:39.789077",
     "exception": false,
     "start_time": "2023-11-21T22:52:39.768556",
     "status": "completed"
    },
    "tags": []
   },
   "outputs": [],
   "source": [
    "tune_model = True"
   ]
  },
  {
   "cell_type": "code",
   "execution_count": 9,
   "id": "5641d5c3",
   "metadata": {
    "execution": {
     "iopub.execute_input": "2023-11-21T22:52:39.815236Z",
     "iopub.status.busy": "2023-11-21T22:52:39.814206Z",
     "iopub.status.idle": "2023-11-21T23:02:30.736050Z",
     "shell.execute_reply": "2023-11-21T23:02:30.733734Z"
    },
    "papermill": {
     "duration": 590.95264,
     "end_time": "2023-11-21T23:02:30.754093",
     "exception": false,
     "start_time": "2023-11-21T22:52:39.801453",
     "status": "completed"
    },
    "tags": []
   },
   "outputs": [
    {
     "name": "stderr",
     "output_type": "stream",
     "text": [
      "/opt/conda/lib/python3.10/site-packages/numpy/lib/arraysetops.py:733: FutureWarning: elementwise comparison failed; returning scalar instead, but in the future will perform elementwise comparison\n",
      "  mask |= (ar1 == a)\n",
      "/opt/conda/lib/python3.10/site-packages/numpy/lib/arraysetops.py:733: FutureWarning: elementwise comparison failed; returning scalar instead, but in the future will perform elementwise comparison\n",
      "  mask |= (ar1 == a)\n",
      "/opt/conda/lib/python3.10/site-packages/numpy/lib/arraysetops.py:733: FutureWarning: elementwise comparison failed; returning scalar instead, but in the future will perform elementwise comparison\n",
      "  mask |= (ar1 == a)\n",
      "/opt/conda/lib/python3.10/site-packages/numpy/lib/arraysetops.py:733: FutureWarning: elementwise comparison failed; returning scalar instead, but in the future will perform elementwise comparison\n",
      "  mask |= (ar1 == a)\n",
      "/opt/conda/lib/python3.10/site-packages/numpy/lib/arraysetops.py:733: FutureWarning: elementwise comparison failed; returning scalar instead, but in the future will perform elementwise comparison\n",
      "  mask |= (ar1 == a)\n",
      "/opt/conda/lib/python3.10/site-packages/numpy/lib/arraysetops.py:733: FutureWarning: elementwise comparison failed; returning scalar instead, but in the future will perform elementwise comparison\n",
      "  mask |= (ar1 == a)\n",
      "/opt/conda/lib/python3.10/site-packages/numpy/lib/arraysetops.py:733: FutureWarning: elementwise comparison failed; returning scalar instead, but in the future will perform elementwise comparison\n",
      "  mask |= (ar1 == a)\n",
      "/opt/conda/lib/python3.10/site-packages/numpy/lib/arraysetops.py:733: FutureWarning: elementwise comparison failed; returning scalar instead, but in the future will perform elementwise comparison\n",
      "  mask |= (ar1 == a)\n",
      "/opt/conda/lib/python3.10/site-packages/numpy/lib/arraysetops.py:733: FutureWarning: elementwise comparison failed; returning scalar instead, but in the future will perform elementwise comparison\n",
      "  mask |= (ar1 == a)\n",
      "/opt/conda/lib/python3.10/site-packages/numpy/lib/arraysetops.py:733: FutureWarning: elementwise comparison failed; returning scalar instead, but in the future will perform elementwise comparison\n",
      "  mask |= (ar1 == a)\n",
      "/opt/conda/lib/python3.10/site-packages/numpy/lib/arraysetops.py:733: FutureWarning: elementwise comparison failed; returning scalar instead, but in the future will perform elementwise comparison\n",
      "  mask |= (ar1 == a)\n",
      "/opt/conda/lib/python3.10/site-packages/numpy/lib/arraysetops.py:733: FutureWarning: elementwise comparison failed; returning scalar instead, but in the future will perform elementwise comparison\n",
      "  mask |= (ar1 == a)\n"
     ]
    }
   ],
   "source": [
    "\n",
    "from sklearn.metrics import log_loss\n",
    "\n",
    "def tuneModel(hyperparam_value):\n",
    "    rf_model = RandomForestClassifier(n_estimators=hyperparam_value, random_state=5)\n",
    "    #rf_model = RandomForestClassifier(min_samples_split=hyperparam_value, random_state=1)\n",
    "    rf_model.fit(X_train, y_train)\n",
    "    y_train_pred_prob = rf_model.predict_proba(X_train)\n",
    "    y_train_pred = rf_model.predict(X_train)\n",
    "    y_val_pred_prob = rf_model.predict_proba(X_val)\n",
    "    y_val_pred = rf_model.predict(X_val)\n",
    "    train_loss = log_loss(y_train, y_train_pred_prob, labels=['non-cyberbullying', 'cyberbullying'])\n",
    "    train_acc = accuracy_score(y_train, y_train_pred)\n",
    "    val_loss = log_loss(y_val, y_val_pred_prob, labels=['non-cyberbullying', 'cyberbullying'])\n",
    "    val_acc = accuracy_score(y_val, y_val_pred)\n",
    "    return (train_loss, val_loss, train_acc, val_acc)\n",
    "\n",
    "# Possible values for the hyperparameter are in the range of 5 to 150 (by 50)\n",
    "hyp_param_vals = list(range(10,261,50)) # good values for n_estimators\n",
    "#hyp_param_vals = [2,3] + list(range(5, 50, 10)) # good values for min_samples_split\n",
    "metrics = []\n",
    "\n",
    "if tune_model:\n",
    "    for hp in hyp_param_vals:\n",
    "        metrics.append(tuneModel(hp))\n"
   ]
  },
  {
   "cell_type": "markdown",
   "id": "d54d0940",
   "metadata": {
    "papermill": {
     "duration": 0.016645,
     "end_time": "2023-11-21T23:02:30.784533",
     "exception": false,
     "start_time": "2023-11-21T23:02:30.767888",
     "status": "completed"
    },
    "tags": []
   },
   "source": [
    "Plot the results of the model's performance for each hyperparameter value"
   ]
  },
  {
   "cell_type": "code",
   "execution_count": 10,
   "id": "2c81ae8d",
   "metadata": {
    "execution": {
     "iopub.execute_input": "2023-11-21T23:02:30.817403Z",
     "iopub.status.busy": "2023-11-21T23:02:30.816350Z",
     "iopub.status.idle": "2023-11-21T23:02:31.432234Z",
     "shell.execute_reply": "2023-11-21T23:02:31.431027Z"
    },
    "papermill": {
     "duration": 0.634455,
     "end_time": "2023-11-21T23:02:31.435275",
     "exception": false,
     "start_time": "2023-11-21T23:02:30.800820",
     "status": "completed"
    },
    "tags": []
   },
   "outputs": [
    {
     "data": {
      "image/png": "[encoded data removed]",
      "text/plain": [
       "<Figure size 1600x400 with 2 Axes>"
      ]
     },
     "metadata": {},
     "output_type": "display_data"
    }
   ],
   "source": [
    "\n",
    "import matplotlib.pyplot as plt\n",
    "\n",
    "if tune_model:\n",
    "    fig, (ax1, ax2) = plt.subplots(1, 2, figsize=(16, 4))\n",
    "\n",
    "    ax1.set_xticks(hyp_param_vals)\n",
    "    ax1.set(xlabel=\"n_estimators\", ylabel=\"loss (lower is better)\")\n",
    "    ax1.plot(hyp_param_vals, [metric[1] for metric in metrics], '--ro') # validation loss\n",
    "    ax1.plot(hyp_param_vals, [metric[0] for metric in metrics], '--bo') # training loss\n",
    "    ax1.legend([\"Validation Loss\", \"Train Loss\"], loc=1)\n",
    "\n",
    "    ax2.set_xticks(hyp_param_vals)\n",
    "    ax2.set(xlabel=\"n_estimators\", ylabel=\"accuracy (higher is better)\")\n",
    "    ax2.plot(hyp_param_vals, [metric[3] for metric in metrics], '--ro') # validation accuracy\n",
    "    ax2.plot(hyp_param_vals, [metric[2] for metric in metrics], '--bo') # training accuracy\n",
    "    ax2.legend([\"Validation Accuracy\", \"Train Accuracy\"], loc=1)\n",
    "\n"
   ]
  },
  {
   "cell_type": "markdown",
   "id": "226f317e",
   "metadata": {
    "papermill": {
     "duration": 0.011707,
     "end_time": "2023-11-21T23:02:31.459112",
     "exception": false,
     "start_time": "2023-11-21T23:02:31.447405",
     "status": "completed"
    },
    "tags": []
   },
   "source": [
    "So lets look at the accuracy and test lost for each hyperparameter"
   ]
  },
  {
   "cell_type": "code",
   "execution_count": 11,
   "id": "2ca6395e",
   "metadata": {
    "execution": {
     "iopub.execute_input": "2023-11-21T23:02:31.487074Z",
     "iopub.status.busy": "2023-11-21T23:02:31.486188Z",
     "iopub.status.idle": "2023-11-21T23:02:31.498519Z",
     "shell.execute_reply": "2023-11-21T23:02:31.497364Z"
    },
    "papermill": {
     "duration": 0.030043,
     "end_time": "2023-11-21T23:02:31.501266",
     "exception": false,
     "start_time": "2023-11-21T23:02:31.471223",
     "status": "completed"
    },
    "tags": []
   },
   "outputs": [
    {
     "name": "stdout",
     "output_type": "stream",
     "text": [
      "   hyperparam  test_loss  test_acc\n",
      "0          10   2.581089  0.727928\n",
      "1          60   1.117511  0.760360\n",
      "2         110   1.005518  0.769820\n",
      "3         160   0.960199  0.766216\n",
      "4         210   0.930216  0.765766\n",
      "5         260   0.899165  0.769820\n"
     ]
    }
   ],
   "source": [
    "if tune_model:\n",
    "    tuning_results = np.array([hyp_param_vals, [round(metric[1],2) for metric in metrics], [round(metric[3],2) for metric in metrics]])\n",
    "    df_tuning_results = pd.DataFrame({'hyperparam':hyp_param_vals, 'test_loss':[metric[1] for metric in metrics], 'test_acc':[metric[3] for metric in metrics]})\n",
    "    print(df_tuning_results)"
   ]
  },
  {
   "cell_type": "markdown",
   "id": "bd34bdaa",
   "metadata": {
    "papermill": {
     "duration": 0.011902,
     "end_time": "2023-11-21T23:02:31.525802",
     "exception": false,
     "start_time": "2023-11-21T23:02:31.513900",
     "status": "completed"
    },
    "tags": []
   },
   "source": [
    "Based on the results it looks like hyperparam 260 is the best ast it yields the highest accuracy and has the lowest test loss\n",
    "\n",
    "Next lets make predictions for the test dataset"
   ]
  },
  {
   "cell_type": "code",
   "execution_count": 12,
   "id": "dd1c0d04",
   "metadata": {
    "execution": {
     "iopub.execute_input": "2023-11-21T23:02:31.552712Z",
     "iopub.status.busy": "2023-11-21T23:02:31.551894Z",
     "iopub.status.idle": "2023-11-21T23:02:31.872779Z",
     "shell.execute_reply": "2023-11-21T23:02:31.871626Z"
    },
    "papermill": {
     "duration": 0.337266,
     "end_time": "2023-11-21T23:02:31.875426",
     "exception": false,
     "start_time": "2023-11-21T23:02:31.538160",
     "status": "completed"
    },
    "tags": []
   },
   "outputs": [
    {
     "data": {
      "text/html": [
       "<div>\n",
       "<style scoped>\n",
       "    .dataframe tbody tr th:only-of-type {\n",
       "        vertical-align: middle;\n",
       "    }\n",
       "\n",
       "    .dataframe tbody tr th {\n",
       "        vertical-align: top;\n",
       "    }\n",
       "\n",
       "    .dataframe thead th {\n",
       "        text-align: right;\n",
       "    }\n",
       "</style>\n",
       "<table border=\"1\" class=\"dataframe\">\n",
       "  <thead>\n",
       "    <tr style=\"text-align: right;\">\n",
       "      <th></th>\n",
       "      <th>Text</th>\n",
       "      <th>CB_Label</th>\n",
       "    </tr>\n",
       "  </thead>\n",
       "  <tbody>\n",
       "    <tr>\n",
       "      <th>0</th>\n",
       "      <td>damn there is someones nana up here at beach w...</td>\n",
       "      <td>0</td>\n",
       "    </tr>\n",
       "    <tr>\n",
       "      <th>1</th>\n",
       "      <td>no kidding! dick clark was a corpse mechanical...</td>\n",
       "      <td>0</td>\n",
       "    </tr>\n",
       "    <tr>\n",
       "      <th>2</th>\n",
       "      <td>i read an article on jobros and thought damn w...</td>\n",
       "      <td>0</td>\n",
       "    </tr>\n",
       "    <tr>\n",
       "      <th>3</th>\n",
       "      <td>I got one fucking day of sprinkles and now it'...</td>\n",
       "      <td>0</td>\n",
       "    </tr>\n",
       "    <tr>\n",
       "      <th>4</th>\n",
       "      <td>I was already listening to Elliott smith  and ...</td>\n",
       "      <td>0</td>\n",
       "    </tr>\n",
       "  </tbody>\n",
       "</table>\n",
       "</div>"
      ],
      "text/plain": [
       "                                                Text  CB_Label\n",
       "0  damn there is someones nana up here at beach w...         0\n",
       "1  no kidding! dick clark was a corpse mechanical...         0\n",
       "2  i read an article on jobros and thought damn w...         0\n",
       "3  I got one fucking day of sprinkles and now it'...         0\n",
       "4  I was already listening to Elliott smith  and ...         0"
      ]
     },
     "execution_count": 12,
     "metadata": {},
     "output_type": "execute_result"
    }
   ],
   "source": [
    "test_data_file = 'CyberBullying_Comments_Dataset.csv'\n",
    "df_test = pd.read_csv(input_data_path + test_data_file)\n",
    "df_test.head()"
   ]
  },
  {
   "cell_type": "markdown",
   "id": "2aa953c4",
   "metadata": {
    "papermill": {
     "duration": 0.012325,
     "end_time": "2023-11-21T23:02:31.900471",
     "exception": false,
     "start_time": "2023-11-21T23:02:31.888146",
     "status": "completed"
    },
    "tags": []
   },
   "source": [
    "Next we'll re-tokenize the data"
   ]
  },
  {
   "cell_type": "code",
   "execution_count": 13,
   "id": "93802285",
   "metadata": {
    "execution": {
     "iopub.execute_input": "2023-11-21T23:02:31.929109Z",
     "iopub.status.busy": "2023-11-21T23:02:31.928602Z",
     "iopub.status.idle": "2023-11-21T23:02:32.936242Z",
     "shell.execute_reply": "2023-11-21T23:02:32.934854Z"
    },
    "papermill": {
     "duration": 1.026072,
     "end_time": "2023-11-21T23:02:32.939004",
     "exception": false,
     "start_time": "2023-11-21T23:02:31.912932",
     "status": "completed"
    },
    "tags": []
   },
   "outputs": [
    {
     "name": "stdout",
     "output_type": "stream",
     "text": [
      "X_test.shape = (11100, 15603)\n"
     ]
    },
    {
     "data": {
      "text/plain": [
       "numpy.ndarray"
      ]
     },
     "execution_count": 13,
     "metadata": {},
     "output_type": "execute_result"
    }
   ],
   "source": [
    "X_test = tfidf_vectorizer.transform(df_test['Text']).toarray()\n",
    "print(f\"X_test.shape = {X_test.shape}\")\n",
    "type(X_test)"
   ]
  },
  {
   "cell_type": "markdown",
   "id": "191cb79b",
   "metadata": {
    "papermill": {
     "duration": 0.013085,
     "end_time": "2023-11-21T23:02:32.966142",
     "exception": false,
     "start_time": "2023-11-21T23:02:32.953057",
     "status": "completed"
    },
    "tags": []
   },
   "source": [
    "Now let's refit the model using the hyperparameter we found earlier"
   ]
  },
  {
   "cell_type": "code",
   "execution_count": 14,
   "id": "eb0478b7",
   "metadata": {
    "execution": {
     "iopub.execute_input": "2023-11-21T23:02:32.995383Z",
     "iopub.status.busy": "2023-11-21T23:02:32.994956Z",
     "iopub.status.idle": "2023-11-21T23:05:37.377233Z",
     "shell.execute_reply": "2023-11-21T23:05:37.376236Z"
    },
    "papermill": {
     "duration": 184.413362,
     "end_time": "2023-11-21T23:05:37.392713",
     "exception": false,
     "start_time": "2023-11-21T23:02:32.979351",
     "status": "completed"
    },
    "tags": []
   },
   "outputs": [
    {
     "data": {
      "text/plain": [
       "array([0, 0, 0, 0, 0, 0, 0, 0, 0, 0])"
      ]
     },
     "execution_count": 14,
     "metadata": {},
     "output_type": "execute_result"
    }
   ],
   "source": [
    "hyperparam_val = 260\n",
    "\n",
    "model = RandomForestClassifier(n_estimators=hyperparam_val)\n",
    "model = model.fit(X_train, y_train)\n",
    "\n",
    "predictions_test = model.predict(X_test)\n",
    "predictions_test[:10]"
   ]
  },
  {
   "cell_type": "markdown",
   "id": "5457f265",
   "metadata": {
    "papermill": {
     "duration": 0.012924,
     "end_time": "2023-11-21T23:05:37.418803",
     "exception": false,
     "start_time": "2023-11-21T23:05:37.405879",
     "status": "completed"
    },
    "tags": []
   },
   "source": [
    "Keep in mind that a 0 is non-cyberbullying and a 1 is cyberbullying so lets append the results to the data frame and look at the results"
   ]
  },
  {
   "cell_type": "code",
   "execution_count": 15,
   "id": "0af27797",
   "metadata": {
    "execution": {
     "iopub.execute_input": "2023-11-21T23:05:37.448337Z",
     "iopub.status.busy": "2023-11-21T23:05:37.447013Z",
     "iopub.status.idle": "2023-11-21T23:05:37.469682Z",
     "shell.execute_reply": "2023-11-21T23:05:37.468210Z"
    },
    "papermill": {
     "duration": 0.040796,
     "end_time": "2023-11-21T23:05:37.472826",
     "exception": false,
     "start_time": "2023-11-21T23:05:37.432030",
     "status": "completed"
    },
    "tags": []
   },
   "outputs": [
    {
     "data": {
      "text/html": [
       "<div>\n",
       "<style scoped>\n",
       "    .dataframe tbody tr th:only-of-type {\n",
       "        vertical-align: middle;\n",
       "    }\n",
       "\n",
       "    .dataframe tbody tr th {\n",
       "        vertical-align: top;\n",
       "    }\n",
       "\n",
       "    .dataframe thead th {\n",
       "        text-align: right;\n",
       "    }\n",
       "</style>\n",
       "<table border=\"1\" class=\"dataframe\">\n",
       "  <thead>\n",
       "    <tr style=\"text-align: right;\">\n",
       "      <th></th>\n",
       "      <th>Text</th>\n",
       "      <th>CB_Label</th>\n",
       "      <th>predictions</th>\n",
       "    </tr>\n",
       "  </thead>\n",
       "  <tbody>\n",
       "    <tr>\n",
       "      <th>0</th>\n",
       "      <td>damn there is someones nana up here at beach with one. dont think ic an steal and get to you quickly tho ;(</td>\n",
       "      <td>0</td>\n",
       "      <td>0</td>\n",
       "    </tr>\n",
       "    <tr>\n",
       "      <th>1</th>\n",
       "      <td>no kidding! dick clark was a corpse mechanically operated by the advertising companies</td>\n",
       "      <td>0</td>\n",
       "      <td>0</td>\n",
       "    </tr>\n",
       "    <tr>\n",
       "      <th>2</th>\n",
       "      <td>i read an article on jobros and thought damn we should cash in on our jobro pokemon. Perfect stocking stuffers haha</td>\n",
       "      <td>0</td>\n",
       "      <td>0</td>\n",
       "    </tr>\n",
       "    <tr>\n",
       "      <th>3</th>\n",
       "      <td>I got one fucking day of sprinkles and now it's back to sunshine and douchebaggery.\"</td>\n",
       "      <td>0</td>\n",
       "      <td>0</td>\n",
       "    </tr>\n",
       "    <tr>\n",
       "      <th>4</th>\n",
       "      <td>I was already listening to Elliott smith  and I fucking hate kanye west. He's not a valid artist or human in my eyes</td>\n",
       "      <td>0</td>\n",
       "      <td>0</td>\n",
       "    </tr>\n",
       "    <tr>\n",
       "      <th>5</th>\n",
       "      <td>I told Derek to go fuck himself  Devyn told us to calm down</td>\n",
       "      <td>0</td>\n",
       "      <td>0</td>\n",
       "    </tr>\n",
       "    <tr>\n",
       "      <th>6</th>\n",
       "      <td>I'm watching the new Smosh video and laughing my ass off.</td>\n",
       "      <td>0</td>\n",
       "      <td>0</td>\n",
       "    </tr>\n",
       "    <tr>\n",
       "      <th>7</th>\n",
       "      <td>My mom didn't like Catholicism because the idea of being a sinner from birth irked her  and she loves gay people  so yeah.</td>\n",
       "      <td>0</td>\n",
       "      <td>0</td>\n",
       "    </tr>\n",
       "    <tr>\n",
       "      <th>8</th>\n",
       "      <td>ya i know! lol AND big thunder mountain broke down! i only got 2 ride it once! i got a ton of bad luck. i think u stole it! bitch!</td>\n",
       "      <td>0</td>\n",
       "      <td>0</td>\n",
       "    </tr>\n",
       "    <tr>\n",
       "      <th>9</th>\n",
       "      <td>lucky bitch.....\"</td>\n",
       "      <td>0</td>\n",
       "      <td>0</td>\n",
       "    </tr>\n",
       "    <tr>\n",
       "      <th>10</th>\n",
       "      <td>hate the auto DMs  there's no better way to show that you don't actually care about your followers than to put it on autopilot</td>\n",
       "      <td>0</td>\n",
       "      <td>1</td>\n",
       "    </tr>\n",
       "    <tr>\n",
       "      <th>11</th>\n",
       "      <td>Top Notch click!  DONT HATE hater!  u mad cuz u broke  using a playstation as a cd player.</td>\n",
       "      <td>0</td>\n",
       "      <td>0</td>\n",
       "    </tr>\n",
       "    <tr>\n",
       "      <th>12</th>\n",
       "      <td>question  where the fuck is my father!? he has been MIA for like two days!</td>\n",
       "      <td>0</td>\n",
       "      <td>0</td>\n",
       "    </tr>\n",
       "    <tr>\n",
       "      <th>13</th>\n",
       "      <td>Fair enough  will get my ass around to doing it sometime later. Your voice has changed  btw :P</td>\n",
       "      <td>0</td>\n",
       "      <td>0</td>\n",
       "    </tr>\n",
       "    <tr>\n",
       "      <th>14</th>\n",
       "      <td>yeah that seems like he got some bitch in him somewhere or he could be brainwashed. I got a forum right now thats going in on BEY</td>\n",
       "      <td>0</td>\n",
       "      <td>0</td>\n",
       "    </tr>\n",
       "    <tr>\n",
       "      <th>15</th>\n",
       "      <td>See it too A friend of mine uses acai berry but for medical purposes. {shrugs} Damn @ her being hella skinny. I may try... Maybe</td>\n",
       "      <td>0</td>\n",
       "      <td>0</td>\n",
       "    </tr>\n",
       "    <tr>\n",
       "      <th>16</th>\n",
       "      <td>How can you hate Hugh Laurie!?</td>\n",
       "      <td>0</td>\n",
       "      <td>0</td>\n",
       "    </tr>\n",
       "    <tr>\n",
       "      <th>17</th>\n",
       "      <td>... First thing I would do is go to the bathroom because I most likely piss myself.</td>\n",
       "      <td>0</td>\n",
       "      <td>0</td>\n",
       "    </tr>\n",
       "    <tr>\n",
       "      <th>18</th>\n",
       "      <td>Um... I hate birds. Bleech!</td>\n",
       "      <td>0</td>\n",
       "      <td>0</td>\n",
       "    </tr>\n",
       "    <tr>\n",
       "      <th>19</th>\n",
       "      <td>Yes. Take the damn pickles. I'm glad we've been talking virtually every possible moment. I have a feeling it will ciontinue.</td>\n",
       "      <td>0</td>\n",
       "      <td>0</td>\n",
       "    </tr>\n",
       "    <tr>\n",
       "      <th>20</th>\n",
       "      <td>mmm nice. problem is - i hate reading blogs in hebrew. i can read them but it takes me longer and i have ADD</td>\n",
       "      <td>0</td>\n",
       "      <td>0</td>\n",
       "    </tr>\n",
       "    <tr>\n",
       "      <th>21</th>\n",
       "      <td>awww. cum playz. we makin finger paintz on da wallz kinda.</td>\n",
       "      <td>0</td>\n",
       "      <td>0</td>\n",
       "    </tr>\n",
       "    <tr>\n",
       "      <th>22</th>\n",
       "      <td>I seriously hate insects/bugs of all kinds :( even ants... wish there was some... anti-bug thing I could stick at my door and -</td>\n",
       "      <td>0</td>\n",
       "      <td>0</td>\n",
       "    </tr>\n",
       "    <tr>\n",
       "      <th>23</th>\n",
       "      <td>but yeah it sucks Bl there's 25 maps and wanting to get on a specific one takes forever if you're unlucky. orz.</td>\n",
       "      <td>0</td>\n",
       "      <td>0</td>\n",
       "    </tr>\n",
       "    <tr>\n",
       "      <th>24</th>\n",
       "      <td>Haha  that's a long-ass tail!</td>\n",
       "      <td>0</td>\n",
       "      <td>0</td>\n",
       "    </tr>\n",
       "    <tr>\n",
       "      <th>25</th>\n",
       "      <td>When was the first ICS? Was Emo Jesus created yet? was prior to March 22  2007 (1st live tattoo show)</td>\n",
       "      <td>0</td>\n",
       "      <td>0</td>\n",
       "    </tr>\n",
       "    <tr>\n",
       "      <th>26</th>\n",
       "      <td>you whore!</td>\n",
       "      <td>0</td>\n",
       "      <td>0</td>\n",
       "    </tr>\n",
       "    <tr>\n",
       "      <th>27</th>\n",
       "      <td>awe man that sucks... I mean that's awesome!!</td>\n",
       "      <td>0</td>\n",
       "      <td>0</td>\n",
       "    </tr>\n",
       "    <tr>\n",
       "      <th>28</th>\n",
       "      <td>only if you promise to not make me look emo or like a raccoon ;}</td>\n",
       "      <td>0</td>\n",
       "      <td>0</td>\n",
       "    </tr>\n",
       "    <tr>\n",
       "      <th>29</th>\n",
       "      <td>i'll give you a suprise if you catch up to me by christmas. Lol! Your followers would hate you :P</td>\n",
       "      <td>0</td>\n",
       "      <td>0</td>\n",
       "    </tr>\n",
       "    <tr>\n",
       "      <th>30</th>\n",
       "      <td>Yeah...you'd have to post exactly.........a LOT of fucking tweets a day Hahaha &amp;lt;3</td>\n",
       "      <td>0</td>\n",
       "      <td>0</td>\n",
       "    </tr>\n",
       "    <tr>\n",
       "      <th>31</th>\n",
       "      <td>I feel you but I also feel where they are coming from too  esp if the money is good. Damn do I sound like a sell out? lol</td>\n",
       "      <td>0</td>\n",
       "      <td>0</td>\n",
       "    </tr>\n",
       "    <tr>\n",
       "      <th>32</th>\n",
       "      <td>Lol I say gay all the time in the gay way and I'm pretty gay.. gay gay gay gay..  I hope more people get offended</td>\n",
       "      <td>0</td>\n",
       "      <td>0</td>\n",
       "    </tr>\n",
       "    <tr>\n",
       "      <th>33</th>\n",
       "      <td>LOL damn.. for some underwear.. thats dedication</td>\n",
       "      <td>0</td>\n",
       "      <td>0</td>\n",
       "    </tr>\n",
       "    <tr>\n",
       "      <th>34</th>\n",
       "      <td>I hate that!! If you're on a roll w/ writing I'd stay home =) Unless its something crazyyy going on</td>\n",
       "      <td>0</td>\n",
       "      <td>0</td>\n",
       "    </tr>\n",
       "    <tr>\n",
       "      <th>35</th>\n",
       "      <td>dammnn! Long ass day lol</td>\n",
       "      <td>0</td>\n",
       "      <td>0</td>\n",
       "    </tr>\n",
       "    <tr>\n",
       "      <th>36</th>\n",
       "      <td>damn theres really no females like that lol. have fun for me thoughh</td>\n",
       "      <td>0</td>\n",
       "      <td>0</td>\n",
       "    </tr>\n",
       "    <tr>\n",
       "      <th>37</th>\n",
       "      <td>i was bored by her.  i was sitting there like a nerd like \"oh thats interesting\"</td>\n",
       "      <td>0</td>\n",
       "      <td>0</td>\n",
       "    </tr>\n",
       "    <tr>\n",
       "      <th>38</th>\n",
       "      <td>I don't hate you  promise</td>\n",
       "      <td>0</td>\n",
       "      <td>0</td>\n",
       "    </tr>\n",
       "    <tr>\n",
       "      <th>39</th>\n",
       "      <td>girl these kids are lazy these days  you gotta stay on them.  my oldest is a neat freak  but those other two..... DAMN!</td>\n",
       "      <td>0</td>\n",
       "      <td>0</td>\n",
       "    </tr>\n",
       "    <tr>\n",
       "      <th>40</th>\n",
       "      <td>GIRL YOU MADE ME SPIT!!! ROFLMAO!!!! YOU ARE TOO DAMN MUCH!!!!!!!!!</td>\n",
       "      <td>0</td>\n",
       "      <td>0</td>\n",
       "    </tr>\n",
       "    <tr>\n",
       "      <th>41</th>\n",
       "      <td>Hahaha I'm sure Bronx can beat some ass. I saw his bass on the internet. It's not as bad as some other names I've heard</td>\n",
       "      <td>0</td>\n",
       "      <td>0</td>\n",
       "    </tr>\n",
       "    <tr>\n",
       "      <th>42</th>\n",
       "      <td>Awwww! That sucks when that happens  be strong love</td>\n",
       "      <td>0</td>\n",
       "      <td>0</td>\n",
       "    </tr>\n",
       "    <tr>\n",
       "      <th>43</th>\n",
       "      <td>ooo ok. Thanks this is a good time for me to be ill. Sucks i cant call out...too much work</td>\n",
       "      <td>0</td>\n",
       "      <td>0</td>\n",
       "    </tr>\n",
       "    <tr>\n",
       "      <th>44</th>\n",
       "      <td>\"Is it duncan  if it's I'm gonna be so....hug him...because I love him\" Backing out of the hate quotes? =P</td>\n",
       "      <td>0</td>\n",
       "      <td>0</td>\n",
       "    </tr>\n",
       "    <tr>\n",
       "      <th>45</th>\n",
       "      <td>Thank you. I'm sorry  did you e-mail me already? I seem to have misplaced it if you did. I am a loser.</td>\n",
       "      <td>0</td>\n",
       "      <td>0</td>\n",
       "    </tr>\n",
       "    <tr>\n",
       "      <th>46</th>\n",
       "      <td>I fucking forgot it. So mad. Just have my phone.</td>\n",
       "      <td>0</td>\n",
       "      <td>0</td>\n",
       "    </tr>\n",
       "    <tr>\n",
       "      <th>47</th>\n",
       "      <td>somewhere quiet....goin to the mountains..and i hate to say this but that Nuvo shyt is nasty</td>\n",
       "      <td>0</td>\n",
       "      <td>0</td>\n",
       "    </tr>\n",
       "    <tr>\n",
       "      <th>48</th>\n",
       "      <td>funny how folks get mad @ southern kids makin up dance songs..then a grown ass man does it and its all good cos he prod ether</td>\n",
       "      <td>0</td>\n",
       "      <td>0</td>\n",
       "    </tr>\n",
       "    <tr>\n",
       "      <th>49</th>\n",
       "      <td>You're lucky you're not currently in Bethlehem. Try having to constantly hear it. I hate it more! And the tourists suck worse.</td>\n",
       "      <td>0</td>\n",
       "      <td>0</td>\n",
       "    </tr>\n",
       "    <tr>\n",
       "      <th>50</th>\n",
       "      <td>ive also made yarn and synth hair braid ones. Can wear as pig tails or one big pony tail</td>\n",
       "      <td>0</td>\n",
       "      <td>0</td>\n",
       "    </tr>\n",
       "    <tr>\n",
       "      <th>51</th>\n",
       "      <td>:-( That sucks... I've got pretty muscular calves from dancing but usually do okay with the lace ups.</td>\n",
       "      <td>0</td>\n",
       "      <td>0</td>\n",
       "    </tr>\n",
       "    <tr>\n",
       "      <th>52</th>\n",
       "      <td>its gay. Went to sleep at 3. Come and ill make Haha</td>\n",
       "      <td>0</td>\n",
       "      <td>0</td>\n",
       "    </tr>\n",
       "    <tr>\n",
       "      <th>53</th>\n",
       "      <td>@sspitsbergen here's hoping the fuck has to duck shoes for the rest of his natural born life.</td>\n",
       "      <td>0</td>\n",
       "      <td>0</td>\n",
       "    </tr>\n",
       "    <tr>\n",
       "      <th>54</th>\n",
       "      <td>@blackslashwhite LOL fuck you guys wish I was hanging out somewhere cool http://tinyurl.com/a4nst2</td>\n",
       "      <td>0</td>\n",
       "      <td>0</td>\n",
       "    </tr>\n",
       "    <tr>\n",
       "      <th>55</th>\n",
       "      <td>good  have some for me... im maintaining sobriety for the night... sucks.. as a matter of fact  have three.</td>\n",
       "      <td>0</td>\n",
       "      <td>0</td>\n",
       "    </tr>\n",
       "    <tr>\n",
       "      <th>56</th>\n",
       "      <td>fight camilla then bitch!</td>\n",
       "      <td>0</td>\n",
       "      <td>1</td>\n",
       "    </tr>\n",
       "    <tr>\n",
       "      <th>57</th>\n",
       "      <td>she sucks. :)</td>\n",
       "      <td>0</td>\n",
       "      <td>0</td>\n",
       "    </tr>\n",
       "    <tr>\n",
       "      <th>58</th>\n",
       "      <td>OMG I hate when that happens :(</td>\n",
       "      <td>0</td>\n",
       "      <td>0</td>\n",
       "    </tr>\n",
       "    <tr>\n",
       "      <th>59</th>\n",
       "      <td>Damn son  you drive a tank? It costs me less than $25.</td>\n",
       "      <td>0</td>\n",
       "      <td>0</td>\n",
       "    </tr>\n",
       "  </tbody>\n",
       "</table>\n",
       "</div>"
      ],
      "text/plain": [
       "                                                                                                                                  Text  \\\n",
       "0                          damn there is someones nana up here at beach with one. dont think ic an steal and get to you quickly tho ;(   \n",
       "1                                               no kidding! dick clark was a corpse mechanically operated by the advertising companies   \n",
       "2                  i read an article on jobros and thought damn we should cash in on our jobro pokemon. Perfect stocking stuffers haha   \n",
       "3                                                 I got one fucking day of sprinkles and now it's back to sunshine and douchebaggery.\"   \n",
       "4                 I was already listening to Elliott smith  and I fucking hate kanye west. He's not a valid artist or human in my eyes   \n",
       "5                                                                          I told Derek to go fuck himself  Devyn told us to calm down   \n",
       "6                                                                            I'm watching the new Smosh video and laughing my ass off.   \n",
       "7           My mom didn't like Catholicism because the idea of being a sinner from birth irked her  and she loves gay people  so yeah.   \n",
       "8   ya i know! lol AND big thunder mountain broke down! i only got 2 ride it once! i got a ton of bad luck. i think u stole it! bitch!   \n",
       "9                                                                                                                    lucky bitch.....\"   \n",
       "10      hate the auto DMs  there's no better way to show that you don't actually care about your followers than to put it on autopilot   \n",
       "11                                          Top Notch click!  DONT HATE hater!  u mad cuz u broke  using a playstation as a cd player.   \n",
       "12                                                          question  where the fuck is my father!? he has been MIA for like two days!   \n",
       "13                                      Fair enough  will get my ass around to doing it sometime later. Your voice has changed  btw :P   \n",
       "14   yeah that seems like he got some bitch in him somewhere or he could be brainwashed. I got a forum right now thats going in on BEY   \n",
       "15    See it too A friend of mine uses acai berry but for medical purposes. {shrugs} Damn @ her being hella skinny. I may try... Maybe   \n",
       "16                                                                                                      How can you hate Hugh Laurie!?   \n",
       "17                                                 ... First thing I would do is go to the bathroom because I most likely piss myself.   \n",
       "18                                                                                                         Um... I hate birds. Bleech!   \n",
       "19        Yes. Take the damn pickles. I'm glad we've been talking virtually every possible moment. I have a feeling it will ciontinue.   \n",
       "20                        mmm nice. problem is - i hate reading blogs in hebrew. i can read them but it takes me longer and i have ADD   \n",
       "21                                                                          awww. cum playz. we makin finger paintz on da wallz kinda.   \n",
       "22     I seriously hate insects/bugs of all kinds :( even ants... wish there was some... anti-bug thing I could stick at my door and -   \n",
       "23                     but yeah it sucks Bl there's 25 maps and wanting to get on a specific one takes forever if you're unlucky. orz.   \n",
       "24                                                                                                       Haha  that's a long-ass tail!   \n",
       "25                               When was the first ICS? Was Emo Jesus created yet? was prior to March 22  2007 (1st live tattoo show)   \n",
       "26                                                                                                                          you whore!   \n",
       "27                                                                                       awe man that sucks... I mean that's awesome!!   \n",
       "28                                                                    only if you promise to not make me look emo or like a raccoon ;}   \n",
       "29                                   i'll give you a suprise if you catch up to me by christmas. Lol! Your followers would hate you :P   \n",
       "30                                                Yeah...you'd have to post exactly.........a LOT of fucking tweets a day Hahaha &lt;3   \n",
       "31           I feel you but I also feel where they are coming from too  esp if the money is good. Damn do I sound like a sell out? lol   \n",
       "32                   Lol I say gay all the time in the gay way and I'm pretty gay.. gay gay gay gay..  I hope more people get offended   \n",
       "33                                                                                    LOL damn.. for some underwear.. thats dedication   \n",
       "34                                 I hate that!! If you're on a roll w/ writing I'd stay home =) Unless its something crazyyy going on   \n",
       "35                                                                                                            dammnn! Long ass day lol   \n",
       "36                                                                damn theres really no females like that lol. have fun for me thoughh   \n",
       "37                                                    i was bored by her.  i was sitting there like a nerd like \"oh thats interesting\"   \n",
       "38                                                                                                           I don't hate you  promise   \n",
       "39             girl these kids are lazy these days  you gotta stay on them.  my oldest is a neat freak  but those other two..... DAMN!   \n",
       "40                                                                 GIRL YOU MADE ME SPIT!!! ROFLMAO!!!! YOU ARE TOO DAMN MUCH!!!!!!!!!   \n",
       "41             Hahaha I'm sure Bronx can beat some ass. I saw his bass on the internet. It's not as bad as some other names I've heard   \n",
       "42                                                                                 Awwww! That sucks when that happens  be strong love   \n",
       "43                                          ooo ok. Thanks this is a good time for me to be ill. Sucks i cant call out...too much work   \n",
       "44                          \"Is it duncan  if it's I'm gonna be so....hug him...because I love him\" Backing out of the hate quotes? =P   \n",
       "45                              Thank you. I'm sorry  did you e-mail me already? I seem to have misplaced it if you did. I am a loser.   \n",
       "46                                                                                    I fucking forgot it. So mad. Just have my phone.   \n",
       "47                                        somewhere quiet....goin to the mountains..and i hate to say this but that Nuvo shyt is nasty   \n",
       "48       funny how folks get mad @ southern kids makin up dance songs..then a grown ass man does it and its all good cos he prod ether   \n",
       "49      You're lucky you're not currently in Bethlehem. Try having to constantly hear it. I hate it more! And the tourists suck worse.   \n",
       "50                                            ive also made yarn and synth hair braid ones. Can wear as pig tails or one big pony tail   \n",
       "51                               :-( That sucks... I've got pretty muscular calves from dancing but usually do okay with the lace ups.   \n",
       "52                                                                                 its gay. Went to sleep at 3. Come and ill make Haha   \n",
       "53                                       @sspitsbergen here's hoping the fuck has to duck shoes for the rest of his natural born life.   \n",
       "54                                  @blackslashwhite LOL fuck you guys wish I was hanging out somewhere cool http://tinyurl.com/a4nst2   \n",
       "55                         good  have some for me... im maintaining sobriety for the night... sucks.. as a matter of fact  have three.   \n",
       "56                                                                                                           fight camilla then bitch!   \n",
       "57                                                                                                                       she sucks. :)   \n",
       "58                                                                                                     OMG I hate when that happens :(   \n",
       "59                                                                              Damn son  you drive a tank? It costs me less than $25.   \n",
       "\n",
       "    CB_Label  predictions  \n",
       "0          0            0  \n",
       "1          0            0  \n",
       "2          0            0  \n",
       "3          0            0  \n",
       "4          0            0  \n",
       "5          0            0  \n",
       "6          0            0  \n",
       "7          0            0  \n",
       "8          0            0  \n",
       "9          0            0  \n",
       "10         0            1  \n",
       "11         0            0  \n",
       "12         0            0  \n",
       "13         0            0  \n",
       "14         0            0  \n",
       "15         0            0  \n",
       "16         0            0  \n",
       "17         0            0  \n",
       "18         0            0  \n",
       "19         0            0  \n",
       "20         0            0  \n",
       "21         0            0  \n",
       "22         0            0  \n",
       "23         0            0  \n",
       "24         0            0  \n",
       "25         0            0  \n",
       "26         0            0  \n",
       "27         0            0  \n",
       "28         0            0  \n",
       "29         0            0  \n",
       "30         0            0  \n",
       "31         0            0  \n",
       "32         0            0  \n",
       "33         0            0  \n",
       "34         0            0  \n",
       "35         0            0  \n",
       "36         0            0  \n",
       "37         0            0  \n",
       "38         0            0  \n",
       "39         0            0  \n",
       "40         0            0  \n",
       "41         0            0  \n",
       "42         0            0  \n",
       "43         0            0  \n",
       "44         0            0  \n",
       "45         0            0  \n",
       "46         0            0  \n",
       "47         0            0  \n",
       "48         0            0  \n",
       "49         0            0  \n",
       "50         0            0  \n",
       "51         0            0  \n",
       "52         0            0  \n",
       "53         0            0  \n",
       "54         0            0  \n",
       "55         0            0  \n",
       "56         0            1  \n",
       "57         0            0  \n",
       "58         0            0  \n",
       "59         0            0  "
      ]
     },
     "execution_count": 15,
     "metadata": {},
     "output_type": "execute_result"
    }
   ],
   "source": [
    "df_test['predictions'] = predictions_test\n",
    "pd.set_option(\"display.max_colwidth\", 248)\n",
    "df_test.head(n=60)"
   ]
  },
  {
   "cell_type": "markdown",
   "id": "4c19458e",
   "metadata": {
    "papermill": {
     "duration": 0.01413,
     "end_time": "2023-11-21T23:05:37.502330",
     "exception": false,
     "start_time": "2023-11-21T23:05:37.488200",
     "status": "completed"
    },
    "tags": []
   },
   "source": [
    "Intertingly the model flagged comments that aren't cyberbullying as cyberbullying, but interestingly the comments the model flagged, without context seem to be offensive or harmful.  However the does flag the non-cyberbullying tweets correctly."
   ]
  }
 ],
 "metadata": {
  "kaggle": {
   "accelerator": "none",
   "dataSources": [],
   "dockerImageVersionId": 30587,
   "isGpuEnabled": false,
   "isInternetEnabled": true,
   "language": "python",
   "sourceType": "notebook"
  },
  "kernelspec": {
   "display_name": "Python 3",
   "language": "python",
   "name": "python3"
  },
  "language_info": {
   "codemirror_mode": {
    "name": "ipython",
    "version": 3
   },
   "file_extension": ".py",
   "mimetype": "text/x-python",
   "name": "python",
   "nbconvert_exporter": "python",
   "pygments_lexer": "ipython3",
   "version": "3.10.12"
  },
  "papermill": {
   "default_parameters": {},
   "duration": 806.924655,
   "end_time": "2023-11-21T23:05:38.446029",
   "environment_variables": {},
   "exception": null,
   "input_path": "__notebook__.ipynb",
   "output_path": "__notebook__.ipynb",
   "parameters": {},
   "start_time": "2023-11-21T22:52:11.521374",
   "version": "2.4.0"
  }
 },
 "nbformat": 4,
 "nbformat_minor": 5
}
