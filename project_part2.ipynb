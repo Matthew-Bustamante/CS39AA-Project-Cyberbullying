{
 "cells": [
  {
   "cell_type": "markdown",
   "id": "5b582a93",
   "metadata": {
    "papermill": {
     "duration": 0.006936,
     "end_time": "2023-11-16T16:35:26.741467",
     "exception": false,
     "start_time": "2023-11-16T16:35:26.734531",
     "status": "completed"
    },
    "tags": []
   },
   "source": [
    "# Project Part 2\n",
    "\n",
    "[![Kaggle](https://kaggle.com/static/images/open-in-kaggle.svg)](https://kaggle.com/kernels/welcome?src=https://github.com/Matthew-Bustamante/CS39AA-Project-Cyberbullying/blob/main/project_part2.ipynb)\n",
    "\n",
    "\n",
    "[![Open In Colab](https://colab.research.google.com/assets/colab-badge.svg)](https://colab.research.google.com/github/Matthew-Bustamante/CS39AA-Project-Cyberbullying/blob/main/project_part2.ipynb)"
   ]
  },
  {
   "cell_type": "code",
   "execution_count": 1,
   "id": "aa67e696",
   "metadata": {
    "_cell_guid": "b1076dfc-b9ad-4769-8c92-a6c4dae69d19",
    "_uuid": "8f2839f25d086af736a60e9eeb907d3b93b6e0e5",
    "execution": {
     "iopub.execute_input": "2023-11-16T16:35:26.758211Z",
     "iopub.status.busy": "2023-11-16T16:35:26.757720Z",
     "iopub.status.idle": "2023-11-16T16:35:27.200979Z",
     "shell.execute_reply": "2023-11-16T16:35:27.199778Z"
    },
    "jupyter": {
     "source_hidden": true
    },
    "papermill": {
     "duration": 0.454309,
     "end_time": "2023-11-16T16:35:27.204065",
     "exception": false,
     "start_time": "2023-11-16T16:35:26.749756",
     "status": "completed"
    },
    "tags": []
   },
   "outputs": [],
   "source": [
    "# This Python 3 environment comes with many helpful analytics libraries installed\n",
    "# It is defined by the kaggle/python Docker image: https://github.com/kaggle/docker-python\n",
    "# For example, here's several helpful packages to load\n",
    "\n",
    "import numpy as np # linear algebra\n",
    "import pandas as pd # data processing, CSV file I/O (e.g. pd.read_csv)\n",
    "\n",
    "# Input data files are available in the read-only \"../input/\" directory\n",
    "# For example, running this (by clicking run or pressing Shift+Enter) will list all files under the input directory\n",
    "\n",
    "import os\n",
    "for dirname, _, filenames in os.walk('/kaggle/input'):\n",
    "    for filename in filenames:\n",
    "        print(os.path.join(dirname, filename))\n",
    "\n",
    "# You can write up to 20GB to the current directory (/kaggle/working/) that gets preserved as output when you create a version using \"Save & Run All\" \n",
    "# You can also write temporary files to /kaggle/temp/, but they won't be saved outside of the current session"
   ]
  },
  {
   "cell_type": "markdown",
   "id": "af5216be",
   "metadata": {
    "papermill": {
     "duration": 0.005725,
     "end_time": "2023-11-16T16:35:27.215969",
     "exception": false,
     "start_time": "2023-11-16T16:35:27.210244",
     "status": "completed"
    },
    "tags": []
   },
   "source": [
    "Inputing the data and reading the data"
   ]
  },
  {
   "cell_type": "code",
   "execution_count": 2,
   "id": "ebc4022f",
   "metadata": {
    "execution": {
     "iopub.execute_input": "2023-11-16T16:35:27.231738Z",
     "iopub.status.busy": "2023-11-16T16:35:27.231214Z",
     "iopub.status.idle": "2023-11-16T16:35:27.900393Z",
     "shell.execute_reply": "2023-11-16T16:35:27.899164Z"
    },
    "papermill": {
     "duration": 0.67973,
     "end_time": "2023-11-16T16:35:27.903107",
     "exception": false,
     "start_time": "2023-11-16T16:35:27.223377",
     "status": "completed"
    },
    "tags": []
   },
   "outputs": [
    {
     "data": {
      "text/html": [
       "<div>\n",
       "<style scoped>\n",
       "    .dataframe tbody tr th:only-of-type {\n",
       "        vertical-align: middle;\n",
       "    }\n",
       "\n",
       "    .dataframe tbody tr th {\n",
       "        vertical-align: top;\n",
       "    }\n",
       "\n",
       "    .dataframe thead th {\n",
       "        text-align: right;\n",
       "    }\n",
       "</style>\n",
       "<table border=\"1\" class=\"dataframe\">\n",
       "  <thead>\n",
       "    <tr style=\"text-align: right;\">\n",
       "      <th></th>\n",
       "      <th>Text</th>\n",
       "      <th>CB_Label</th>\n",
       "    </tr>\n",
       "  </thead>\n",
       "  <tbody>\n",
       "    <tr>\n",
       "      <th>0</th>\n",
       "      <td>damn there is someones nana up here at beach w...</td>\n",
       "      <td>0</td>\n",
       "    </tr>\n",
       "    <tr>\n",
       "      <th>1</th>\n",
       "      <td>no kidding! dick clark was a corpse mechanical...</td>\n",
       "      <td>0</td>\n",
       "    </tr>\n",
       "    <tr>\n",
       "      <th>2</th>\n",
       "      <td>i read an article on jobros and thought damn w...</td>\n",
       "      <td>0</td>\n",
       "    </tr>\n",
       "    <tr>\n",
       "      <th>3</th>\n",
       "      <td>I got one fucking day of sprinkles and now it'...</td>\n",
       "      <td>0</td>\n",
       "    </tr>\n",
       "    <tr>\n",
       "      <th>4</th>\n",
       "      <td>I was already listening to Elliott smith  and ...</td>\n",
       "      <td>0</td>\n",
       "    </tr>\n",
       "  </tbody>\n",
       "</table>\n",
       "</div>"
      ],
      "text/plain": [
       "                                                Text  CB_Label\n",
       "0  damn there is someones nana up here at beach w...         0\n",
       "1  no kidding! dick clark was a corpse mechanical...         0\n",
       "2  i read an article on jobros and thought damn w...         0\n",
       "3  I got one fucking day of sprinkles and now it'...         0\n",
       "4  I was already listening to Elliott smith  and ...         0"
      ]
     },
     "execution_count": 2,
     "metadata": {},
     "output_type": "execute_result"
    }
   ],
   "source": [
    "input_data_path = 'https://raw.githubusercontent.com/Matthew-Bustamante/CS39AA-Project-Cyberbullying/main/'\n",
    "training_data_file = 'CyberBullying_Comments_Dataset.csv'\n",
    "df = pd.read_csv(input_data_path + training_data_file)\n",
    "df.head()"
   ]
  },
  {
   "cell_type": "markdown",
   "id": "5b7557c9",
   "metadata": {
    "papermill": {
     "duration": 0.006026,
     "end_time": "2023-11-16T16:35:27.915374",
     "exception": false,
     "start_time": "2023-11-16T16:35:27.909348",
     "status": "completed"
    },
    "tags": []
   },
   "source": [
    "Splitting the data"
   ]
  },
  {
   "cell_type": "code",
   "execution_count": 3,
   "id": "e05c95c5",
   "metadata": {
    "execution": {
     "iopub.execute_input": "2023-11-16T16:35:27.930444Z",
     "iopub.status.busy": "2023-11-16T16:35:27.929769Z",
     "iopub.status.idle": "2023-11-16T16:35:29.261853Z",
     "shell.execute_reply": "2023-11-16T16:35:29.260200Z"
    },
    "papermill": {
     "duration": 1.343246,
     "end_time": "2023-11-16T16:35:29.264885",
     "exception": false,
     "start_time": "2023-11-16T16:35:27.921639",
     "status": "completed"
    },
    "tags": []
   },
   "outputs": [],
   "source": [
    "from sklearn.model_selection import train_test_split\n",
    "\n",
    "X = df['Text'].copy()\n",
    "y = df['CB_Label'].copy()\n",
    "\n",
    "X_train_raw, X_val_raw, y_train, y_val = train_test_split(X, y, test_size=0.20, random_state=42)"
   ]
  },
  {
   "cell_type": "markdown",
   "id": "b964470e",
   "metadata": {
    "papermill": {
     "duration": 0.006022,
     "end_time": "2023-11-16T16:35:29.277384",
     "exception": false,
     "start_time": "2023-11-16T16:35:29.271362",
     "status": "completed"
    },
    "tags": []
   },
   "source": [
    "Next we're going to vectorize the data"
   ]
  },
  {
   "cell_type": "code",
   "execution_count": 4,
   "id": "2c95361d",
   "metadata": {
    "execution": {
     "iopub.execute_input": "2023-11-16T16:35:29.292449Z",
     "iopub.status.busy": "2023-11-16T16:35:29.292028Z",
     "iopub.status.idle": "2023-11-16T16:35:30.286203Z",
     "shell.execute_reply": "2023-11-16T16:35:30.284878Z"
    },
    "papermill": {
     "duration": 1.004892,
     "end_time": "2023-11-16T16:35:30.288776",
     "exception": false,
     "start_time": "2023-11-16T16:35:29.283884",
     "status": "completed"
    },
    "tags": []
   },
   "outputs": [
    {
     "name": "stdout",
     "output_type": "stream",
     "text": [
      "X_train.shape = (8880, 15603)\n"
     ]
    },
    {
     "data": {
      "text/plain": [
       "numpy.ndarray"
      ]
     },
     "execution_count": 4,
     "metadata": {},
     "output_type": "execute_result"
    }
   ],
   "source": [
    "from sklearn.feature_extraction.text import TfidfVectorizer\n",
    "\n",
    "tfidf_vectorizer = TfidfVectorizer()\n",
    "X_train = tfidf_vectorizer.fit_transform(X_train_raw).toarray()\n",
    "\n",
    "print(f\"X_train.shape = {X_train.shape}\")\n",
    "type(X_train)"
   ]
  },
  {
   "cell_type": "markdown",
   "id": "13f6a4dc",
   "metadata": {
    "papermill": {
     "duration": 0.006261,
     "end_time": "2023-11-16T16:35:30.301580",
     "exception": false,
     "start_time": "2023-11-16T16:35:30.295319",
     "status": "completed"
    },
    "tags": []
   },
   "source": [
    "Now its time to implement a baseline model to the data.  For right now we'll use RandomForestClassifier to get a baseline view of how the data will work"
   ]
  },
  {
   "cell_type": "code",
   "execution_count": 5,
   "id": "80b11ebb",
   "metadata": {
    "execution": {
     "iopub.execute_input": "2023-11-16T16:35:30.316752Z",
     "iopub.status.busy": "2023-11-16T16:35:30.316244Z",
     "iopub.status.idle": "2023-11-16T16:35:48.766986Z",
     "shell.execute_reply": "2023-11-16T16:35:48.765392Z"
    },
    "papermill": {
     "duration": 18.461977,
     "end_time": "2023-11-16T16:35:48.770154",
     "exception": false,
     "start_time": "2023-11-16T16:35:30.308177",
     "status": "completed"
    },
    "tags": []
   },
   "outputs": [
    {
     "name": "stdout",
     "output_type": "stream",
     "text": [
      "accuracy (on y_train): 0.9979\n"
     ]
    },
    {
     "data": {
      "image/png": "[encoded data removed]",
      "text/plain": [
       "<Figure size 640x480 with 2 Axes>"
      ]
     },
     "metadata": {},
     "output_type": "display_data"
    }
   ],
   "source": [
    "from sklearn.ensemble import RandomForestClassifier\n",
    "from sklearn.metrics import confusion_matrix, ConfusionMatrixDisplay, accuracy_score\n",
    "\n",
    "model = RandomForestClassifier(n_estimators=25)\n",
    "model = model.fit(X_train, y_train)\n",
    "\n",
    "predictions_train = model.predict(X_train)\n",
    "\n",
    "disp = ConfusionMatrixDisplay(confusion_matrix(y_train, predictions_train), display_labels=['non-cyberbullying', 'cyberbullying'])\n",
    "disp.plot()\n",
    "print(f\"accuracy (on y_train): {accuracy_score(y_train, predictions_train):.4f}\")"
   ]
  },
  {
   "cell_type": "markdown",
   "id": "1a7a1487",
   "metadata": {
    "papermill": {
     "duration": 0.008626,
     "end_time": "2023-11-16T16:35:48.787245",
     "exception": false,
     "start_time": "2023-11-16T16:35:48.778619",
     "status": "completed"
    },
    "tags": []
   },
   "source": [
    "Checking to make sure the validation data looks like what we expect it to be"
   ]
  },
  {
   "cell_type": "code",
   "execution_count": 6,
   "id": "30956114",
   "metadata": {
    "execution": {
     "iopub.execute_input": "2023-11-16T16:35:48.806400Z",
     "iopub.status.busy": "2023-11-16T16:35:48.805463Z",
     "iopub.status.idle": "2023-11-16T16:35:49.017224Z",
     "shell.execute_reply": "2023-11-16T16:35:49.015733Z"
    },
    "papermill": {
     "duration": 0.225298,
     "end_time": "2023-11-16T16:35:49.020856",
     "exception": false,
     "start_time": "2023-11-16T16:35:48.795558",
     "status": "completed"
    },
    "tags": []
   },
   "outputs": [
    {
     "name": "stdout",
     "output_type": "stream",
     "text": [
      "X_val.shape = (2220, 15603)\n"
     ]
    },
    {
     "data": {
      "text/plain": [
       "numpy.ndarray"
      ]
     },
     "execution_count": 6,
     "metadata": {},
     "output_type": "execute_result"
    }
   ],
   "source": [
    "X_val = tfidf_vectorizer.transform(X_val_raw).toarray()\n",
    "print(f\"X_val.shape = {X_val.shape}\")\n",
    "type(X_val)"
   ]
  },
  {
   "cell_type": "code",
   "execution_count": 7,
   "id": "38c6e26a",
   "metadata": {
    "execution": {
     "iopub.execute_input": "2023-11-16T16:35:49.040312Z",
     "iopub.status.busy": "2023-11-16T16:35:49.039632Z",
     "iopub.status.idle": "2023-11-16T16:35:49.613921Z",
     "shell.execute_reply": "2023-11-16T16:35:49.612816Z"
    },
    "papermill": {
     "duration": 0.587045,
     "end_time": "2023-11-16T16:35:49.616407",
     "exception": false,
     "start_time": "2023-11-16T16:35:49.029362",
     "status": "completed"
    },
    "tags": []
   },
   "outputs": [
    {
     "name": "stdout",
     "output_type": "stream",
     "text": [
      "accuracy (on y_val): 0.7374\n"
     ]
    },
    {
     "data": {
      "image/png": "[encoded data removed]",
      "text/plain": [
       "<Figure size 640x480 with 2 Axes>"
      ]
     },
     "metadata": {},
     "output_type": "display_data"
    }
   ],
   "source": [
    "predictions_val = model.predict(X_val)\n",
    "disp = ConfusionMatrixDisplay(confusion_matrix(y_val, predictions_val), display_labels=['non-cyberbullying','cyberbullying'])\n",
    "disp.plot()\n",
    "print(f\"accuracy (on y_val): {accuracy_score(y_val, predictions_val):.4f}\")"
   ]
  },
  {
   "cell_type": "markdown",
   "id": "98febb07",
   "metadata": {
    "papermill": {
     "duration": 0.007935,
     "end_time": "2023-11-16T16:35:49.633042",
     "exception": false,
     "start_time": "2023-11-16T16:35:49.625107",
     "status": "completed"
    },
    "tags": []
   },
   "source": [
    "So our accuracy for this model is pretty bad with the model having an accuracy of 74-75%.  Let's see if we can find a hyperparameter that can tune this model to be more accurate."
   ]
  },
  {
   "cell_type": "code",
   "execution_count": 8,
   "id": "a5151dde",
   "metadata": {
    "execution": {
     "iopub.execute_input": "2023-11-16T16:35:49.652555Z",
     "iopub.status.busy": "2023-11-16T16:35:49.651663Z",
     "iopub.status.idle": "2023-11-16T16:35:49.658279Z",
     "shell.execute_reply": "2023-11-16T16:35:49.656721Z"
    },
    "papermill": {
     "duration": 0.019305,
     "end_time": "2023-11-16T16:35:49.660958",
     "exception": false,
     "start_time": "2023-11-16T16:35:49.641653",
     "status": "completed"
    },
    "tags": []
   },
   "outputs": [],
   "source": [
    "tune_model = True"
   ]
  },
  {
   "cell_type": "code",
   "execution_count": 9,
   "id": "a298d3cc",
   "metadata": {
    "execution": {
     "iopub.execute_input": "2023-11-16T16:35:49.680230Z",
     "iopub.status.busy": "2023-11-16T16:35:49.679475Z",
     "iopub.status.idle": "2023-11-16T16:35:49.690041Z",
     "shell.execute_reply": "2023-11-16T16:35:49.689036Z"
    },
    "papermill": {
     "duration": 0.022725,
     "end_time": "2023-11-16T16:35:49.692189",
     "exception": false,
     "start_time": "2023-11-16T16:35:49.669464",
     "status": "completed"
    },
    "tags": []
   },
   "outputs": [
    {
     "data": {
      "text/plain": [
       "\"\\nfrom sklearn.metrics import log_loss\\n\\ndef tuneModel(hyperparam_value):\\n    rf_model = RandomForestClassifier(n_estimators=hyperparam_value, random_state=5)\\n    #rf_model = RandomForestClassifier(min_samples_split=hyperparam_value, random_state=1)\\n    rf_model.fit(X_train, y_train)\\n    y_train_pred_prob = rf_model.predict_proba(X_train)\\n    y_train_pred = rf_model.predict(X_train)\\n    y_val_pred_prob = rf_model.predict_proba(X_val)\\n    y_val_pred = rf_model.predict(X_val)\\n    train_loss = log_loss(y_train, y_train_pred_prob, labels=['non-cyberbullying', 'cyberbullying'])\\n    train_acc = accuracy_score(y_train, y_train_pred)\\n    val_loss = log_loss(y_val, y_val_pred_prob, labels=['non-cyberbullying', 'cyberbullying'])\\n    val_acc = accuracy_score(y_val, y_val_pred)\\n    return (train_loss, val_loss, train_acc, val_acc)\\n\\n# Possible values for the hyperparameter are in the range of 5 to 150 (by 50)\\nhyp_param_vals = list(range(10,261,50)) # good values for n_estimators\\n#hyp_param_vals = [2,3] + list(range(5, 50, 10)) # good values for min_samples_split\\nmetrics = []\\n\\nif tune_model:\\n    for hp in hyp_param_vals:\\n        metrics.append(tuneModel(hp))\\n\""
      ]
     },
     "execution_count": 9,
     "metadata": {},
     "output_type": "execute_result"
    }
   ],
   "source": [
    "\"\"\"\n",
    "from sklearn.metrics import log_loss\n",
    "\n",
    "def tuneModel(hyperparam_value):\n",
    "    rf_model = RandomForestClassifier(n_estimators=hyperparam_value, random_state=5)\n",
    "    #rf_model = RandomForestClassifier(min_samples_split=hyperparam_value, random_state=1)\n",
    "    rf_model.fit(X_train, y_train)\n",
    "    y_train_pred_prob = rf_model.predict_proba(X_train)\n",
    "    y_train_pred = rf_model.predict(X_train)\n",
    "    y_val_pred_prob = rf_model.predict_proba(X_val)\n",
    "    y_val_pred = rf_model.predict(X_val)\n",
    "    train_loss = log_loss(y_train, y_train_pred_prob, labels=['non-cyberbullying', 'cyberbullying'])\n",
    "    train_acc = accuracy_score(y_train, y_train_pred)\n",
    "    val_loss = log_loss(y_val, y_val_pred_prob, labels=['non-cyberbullying', 'cyberbullying'])\n",
    "    val_acc = accuracy_score(y_val, y_val_pred)\n",
    "    return (train_loss, val_loss, train_acc, val_acc)\n",
    "\n",
    "# Possible values for the hyperparameter are in the range of 5 to 150 (by 50)\n",
    "hyp_param_vals = list(range(10,261,50)) # good values for n_estimators\n",
    "#hyp_param_vals = [2,3] + list(range(5, 50, 10)) # good values for min_samples_split\n",
    "metrics = []\n",
    "\n",
    "if tune_model:\n",
    "    for hp in hyp_param_vals:\n",
    "        metrics.append(tuneModel(hp))\n",
    "\"\"\""
   ]
  },
  {
   "cell_type": "markdown",
   "id": "bf382415",
   "metadata": {
    "papermill": {
     "duration": 0.008786,
     "end_time": "2023-11-16T16:35:49.709534",
     "exception": false,
     "start_time": "2023-11-16T16:35:49.700748",
     "status": "completed"
    },
    "tags": []
   },
   "source": [
    "Plot the results of the model's performance for each hyperparameter value"
   ]
  },
  {
   "cell_type": "code",
   "execution_count": 10,
   "id": "a3744890",
   "metadata": {
    "execution": {
     "iopub.execute_input": "2023-11-16T16:35:49.729251Z",
     "iopub.status.busy": "2023-11-16T16:35:49.728140Z",
     "iopub.status.idle": "2023-11-16T16:35:49.738809Z",
     "shell.execute_reply": "2023-11-16T16:35:49.737151Z"
    },
    "papermill": {
     "duration": 0.023736,
     "end_time": "2023-11-16T16:35:49.741637",
     "exception": false,
     "start_time": "2023-11-16T16:35:49.717901",
     "status": "completed"
    },
    "tags": []
   },
   "outputs": [
    {
     "data": {
      "text/plain": [
       "'\\nimport matplotlib.pyplot as plt\\n\\nif tune_model:\\n    fig, (ax1, ax2) = plt.subplots(1, 2, figsize=(16, 4))\\n\\n    ax1.set_xticks(hyp_param_vals)\\n    ax1.set(xlabel=\"n_estimators\", ylabel=\"loss (lower is better)\")\\n    ax1.plot(hyp_param_vals, [metric[1] for metric in metrics], \\'--ro\\') # validation loss\\n    ax1.plot(hyp_param_vals, [metric[0] for metric in metrics], \\'--bo\\') # training loss\\n    ax1.legend([\"Validation Loss\", \"Train Loss\"], loc=1)\\n\\n    ax2.set_xticks(hyp_param_vals)\\n    ax2.set(xlabel=\"n_estimators\", ylabel=\"accuracy (higher is better)\")\\n    ax2.plot(hyp_param_vals, [metric[3] for metric in metrics], \\'--ro\\') # validation accuracy\\n    ax2.plot(hyp_param_vals, [metric[2] for metric in metrics], \\'--bo\\') # training accuracy\\n    ax2.legend([\"Validation Accuracy\", \"Train Accuracy\"], loc=1)\\n\\n'"
      ]
     },
     "execution_count": 10,
     "metadata": {},
     "output_type": "execute_result"
    }
   ],
   "source": [
    "\"\"\"\n",
    "import matplotlib.pyplot as plt\n",
    "\n",
    "if tune_model:\n",
    "    fig, (ax1, ax2) = plt.subplots(1, 2, figsize=(16, 4))\n",
    "\n",
    "    ax1.set_xticks(hyp_param_vals)\n",
    "    ax1.set(xlabel=\"n_estimators\", ylabel=\"loss (lower is better)\")\n",
    "    ax1.plot(hyp_param_vals, [metric[1] for metric in metrics], '--ro') # validation loss\n",
    "    ax1.plot(hyp_param_vals, [metric[0] for metric in metrics], '--bo') # training loss\n",
    "    ax1.legend([\"Validation Loss\", \"Train Loss\"], loc=1)\n",
    "\n",
    "    ax2.set_xticks(hyp_param_vals)\n",
    "    ax2.set(xlabel=\"n_estimators\", ylabel=\"accuracy (higher is better)\")\n",
    "    ax2.plot(hyp_param_vals, [metric[3] for metric in metrics], '--ro') # validation accuracy\n",
    "    ax2.plot(hyp_param_vals, [metric[2] for metric in metrics], '--bo') # training accuracy\n",
    "    ax2.legend([\"Validation Accuracy\", \"Train Accuracy\"], loc=1)\n",
    "\n",
    "\"\"\""
   ]
  }
 ],
 "metadata": {
  "kaggle": {
   "accelerator": "none",
   "dataSources": [],
   "dockerImageVersionId": 30587,
   "isGpuEnabled": false,
   "isInternetEnabled": true,
   "language": "python",
   "sourceType": "notebook"
  },
  "kernelspec": {
   "display_name": "Python 3",
   "language": "python",
   "name": "python3"
  },
  "language_info": {
   "codemirror_mode": {
    "name": "ipython",
    "version": 3
   },
   "file_extension": ".py",
   "mimetype": "text/x-python",
   "name": "python",
   "nbconvert_exporter": "python",
   "pygments_lexer": "ipython3",
   "version": "3.10.12"
  },
  "papermill": {
   "default_parameters": {},
   "duration": 27.424833,
   "end_time": "2023-11-16T16:35:50.474520",
   "environment_variables": {},
   "exception": null,
   "input_path": "__notebook__.ipynb",
   "output_path": "__notebook__.ipynb",
   "parameters": {},
   "start_time": "2023-11-16T16:35:23.049687",
   "version": "2.4.0"
  }
 },
 "nbformat": 4,
 "nbformat_minor": 5
}
