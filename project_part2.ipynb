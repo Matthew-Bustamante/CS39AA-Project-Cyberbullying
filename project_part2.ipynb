{
 "cells": [
  {
   "cell_type": "markdown",
   "id": "eeb6e1b8",
   "metadata": {
    "papermill": {
     "duration": 0.012617,
     "end_time": "2023-11-25T03:40:10.346850",
     "exception": false,
     "start_time": "2023-11-25T03:40:10.334233",
     "status": "completed"
    },
    "tags": []
   },
   "source": [
    "# Project Part 2\n",
    "\n",
    "[![Kaggle](https://kaggle.com/static/images/open-in-kaggle.svg)](https://kaggle.com/kernels/welcome?src=https://github.com/Matthew-Bustamante/CS39AA-Project-Cyberbullying/blob/main/project_part2.ipynb)\n",
    "\n",
    "\n",
    "[![Open In Colab](https://colab.research.google.com/assets/colab-badge.svg)](https://colab.research.google.com/github/Matthew-Bustamante/CS39AA-Project-Cyberbullying/blob/main/project_part2.ipynb)\n",
    "\n",
    "For part 2 I'm going to be implementing a baseline model to predict and flag Tweets that are cyberbullying. For this part of the project I messed around with two models one being the RandomForestClassifier model and the ExtraTreesClassifier model.  The ExtraTreesClassifier model gave a better accuracy so I decided to use the ExtraTreesClassifeir model to predict cyberbullying Tweets."
   ]
  },
  {
   "cell_type": "code",
   "execution_count": 1,
   "id": "57afcb9b",
   "metadata": {
    "_cell_guid": "b1076dfc-b9ad-4769-8c92-a6c4dae69d19",
    "_uuid": "8f2839f25d086af736a60e9eeb907d3b93b6e0e5",
    "execution": {
     "iopub.execute_input": "2023-11-25T03:40:10.367508Z",
     "iopub.status.busy": "2023-11-25T03:40:10.366855Z",
     "iopub.status.idle": "2023-11-25T03:40:10.810789Z",
     "shell.execute_reply": "2023-11-25T03:40:10.809576Z"
    },
    "papermill": {
     "duration": 0.458408,
     "end_time": "2023-11-25T03:40:10.814376",
     "exception": false,
     "start_time": "2023-11-25T03:40:10.355968",
     "status": "completed"
    },
    "tags": []
   },
   "outputs": [],
   "source": [
    "# This Python 3 environment comes with many helpful analytics libraries installed\n",
    "# It is defined by the kaggle/python Docker image: https://github.com/kaggle/docker-python\n",
    "# For example, here's several helpful packages to load\n",
    "\n",
    "import numpy as np # linear algebra\n",
    "import pandas as pd # data processing, CSV file I/O (e.g. pd.read_csv)\n",
    "\n",
    "# Input data files are available in the read-only \"../input/\" directory\n",
    "# For example, running this (by clicking run or pressing Shift+Enter) will list all files under the input directory\n",
    "\n",
    "import os\n",
    "for dirname, _, filenames in os.walk('/kaggle/input'):\n",
    "    for filename in filenames:\n",
    "        print(os.path.join(dirname, filename))\n",
    "\n",
    "# You can write up to 20GB to the current directory (/kaggle/working/) that gets preserved as output when you create a version using \"Save & Run All\" \n",
    "# You can also write temporary files to /kaggle/temp/, but they won't be saved outside of the current session"
   ]
  },
  {
   "cell_type": "markdown",
   "id": "046c1540",
   "metadata": {
    "papermill": {
     "duration": 0.008945,
     "end_time": "2023-11-25T03:40:10.832873",
     "exception": false,
     "start_time": "2023-11-25T03:40:10.823928",
     "status": "completed"
    },
    "tags": []
   },
   "source": [
    "Inporting the data and reading the data"
   ]
  },
  {
   "cell_type": "code",
   "execution_count": 2,
   "id": "dc29073a",
   "metadata": {
    "execution": {
     "iopub.execute_input": "2023-11-25T03:40:10.852497Z",
     "iopub.status.busy": "2023-11-25T03:40:10.851911Z",
     "iopub.status.idle": "2023-11-25T03:40:11.241909Z",
     "shell.execute_reply": "2023-11-25T03:40:11.240680Z"
    },
    "papermill": {
     "duration": 0.403089,
     "end_time": "2023-11-25T03:40:11.244949",
     "exception": false,
     "start_time": "2023-11-25T03:40:10.841860",
     "status": "completed"
    },
    "tags": []
   },
   "outputs": [
    {
     "data": {
      "text/html": [
       "<div>\n",
       "<style scoped>\n",
       "    .dataframe tbody tr th:only-of-type {\n",
       "        vertical-align: middle;\n",
       "    }\n",
       "\n",
       "    .dataframe tbody tr th {\n",
       "        vertical-align: top;\n",
       "    }\n",
       "\n",
       "    .dataframe thead th {\n",
       "        text-align: right;\n",
       "    }\n",
       "</style>\n",
       "<table border=\"1\" class=\"dataframe\">\n",
       "  <thead>\n",
       "    <tr style=\"text-align: right;\">\n",
       "      <th></th>\n",
       "      <th>Text</th>\n",
       "      <th>CB_Label</th>\n",
       "    </tr>\n",
       "  </thead>\n",
       "  <tbody>\n",
       "    <tr>\n",
       "      <th>0</th>\n",
       "      <td>damn there is someones nana up here at beach w...</td>\n",
       "      <td>0</td>\n",
       "    </tr>\n",
       "    <tr>\n",
       "      <th>1</th>\n",
       "      <td>no kidding! dick clark was a corpse mechanical...</td>\n",
       "      <td>0</td>\n",
       "    </tr>\n",
       "    <tr>\n",
       "      <th>2</th>\n",
       "      <td>i read an article on jobros and thought damn w...</td>\n",
       "      <td>0</td>\n",
       "    </tr>\n",
       "    <tr>\n",
       "      <th>3</th>\n",
       "      <td>I got one fucking day of sprinkles and now it'...</td>\n",
       "      <td>0</td>\n",
       "    </tr>\n",
       "    <tr>\n",
       "      <th>4</th>\n",
       "      <td>I was already listening to Elliott smith  and ...</td>\n",
       "      <td>0</td>\n",
       "    </tr>\n",
       "  </tbody>\n",
       "</table>\n",
       "</div>"
      ],
      "text/plain": [
       "                                                Text  CB_Label\n",
       "0  damn there is someones nana up here at beach w...         0\n",
       "1  no kidding! dick clark was a corpse mechanical...         0\n",
       "2  i read an article on jobros and thought damn w...         0\n",
       "3  I got one fucking day of sprinkles and now it'...         0\n",
       "4  I was already listening to Elliott smith  and ...         0"
      ]
     },
     "execution_count": 2,
     "metadata": {},
     "output_type": "execute_result"
    }
   ],
   "source": [
    "input_data_path = 'https://raw.githubusercontent.com/Matthew-Bustamante/CS39AA-Project-Cyberbullying/main/'\n",
    "training_data_file = 'CyberBullying_Comments_Dataset.csv'\n",
    "df = pd.read_csv(input_data_path + training_data_file)\n",
    "df.head()"
   ]
  },
  {
   "cell_type": "markdown",
   "id": "3bebb3dc",
   "metadata": {
    "papermill": {
     "duration": 0.008466,
     "end_time": "2023-11-25T03:40:11.263020",
     "exception": false,
     "start_time": "2023-11-25T03:40:11.254554",
     "status": "completed"
    },
    "tags": []
   },
   "source": [
    "Splitting the data"
   ]
  },
  {
   "cell_type": "code",
   "execution_count": 3,
   "id": "7fa7d320",
   "metadata": {
    "execution": {
     "iopub.execute_input": "2023-11-25T03:40:11.282378Z",
     "iopub.status.busy": "2023-11-25T03:40:11.281986Z",
     "iopub.status.idle": "2023-11-25T03:40:12.714527Z",
     "shell.execute_reply": "2023-11-25T03:40:12.713108Z"
    },
    "papermill": {
     "duration": 1.445848,
     "end_time": "2023-11-25T03:40:12.717576",
     "exception": false,
     "start_time": "2023-11-25T03:40:11.271728",
     "status": "completed"
    },
    "tags": []
   },
   "outputs": [],
   "source": [
    "from sklearn.model_selection import train_test_split\n",
    "\n",
    "X = df['Text'].copy()\n",
    "y = df['CB_Label'].copy()\n",
    "\n",
    "X_train_raw, X_val_raw, y_train, y_val = train_test_split(X, y, test_size=0.20, random_state=42)"
   ]
  },
  {
   "cell_type": "markdown",
   "id": "839d76ef",
   "metadata": {
    "papermill": {
     "duration": 0.008398,
     "end_time": "2023-11-25T03:40:12.734736",
     "exception": false,
     "start_time": "2023-11-25T03:40:12.726338",
     "status": "completed"
    },
    "tags": []
   },
   "source": [
    "# Tokenization\n",
    "\n",
    "Next we're going to vectorize the data"
   ]
  },
  {
   "cell_type": "code",
   "execution_count": 4,
   "id": "2fed530b",
   "metadata": {
    "execution": {
     "iopub.execute_input": "2023-11-25T03:40:12.754369Z",
     "iopub.status.busy": "2023-11-25T03:40:12.753906Z",
     "iopub.status.idle": "2023-11-25T03:40:13.860089Z",
     "shell.execute_reply": "2023-11-25T03:40:13.858465Z"
    },
    "papermill": {
     "duration": 1.119547,
     "end_time": "2023-11-25T03:40:13.863094",
     "exception": false,
     "start_time": "2023-11-25T03:40:12.743547",
     "status": "completed"
    },
    "tags": []
   },
   "outputs": [
    {
     "name": "stdout",
     "output_type": "stream",
     "text": [
      "X_train.shape = (8880, 15603)\n"
     ]
    },
    {
     "data": {
      "text/plain": [
       "numpy.ndarray"
      ]
     },
     "execution_count": 4,
     "metadata": {},
     "output_type": "execute_result"
    }
   ],
   "source": [
    "from sklearn.feature_extraction.text import TfidfVectorizer\n",
    "\n",
    "tfidf_vectorizer = TfidfVectorizer()\n",
    "X_train = tfidf_vectorizer.fit_transform(X_train_raw).toarray()\n",
    "\n",
    "print(f\"X_train.shape = {X_train.shape}\")\n",
    "type(X_train)"
   ]
  },
  {
   "cell_type": "markdown",
   "id": "6631c570",
   "metadata": {
    "papermill": {
     "duration": 0.009016,
     "end_time": "2023-11-25T03:40:13.881277",
     "exception": false,
     "start_time": "2023-11-25T03:40:13.872261",
     "status": "completed"
    },
    "tags": []
   },
   "source": [
    "# Implementing Model\n",
    "\n",
    "I've decided to implement the ExtraTreesClassifier as it was a decent model that I used in assignment 3"
   ]
  },
  {
   "cell_type": "code",
   "execution_count": 5,
   "id": "a4610488",
   "metadata": {
    "execution": {
     "iopub.execute_input": "2023-11-25T03:40:13.901913Z",
     "iopub.status.busy": "2023-11-25T03:40:13.901410Z",
     "iopub.status.idle": "2023-11-25T03:41:21.498011Z",
     "shell.execute_reply": "2023-11-25T03:41:21.496709Z"
    },
    "papermill": {
     "duration": 67.61037,
     "end_time": "2023-11-25T03:41:21.500610",
     "exception": false,
     "start_time": "2023-11-25T03:40:13.890240",
     "status": "completed"
    },
    "tags": []
   },
   "outputs": [
    {
     "name": "stdout",
     "output_type": "stream",
     "text": [
      "accuracy (on y_train): 0.9986\n"
     ]
    },
    {
     "data": {
      "image/png": "[encoded data removed]",
      "text/plain": [
       "<Figure size 640x480 with 2 Axes>"
      ]
     },
     "metadata": {},
     "output_type": "display_data"
    }
   ],
   "source": [
    "#from sklearn.ensemble import RandomForestClassifier\n",
    "from sklearn.ensemble import ExtraTreesClassifier\n",
    "from sklearn.metrics import confusion_matrix, ConfusionMatrixDisplay, accuracy_score\n",
    "\n",
    "#model = RandomForestClassifier(n_estimators=25)\n",
    "model = ExtraTreesClassifier(n_estimators=25)\n",
    "model = model.fit(X_train, y_train)\n",
    "\n",
    "predictions_train = model.predict(X_train)\n",
    "\n",
    "disp = ConfusionMatrixDisplay(confusion_matrix(y_train, predictions_train), display_labels=['non-cyberbullying', 'cyberbullying'])\n",
    "disp.plot()\n",
    "print(f\"accuracy (on y_train): {accuracy_score(y_train, predictions_train):.4f}\")"
   ]
  },
  {
   "cell_type": "markdown",
   "id": "bfe575e1",
   "metadata": {
    "papermill": {
     "duration": 0.009517,
     "end_time": "2023-11-25T03:41:21.520022",
     "exception": false,
     "start_time": "2023-11-25T03:41:21.510505",
     "status": "completed"
    },
    "tags": []
   },
   "source": [
    "Checking to make sure the validation data looks like what we expect it to be"
   ]
  },
  {
   "cell_type": "code",
   "execution_count": 6,
   "id": "c6412d9e",
   "metadata": {
    "execution": {
     "iopub.execute_input": "2023-11-25T03:41:21.542466Z",
     "iopub.status.busy": "2023-11-25T03:41:21.541738Z",
     "iopub.status.idle": "2023-11-25T03:41:21.741457Z",
     "shell.execute_reply": "2023-11-25T03:41:21.740097Z"
    },
    "papermill": {
     "duration": 0.214354,
     "end_time": "2023-11-25T03:41:21.744359",
     "exception": false,
     "start_time": "2023-11-25T03:41:21.530005",
     "status": "completed"
    },
    "tags": []
   },
   "outputs": [
    {
     "name": "stdout",
     "output_type": "stream",
     "text": [
      "X_val.shape = (2220, 15603)\n"
     ]
    },
    {
     "data": {
      "text/plain": [
       "numpy.ndarray"
      ]
     },
     "execution_count": 6,
     "metadata": {},
     "output_type": "execute_result"
    }
   ],
   "source": [
    "X_val = tfidf_vectorizer.transform(X_val_raw).toarray()\n",
    "print(f\"X_val.shape = {X_val.shape}\")\n",
    "type(X_val)"
   ]
  },
  {
   "cell_type": "code",
   "execution_count": 7,
   "id": "298ab4df",
   "metadata": {
    "execution": {
     "iopub.execute_input": "2023-11-25T03:41:21.767285Z",
     "iopub.status.busy": "2023-11-25T03:41:21.766818Z",
     "iopub.status.idle": "2023-11-25T03:41:22.497855Z",
     "shell.execute_reply": "2023-11-25T03:41:22.494811Z"
    },
    "papermill": {
     "duration": 0.746426,
     "end_time": "2023-11-25T03:41:22.501248",
     "exception": false,
     "start_time": "2023-11-25T03:41:21.754822",
     "status": "completed"
    },
    "tags": []
   },
   "outputs": [
    {
     "name": "stdout",
     "output_type": "stream",
     "text": [
      "accuracy (on y_val): 0.7495\n"
     ]
    },
    {
     "data": {
      "image/png": "[encoded data removed]",
      "text/plain": [
       "<Figure size 640x480 with 2 Axes>"
      ]
     },
     "metadata": {},
     "output_type": "display_data"
    }
   ],
   "source": [
    "predictions_val = model.predict(X_val)\n",
    "disp = ConfusionMatrixDisplay(confusion_matrix(y_val, predictions_val), display_labels=['non-cyberbullying','cyberbullying'])\n",
    "disp.plot()\n",
    "print(f\"accuracy (on y_val): {accuracy_score(y_val, predictions_val):.4f}\")"
   ]
  },
  {
   "cell_type": "markdown",
   "id": "721e0655",
   "metadata": {
    "papermill": {
     "duration": 0.010129,
     "end_time": "2023-11-25T03:41:22.522200",
     "exception": false,
     "start_time": "2023-11-25T03:41:22.512071",
     "status": "completed"
    },
    "tags": []
   },
   "source": [
    "Model Accuracy: 0.75\n",
    "\n",
    "So our accuracy ended up being about 75 percent so I'm going to tune the model to find a hyperparameter that will give me a better accuracy\n",
    "\n",
    "# Finding Hyperparam"
   ]
  },
  {
   "cell_type": "code",
   "execution_count": 8,
   "id": "77d99511",
   "metadata": {
    "execution": {
     "iopub.execute_input": "2023-11-25T03:41:22.545307Z",
     "iopub.status.busy": "2023-11-25T03:41:22.544808Z",
     "iopub.status.idle": "2023-11-25T03:41:22.550032Z",
     "shell.execute_reply": "2023-11-25T03:41:22.548857Z"
    },
    "papermill": {
     "duration": 0.019725,
     "end_time": "2023-11-25T03:41:22.552212",
     "exception": false,
     "start_time": "2023-11-25T03:41:22.532487",
     "status": "completed"
    },
    "tags": []
   },
   "outputs": [],
   "source": [
    "tune_model = True"
   ]
  },
  {
   "cell_type": "code",
   "execution_count": 9,
   "id": "23814e01",
   "metadata": {
    "execution": {
     "iopub.execute_input": "2023-11-25T03:41:22.576493Z",
     "iopub.status.busy": "2023-11-25T03:41:22.575675Z",
     "iopub.status.idle": "2023-11-25T04:17:06.769723Z",
     "shell.execute_reply": "2023-11-25T04:17:06.767977Z"
    },
    "papermill": {
     "duration": 2144.222433,
     "end_time": "2023-11-25T04:17:06.785339",
     "exception": false,
     "start_time": "2023-11-25T03:41:22.562906",
     "status": "completed"
    },
    "tags": []
   },
   "outputs": [
    {
     "name": "stderr",
     "output_type": "stream",
     "text": [
      "/opt/conda/lib/python3.10/site-packages/numpy/lib/arraysetops.py:733: FutureWarning: elementwise comparison failed; returning scalar instead, but in the future will perform elementwise comparison\n",
      "  mask |= (ar1 == a)\n",
      "/opt/conda/lib/python3.10/site-packages/numpy/lib/arraysetops.py:733: FutureWarning: elementwise comparison failed; returning scalar instead, but in the future will perform elementwise comparison\n",
      "  mask |= (ar1 == a)\n",
      "/opt/conda/lib/python3.10/site-packages/numpy/lib/arraysetops.py:733: FutureWarning: elementwise comparison failed; returning scalar instead, but in the future will perform elementwise comparison\n",
      "  mask |= (ar1 == a)\n",
      "/opt/conda/lib/python3.10/site-packages/numpy/lib/arraysetops.py:733: FutureWarning: elementwise comparison failed; returning scalar instead, but in the future will perform elementwise comparison\n",
      "  mask |= (ar1 == a)\n",
      "/opt/conda/lib/python3.10/site-packages/numpy/lib/arraysetops.py:733: FutureWarning: elementwise comparison failed; returning scalar instead, but in the future will perform elementwise comparison\n",
      "  mask |= (ar1 == a)\n",
      "/opt/conda/lib/python3.10/site-packages/numpy/lib/arraysetops.py:733: FutureWarning: elementwise comparison failed; returning scalar instead, but in the future will perform elementwise comparison\n",
      "  mask |= (ar1 == a)\n",
      "/opt/conda/lib/python3.10/site-packages/numpy/lib/arraysetops.py:733: FutureWarning: elementwise comparison failed; returning scalar instead, but in the future will perform elementwise comparison\n",
      "  mask |= (ar1 == a)\n",
      "/opt/conda/lib/python3.10/site-packages/numpy/lib/arraysetops.py:733: FutureWarning: elementwise comparison failed; returning scalar instead, but in the future will perform elementwise comparison\n",
      "  mask |= (ar1 == a)\n",
      "/opt/conda/lib/python3.10/site-packages/numpy/lib/arraysetops.py:733: FutureWarning: elementwise comparison failed; returning scalar instead, but in the future will perform elementwise comparison\n",
      "  mask |= (ar1 == a)\n",
      "/opt/conda/lib/python3.10/site-packages/numpy/lib/arraysetops.py:733: FutureWarning: elementwise comparison failed; returning scalar instead, but in the future will perform elementwise comparison\n",
      "  mask |= (ar1 == a)\n",
      "/opt/conda/lib/python3.10/site-packages/numpy/lib/arraysetops.py:733: FutureWarning: elementwise comparison failed; returning scalar instead, but in the future will perform elementwise comparison\n",
      "  mask |= (ar1 == a)\n",
      "/opt/conda/lib/python3.10/site-packages/numpy/lib/arraysetops.py:733: FutureWarning: elementwise comparison failed; returning scalar instead, but in the future will perform elementwise comparison\n",
      "  mask |= (ar1 == a)\n"
     ]
    }
   ],
   "source": [
    "\n",
    "from sklearn.metrics import log_loss\n",
    "\n",
    "def tuneModel(hyperparam_value):\n",
    "    #rf_model = RandomForestClassifier(n_estimators=hyperparam_value, random_state=5)\n",
    "    rf_model = ExtraTreesClassifier(n_estimators=hyperparam_value, random_state=5)\n",
    "    \n",
    "    rf_model.fit(X_train, y_train)\n",
    "    y_train_pred_prob = rf_model.predict_proba(X_train)\n",
    "    y_train_pred = rf_model.predict(X_train)\n",
    "    y_val_pred_prob = rf_model.predict_proba(X_val)\n",
    "    y_val_pred = rf_model.predict(X_val)\n",
    "    train_loss = log_loss(y_train, y_train_pred_prob, labels=['0', '1'])\n",
    "    train_acc = accuracy_score(y_train, y_train_pred)\n",
    "    val_loss = log_loss(y_val, y_val_pred_prob, labels=['0', '1'])\n",
    "    val_acc = accuracy_score(y_val, y_val_pred)\n",
    "    return (train_loss, val_loss, train_acc, val_acc)\n",
    "\n",
    "# Possible values for the hyperparameter are in the range of 5 to 150 (by 50)\n",
    "hyp_param_vals = list(range(10,261,50)) # good values for n_estimators\n",
    "#hyp_param_vals = [2,3] + list(range(5, 50, 10)) # good values for min_samples_split\n",
    "metrics = []\n",
    "\n",
    "if tune_model:\n",
    "    for hp in hyp_param_vals:\n",
    "        metrics.append(tuneModel(hp))\n"
   ]
  },
  {
   "cell_type": "markdown",
   "id": "69910cb3",
   "metadata": {
    "papermill": {
     "duration": 0.012258,
     "end_time": "2023-11-25T04:17:06.809744",
     "exception": false,
     "start_time": "2023-11-25T04:17:06.797486",
     "status": "completed"
    },
    "tags": []
   },
   "source": [
    "Plotting the results of the model's performance for each hyperparameter value"
   ]
  },
  {
   "cell_type": "code",
   "execution_count": 10,
   "id": "b78b07fb",
   "metadata": {
    "execution": {
     "iopub.execute_input": "2023-11-25T04:17:06.837304Z",
     "iopub.status.busy": "2023-11-25T04:17:06.836841Z",
     "iopub.status.idle": "2023-11-25T04:17:07.392899Z",
     "shell.execute_reply": "2023-11-25T04:17:07.391543Z"
    },
    "papermill": {
     "duration": 0.57392,
     "end_time": "2023-11-25T04:17:07.396701",
     "exception": false,
     "start_time": "2023-11-25T04:17:06.822781",
     "status": "completed"
    },
    "tags": []
   },
   "outputs": [
    {
     "data": {
      "image/png": "[encoded data removed]",
      "text/plain": [
       "<Figure size 1600x400 with 2 Axes>"
      ]
     },
     "metadata": {},
     "output_type": "display_data"
    }
   ],
   "source": [
    "\n",
    "import matplotlib.pyplot as plt\n",
    "\n",
    "if tune_model:\n",
    "    fig, (ax1, ax2) = plt.subplots(1, 2, figsize=(16, 4))\n",
    "\n",
    "    ax1.set_xticks(hyp_param_vals)\n",
    "    ax1.set(xlabel=\"n_estimators\", ylabel=\"loss (lower is better)\")\n",
    "    ax1.plot(hyp_param_vals, [metric[1] for metric in metrics], '--ro') # validation loss\n",
    "    ax1.plot(hyp_param_vals, [metric[0] for metric in metrics], '--bo') # training loss\n",
    "    ax1.legend([\"Validation Loss\", \"Train Loss\"], loc=1)\n",
    "\n",
    "    ax2.set_xticks(hyp_param_vals)\n",
    "    ax2.set(xlabel=\"n_estimators\", ylabel=\"accuracy (higher is better)\")\n",
    "    ax2.plot(hyp_param_vals, [metric[3] for metric in metrics], '--ro') # validation accuracy\n",
    "    ax2.plot(hyp_param_vals, [metric[2] for metric in metrics], '--bo') # training accuracy\n",
    "    ax2.legend([\"Validation Accuracy\", \"Train Accuracy\"], loc=1)\n",
    "\n"
   ]
  },
  {
   "cell_type": "markdown",
   "id": "f5ec557a",
   "metadata": {
    "papermill": {
     "duration": 0.012173,
     "end_time": "2023-11-25T04:17:07.421781",
     "exception": false,
     "start_time": "2023-11-25T04:17:07.409608",
     "status": "completed"
    },
    "tags": []
   },
   "source": [
    "Looking at the accuracy and test lost for each hyperparameter"
   ]
  },
  {
   "cell_type": "code",
   "execution_count": 11,
   "id": "8a5a6bda",
   "metadata": {
    "execution": {
     "iopub.execute_input": "2023-11-25T04:17:07.449884Z",
     "iopub.status.busy": "2023-11-25T04:17:07.448599Z",
     "iopub.status.idle": "2023-11-25T04:17:07.461786Z",
     "shell.execute_reply": "2023-11-25T04:17:07.460149Z"
    },
    "papermill": {
     "duration": 0.03145,
     "end_time": "2023-11-25T04:17:07.465643",
     "exception": false,
     "start_time": "2023-11-25T04:17:07.434193",
     "status": "completed"
    },
    "tags": []
   },
   "outputs": [
    {
     "name": "stdout",
     "output_type": "stream",
     "text": [
      "   hyperparam  test_loss  test_acc\n",
      "0          10   2.666534  0.727477\n",
      "1          60   1.450896  0.762613\n",
      "2         110   1.355050  0.766216\n",
      "3         160   1.339845  0.769820\n",
      "4         210   1.325732  0.773423\n",
      "5         260   1.326592  0.769369\n"
     ]
    }
   ],
   "source": [
    "if tune_model:\n",
    "    tuning_results = np.array([hyp_param_vals, [round(metric[1],2) for metric in metrics], [round(metric[3],2) for metric in metrics]])\n",
    "    df_tuning_results = pd.DataFrame({'hyperparam':hyp_param_vals, 'test_loss':[metric[1] for metric in metrics], 'test_acc':[metric[3] for metric in metrics]})\n",
    "    print(df_tuning_results)"
   ]
  },
  {
   "cell_type": "markdown",
   "id": "fbb49fd1",
   "metadata": {
    "papermill": {
     "duration": 0.012452,
     "end_time": "2023-11-25T04:17:07.490469",
     "exception": false,
     "start_time": "2023-11-25T04:17:07.478017",
     "status": "completed"
    },
    "tags": []
   },
   "source": [
    "Based on the results above I decided to chose the hyperparam 210 as it gave the best accuracy and lowest test loss\n",
    "\n",
    "# Refitting Model Using Hyperparam\n",
    "\n",
    "Importing the data again"
   ]
  },
  {
   "cell_type": "code",
   "execution_count": 12,
   "id": "ba0406ef",
   "metadata": {
    "execution": {
     "iopub.execute_input": "2023-11-25T04:17:07.517619Z",
     "iopub.status.busy": "2023-11-25T04:17:07.517119Z",
     "iopub.status.idle": "2023-11-25T04:17:07.757817Z",
     "shell.execute_reply": "2023-11-25T04:17:07.756364Z"
    },
    "papermill": {
     "duration": 0.257227,
     "end_time": "2023-11-25T04:17:07.760597",
     "exception": false,
     "start_time": "2023-11-25T04:17:07.503370",
     "status": "completed"
    },
    "tags": []
   },
   "outputs": [
    {
     "data": {
      "text/html": [
       "<div>\n",
       "<style scoped>\n",
       "    .dataframe tbody tr th:only-of-type {\n",
       "        vertical-align: middle;\n",
       "    }\n",
       "\n",
       "    .dataframe tbody tr th {\n",
       "        vertical-align: top;\n",
       "    }\n",
       "\n",
       "    .dataframe thead th {\n",
       "        text-align: right;\n",
       "    }\n",
       "</style>\n",
       "<table border=\"1\" class=\"dataframe\">\n",
       "  <thead>\n",
       "    <tr style=\"text-align: right;\">\n",
       "      <th></th>\n",
       "      <th>Text</th>\n",
       "      <th>CB_Label</th>\n",
       "    </tr>\n",
       "  </thead>\n",
       "  <tbody>\n",
       "    <tr>\n",
       "      <th>0</th>\n",
       "      <td>damn there is someones nana up here at beach w...</td>\n",
       "      <td>0</td>\n",
       "    </tr>\n",
       "    <tr>\n",
       "      <th>1</th>\n",
       "      <td>no kidding! dick clark was a corpse mechanical...</td>\n",
       "      <td>0</td>\n",
       "    </tr>\n",
       "    <tr>\n",
       "      <th>2</th>\n",
       "      <td>i read an article on jobros and thought damn w...</td>\n",
       "      <td>0</td>\n",
       "    </tr>\n",
       "    <tr>\n",
       "      <th>3</th>\n",
       "      <td>I got one fucking day of sprinkles and now it'...</td>\n",
       "      <td>0</td>\n",
       "    </tr>\n",
       "    <tr>\n",
       "      <th>4</th>\n",
       "      <td>I was already listening to Elliott smith  and ...</td>\n",
       "      <td>0</td>\n",
       "    </tr>\n",
       "  </tbody>\n",
       "</table>\n",
       "</div>"
      ],
      "text/plain": [
       "                                                Text  CB_Label\n",
       "0  damn there is someones nana up here at beach w...         0\n",
       "1  no kidding! dick clark was a corpse mechanical...         0\n",
       "2  i read an article on jobros and thought damn w...         0\n",
       "3  I got one fucking day of sprinkles and now it'...         0\n",
       "4  I was already listening to Elliott smith  and ...         0"
      ]
     },
     "execution_count": 12,
     "metadata": {},
     "output_type": "execute_result"
    }
   ],
   "source": [
    "test_data_file = 'CyberBullying_Comments_Dataset.csv'\n",
    "df_test = pd.read_csv(input_data_path + test_data_file)\n",
    "df_test.head()"
   ]
  },
  {
   "cell_type": "markdown",
   "id": "59f6242c",
   "metadata": {
    "papermill": {
     "duration": 0.011939,
     "end_time": "2023-11-25T04:17:07.785045",
     "exception": false,
     "start_time": "2023-11-25T04:17:07.773106",
     "status": "completed"
    },
    "tags": []
   },
   "source": [
    "re-tokenizing the data"
   ]
  },
  {
   "cell_type": "code",
   "execution_count": 13,
   "id": "62531958",
   "metadata": {
    "execution": {
     "iopub.execute_input": "2023-11-25T04:17:07.812872Z",
     "iopub.status.busy": "2023-11-25T04:17:07.812383Z",
     "iopub.status.idle": "2023-11-25T04:17:08.811252Z",
     "shell.execute_reply": "2023-11-25T04:17:08.810070Z"
    },
    "papermill": {
     "duration": 1.016349,
     "end_time": "2023-11-25T04:17:08.814136",
     "exception": false,
     "start_time": "2023-11-25T04:17:07.797787",
     "status": "completed"
    },
    "tags": []
   },
   "outputs": [
    {
     "name": "stdout",
     "output_type": "stream",
     "text": [
      "X_test.shape = (11100, 15603)\n"
     ]
    },
    {
     "data": {
      "text/plain": [
       "numpy.ndarray"
      ]
     },
     "execution_count": 13,
     "metadata": {},
     "output_type": "execute_result"
    }
   ],
   "source": [
    "X_test = tfidf_vectorizer.transform(df_test['Text']).toarray()\n",
    "print(f\"X_test.shape = {X_test.shape}\")\n",
    "type(X_test)"
   ]
  },
  {
   "cell_type": "markdown",
   "id": "d87ed267",
   "metadata": {
    "papermill": {
     "duration": 0.012396,
     "end_time": "2023-11-25T04:17:08.839221",
     "exception": false,
     "start_time": "2023-11-25T04:17:08.826825",
     "status": "completed"
    },
    "tags": []
   },
   "source": [
    "Refitting the model using the hyperparam 210"
   ]
  },
  {
   "cell_type": "code",
   "execution_count": 14,
   "id": "e186c3d6",
   "metadata": {
    "execution": {
     "iopub.execute_input": "2023-11-25T04:17:08.868753Z",
     "iopub.status.busy": "2023-11-25T04:17:08.867849Z",
     "iopub.status.idle": "2023-11-25T04:26:18.252974Z",
     "shell.execute_reply": "2023-11-25T04:26:18.247995Z"
    },
    "papermill": {
     "duration": 549.414276,
     "end_time": "2023-11-25T04:26:18.266858",
     "exception": false,
     "start_time": "2023-11-25T04:17:08.852582",
     "status": "completed"
    },
    "tags": []
   },
   "outputs": [
    {
     "data": {
      "text/plain": [
       "array([0, 0, 0, 0, 0, 0, 0, 0, 0, 0])"
      ]
     },
     "execution_count": 14,
     "metadata": {},
     "output_type": "execute_result"
    }
   ],
   "source": [
    "hyperparam_val = 210\n",
    "\n",
    "model = ExtraTreesClassifier(n_estimators=hyperparam_val)\n",
    "model = model.fit(X_train, y_train)\n",
    "\n",
    "predictions_test = model.predict(X_test)\n",
    "predictions_test[:10]"
   ]
  },
  {
   "cell_type": "markdown",
   "id": "6860ca3b",
   "metadata": {
    "papermill": {
     "duration": 0.012827,
     "end_time": "2023-11-25T04:26:18.292876",
     "exception": false,
     "start_time": "2023-11-25T04:26:18.280049",
     "status": "completed"
    },
    "tags": []
   },
   "source": [
    "In this dataset a 0 means non-cyberbullying and a 1 means cyberbullying"
   ]
  },
  {
   "cell_type": "code",
   "execution_count": 15,
   "id": "4a83e8ec",
   "metadata": {
    "execution": {
     "iopub.execute_input": "2023-11-25T04:26:18.322492Z",
     "iopub.status.busy": "2023-11-25T04:26:18.321558Z",
     "iopub.status.idle": "2023-11-25T04:26:18.342378Z",
     "shell.execute_reply": "2023-11-25T04:26:18.340797Z"
    },
    "papermill": {
     "duration": 0.039737,
     "end_time": "2023-11-25T04:26:18.345818",
     "exception": false,
     "start_time": "2023-11-25T04:26:18.306081",
     "status": "completed"
    },
    "tags": []
   },
   "outputs": [
    {
     "data": {
      "text/html": [
       "<div>\n",
       "<style scoped>\n",
       "    .dataframe tbody tr th:only-of-type {\n",
       "        vertical-align: middle;\n",
       "    }\n",
       "\n",
       "    .dataframe tbody tr th {\n",
       "        vertical-align: top;\n",
       "    }\n",
       "\n",
       "    .dataframe thead th {\n",
       "        text-align: right;\n",
       "    }\n",
       "</style>\n",
       "<table border=\"1\" class=\"dataframe\">\n",
       "  <thead>\n",
       "    <tr style=\"text-align: right;\">\n",
       "      <th></th>\n",
       "      <th>Text</th>\n",
       "      <th>CB_Label</th>\n",
       "      <th>predictions</th>\n",
       "    </tr>\n",
       "  </thead>\n",
       "  <tbody>\n",
       "    <tr>\n",
       "      <th>0</th>\n",
       "      <td>damn there is someones nana up here at beach with one. dont think ic an steal and get to you quickly tho ;(</td>\n",
       "      <td>0</td>\n",
       "      <td>0</td>\n",
       "    </tr>\n",
       "    <tr>\n",
       "      <th>1</th>\n",
       "      <td>no kidding! dick clark was a corpse mechanically operated by the advertising companies</td>\n",
       "      <td>0</td>\n",
       "      <td>0</td>\n",
       "    </tr>\n",
       "    <tr>\n",
       "      <th>2</th>\n",
       "      <td>i read an article on jobros and thought damn we should cash in on our jobro pokemon. Perfect stocking stuffers haha</td>\n",
       "      <td>0</td>\n",
       "      <td>0</td>\n",
       "    </tr>\n",
       "    <tr>\n",
       "      <th>3</th>\n",
       "      <td>I got one fucking day of sprinkles and now it's back to sunshine and douchebaggery.\"</td>\n",
       "      <td>0</td>\n",
       "      <td>0</td>\n",
       "    </tr>\n",
       "    <tr>\n",
       "      <th>4</th>\n",
       "      <td>I was already listening to Elliott smith  and I fucking hate kanye west. He's not a valid artist or human in my eyes</td>\n",
       "      <td>0</td>\n",
       "      <td>0</td>\n",
       "    </tr>\n",
       "    <tr>\n",
       "      <th>5</th>\n",
       "      <td>I told Derek to go fuck himself  Devyn told us to calm down</td>\n",
       "      <td>0</td>\n",
       "      <td>0</td>\n",
       "    </tr>\n",
       "    <tr>\n",
       "      <th>6</th>\n",
       "      <td>I'm watching the new Smosh video and laughing my ass off.</td>\n",
       "      <td>0</td>\n",
       "      <td>0</td>\n",
       "    </tr>\n",
       "    <tr>\n",
       "      <th>7</th>\n",
       "      <td>My mom didn't like Catholicism because the idea of being a sinner from birth irked her  and she loves gay people  so yeah.</td>\n",
       "      <td>0</td>\n",
       "      <td>0</td>\n",
       "    </tr>\n",
       "    <tr>\n",
       "      <th>8</th>\n",
       "      <td>ya i know! lol AND big thunder mountain broke down! i only got 2 ride it once! i got a ton of bad luck. i think u stole it! bitch!</td>\n",
       "      <td>0</td>\n",
       "      <td>0</td>\n",
       "    </tr>\n",
       "    <tr>\n",
       "      <th>9</th>\n",
       "      <td>lucky bitch.....\"</td>\n",
       "      <td>0</td>\n",
       "      <td>0</td>\n",
       "    </tr>\n",
       "    <tr>\n",
       "      <th>10</th>\n",
       "      <td>hate the auto DMs  there's no better way to show that you don't actually care about your followers than to put it on autopilot</td>\n",
       "      <td>0</td>\n",
       "      <td>1</td>\n",
       "    </tr>\n",
       "    <tr>\n",
       "      <th>11</th>\n",
       "      <td>Top Notch click!  DONT HATE hater!  u mad cuz u broke  using a playstation as a cd player.</td>\n",
       "      <td>0</td>\n",
       "      <td>0</td>\n",
       "    </tr>\n",
       "    <tr>\n",
       "      <th>12</th>\n",
       "      <td>question  where the fuck is my father!? he has been MIA for like two days!</td>\n",
       "      <td>0</td>\n",
       "      <td>0</td>\n",
       "    </tr>\n",
       "    <tr>\n",
       "      <th>13</th>\n",
       "      <td>Fair enough  will get my ass around to doing it sometime later. Your voice has changed  btw :P</td>\n",
       "      <td>0</td>\n",
       "      <td>0</td>\n",
       "    </tr>\n",
       "    <tr>\n",
       "      <th>14</th>\n",
       "      <td>yeah that seems like he got some bitch in him somewhere or he could be brainwashed. I got a forum right now thats going in on BEY</td>\n",
       "      <td>0</td>\n",
       "      <td>1</td>\n",
       "    </tr>\n",
       "    <tr>\n",
       "      <th>15</th>\n",
       "      <td>See it too A friend of mine uses acai berry but for medical purposes. {shrugs} Damn @ her being hella skinny. I may try... Maybe</td>\n",
       "      <td>0</td>\n",
       "      <td>0</td>\n",
       "    </tr>\n",
       "    <tr>\n",
       "      <th>16</th>\n",
       "      <td>How can you hate Hugh Laurie!?</td>\n",
       "      <td>0</td>\n",
       "      <td>0</td>\n",
       "    </tr>\n",
       "    <tr>\n",
       "      <th>17</th>\n",
       "      <td>... First thing I would do is go to the bathroom because I most likely piss myself.</td>\n",
       "      <td>0</td>\n",
       "      <td>0</td>\n",
       "    </tr>\n",
       "    <tr>\n",
       "      <th>18</th>\n",
       "      <td>Um... I hate birds. Bleech!</td>\n",
       "      <td>0</td>\n",
       "      <td>0</td>\n",
       "    </tr>\n",
       "    <tr>\n",
       "      <th>19</th>\n",
       "      <td>Yes. Take the damn pickles. I'm glad we've been talking virtually every possible moment. I have a feeling it will ciontinue.</td>\n",
       "      <td>0</td>\n",
       "      <td>0</td>\n",
       "    </tr>\n",
       "    <tr>\n",
       "      <th>20</th>\n",
       "      <td>mmm nice. problem is - i hate reading blogs in hebrew. i can read them but it takes me longer and i have ADD</td>\n",
       "      <td>0</td>\n",
       "      <td>0</td>\n",
       "    </tr>\n",
       "    <tr>\n",
       "      <th>21</th>\n",
       "      <td>awww. cum playz. we makin finger paintz on da wallz kinda.</td>\n",
       "      <td>0</td>\n",
       "      <td>0</td>\n",
       "    </tr>\n",
       "    <tr>\n",
       "      <th>22</th>\n",
       "      <td>I seriously hate insects/bugs of all kinds :( even ants... wish there was some... anti-bug thing I could stick at my door and -</td>\n",
       "      <td>0</td>\n",
       "      <td>0</td>\n",
       "    </tr>\n",
       "    <tr>\n",
       "      <th>23</th>\n",
       "      <td>but yeah it sucks Bl there's 25 maps and wanting to get on a specific one takes forever if you're unlucky. orz.</td>\n",
       "      <td>0</td>\n",
       "      <td>0</td>\n",
       "    </tr>\n",
       "    <tr>\n",
       "      <th>24</th>\n",
       "      <td>Haha  that's a long-ass tail!</td>\n",
       "      <td>0</td>\n",
       "      <td>0</td>\n",
       "    </tr>\n",
       "    <tr>\n",
       "      <th>25</th>\n",
       "      <td>When was the first ICS? Was Emo Jesus created yet? was prior to March 22  2007 (1st live tattoo show)</td>\n",
       "      <td>0</td>\n",
       "      <td>0</td>\n",
       "    </tr>\n",
       "    <tr>\n",
       "      <th>26</th>\n",
       "      <td>you whore!</td>\n",
       "      <td>0</td>\n",
       "      <td>0</td>\n",
       "    </tr>\n",
       "    <tr>\n",
       "      <th>27</th>\n",
       "      <td>awe man that sucks... I mean that's awesome!!</td>\n",
       "      <td>0</td>\n",
       "      <td>0</td>\n",
       "    </tr>\n",
       "    <tr>\n",
       "      <th>28</th>\n",
       "      <td>only if you promise to not make me look emo or like a raccoon ;}</td>\n",
       "      <td>0</td>\n",
       "      <td>0</td>\n",
       "    </tr>\n",
       "    <tr>\n",
       "      <th>29</th>\n",
       "      <td>i'll give you a suprise if you catch up to me by christmas. Lol! Your followers would hate you :P</td>\n",
       "      <td>0</td>\n",
       "      <td>0</td>\n",
       "    </tr>\n",
       "    <tr>\n",
       "      <th>30</th>\n",
       "      <td>Yeah...you'd have to post exactly.........a LOT of fucking tweets a day Hahaha &amp;lt;3</td>\n",
       "      <td>0</td>\n",
       "      <td>0</td>\n",
       "    </tr>\n",
       "    <tr>\n",
       "      <th>31</th>\n",
       "      <td>I feel you but I also feel where they are coming from too  esp if the money is good. Damn do I sound like a sell out? lol</td>\n",
       "      <td>0</td>\n",
       "      <td>0</td>\n",
       "    </tr>\n",
       "    <tr>\n",
       "      <th>32</th>\n",
       "      <td>Lol I say gay all the time in the gay way and I'm pretty gay.. gay gay gay gay..  I hope more people get offended</td>\n",
       "      <td>0</td>\n",
       "      <td>0</td>\n",
       "    </tr>\n",
       "    <tr>\n",
       "      <th>33</th>\n",
       "      <td>LOL damn.. for some underwear.. thats dedication</td>\n",
       "      <td>0</td>\n",
       "      <td>0</td>\n",
       "    </tr>\n",
       "    <tr>\n",
       "      <th>34</th>\n",
       "      <td>I hate that!! If you're on a roll w/ writing I'd stay home =) Unless its something crazyyy going on</td>\n",
       "      <td>0</td>\n",
       "      <td>0</td>\n",
       "    </tr>\n",
       "    <tr>\n",
       "      <th>35</th>\n",
       "      <td>dammnn! Long ass day lol</td>\n",
       "      <td>0</td>\n",
       "      <td>0</td>\n",
       "    </tr>\n",
       "    <tr>\n",
       "      <th>36</th>\n",
       "      <td>damn theres really no females like that lol. have fun for me thoughh</td>\n",
       "      <td>0</td>\n",
       "      <td>0</td>\n",
       "    </tr>\n",
       "    <tr>\n",
       "      <th>37</th>\n",
       "      <td>i was bored by her.  i was sitting there like a nerd like \"oh thats interesting\"</td>\n",
       "      <td>0</td>\n",
       "      <td>0</td>\n",
       "    </tr>\n",
       "    <tr>\n",
       "      <th>38</th>\n",
       "      <td>I don't hate you  promise</td>\n",
       "      <td>0</td>\n",
       "      <td>0</td>\n",
       "    </tr>\n",
       "    <tr>\n",
       "      <th>39</th>\n",
       "      <td>girl these kids are lazy these days  you gotta stay on them.  my oldest is a neat freak  but those other two..... DAMN!</td>\n",
       "      <td>0</td>\n",
       "      <td>0</td>\n",
       "    </tr>\n",
       "    <tr>\n",
       "      <th>40</th>\n",
       "      <td>GIRL YOU MADE ME SPIT!!! ROFLMAO!!!! YOU ARE TOO DAMN MUCH!!!!!!!!!</td>\n",
       "      <td>0</td>\n",
       "      <td>0</td>\n",
       "    </tr>\n",
       "    <tr>\n",
       "      <th>41</th>\n",
       "      <td>Hahaha I'm sure Bronx can beat some ass. I saw his bass on the internet. It's not as bad as some other names I've heard</td>\n",
       "      <td>0</td>\n",
       "      <td>0</td>\n",
       "    </tr>\n",
       "    <tr>\n",
       "      <th>42</th>\n",
       "      <td>Awwww! That sucks when that happens  be strong love</td>\n",
       "      <td>0</td>\n",
       "      <td>0</td>\n",
       "    </tr>\n",
       "    <tr>\n",
       "      <th>43</th>\n",
       "      <td>ooo ok. Thanks this is a good time for me to be ill. Sucks i cant call out...too much work</td>\n",
       "      <td>0</td>\n",
       "      <td>0</td>\n",
       "    </tr>\n",
       "    <tr>\n",
       "      <th>44</th>\n",
       "      <td>\"Is it duncan  if it's I'm gonna be so....hug him...because I love him\" Backing out of the hate quotes? =P</td>\n",
       "      <td>0</td>\n",
       "      <td>0</td>\n",
       "    </tr>\n",
       "    <tr>\n",
       "      <th>45</th>\n",
       "      <td>Thank you. I'm sorry  did you e-mail me already? I seem to have misplaced it if you did. I am a loser.</td>\n",
       "      <td>0</td>\n",
       "      <td>0</td>\n",
       "    </tr>\n",
       "    <tr>\n",
       "      <th>46</th>\n",
       "      <td>I fucking forgot it. So mad. Just have my phone.</td>\n",
       "      <td>0</td>\n",
       "      <td>0</td>\n",
       "    </tr>\n",
       "    <tr>\n",
       "      <th>47</th>\n",
       "      <td>somewhere quiet....goin to the mountains..and i hate to say this but that Nuvo shyt is nasty</td>\n",
       "      <td>0</td>\n",
       "      <td>0</td>\n",
       "    </tr>\n",
       "    <tr>\n",
       "      <th>48</th>\n",
       "      <td>funny how folks get mad @ southern kids makin up dance songs..then a grown ass man does it and its all good cos he prod ether</td>\n",
       "      <td>0</td>\n",
       "      <td>0</td>\n",
       "    </tr>\n",
       "    <tr>\n",
       "      <th>49</th>\n",
       "      <td>You're lucky you're not currently in Bethlehem. Try having to constantly hear it. I hate it more! And the tourists suck worse.</td>\n",
       "      <td>0</td>\n",
       "      <td>0</td>\n",
       "    </tr>\n",
       "    <tr>\n",
       "      <th>50</th>\n",
       "      <td>ive also made yarn and synth hair braid ones. Can wear as pig tails or one big pony tail</td>\n",
       "      <td>0</td>\n",
       "      <td>0</td>\n",
       "    </tr>\n",
       "    <tr>\n",
       "      <th>51</th>\n",
       "      <td>:-( That sucks... I've got pretty muscular calves from dancing but usually do okay with the lace ups.</td>\n",
       "      <td>0</td>\n",
       "      <td>0</td>\n",
       "    </tr>\n",
       "    <tr>\n",
       "      <th>52</th>\n",
       "      <td>its gay. Went to sleep at 3. Come and ill make Haha</td>\n",
       "      <td>0</td>\n",
       "      <td>0</td>\n",
       "    </tr>\n",
       "    <tr>\n",
       "      <th>53</th>\n",
       "      <td>@sspitsbergen here's hoping the fuck has to duck shoes for the rest of his natural born life.</td>\n",
       "      <td>0</td>\n",
       "      <td>0</td>\n",
       "    </tr>\n",
       "    <tr>\n",
       "      <th>54</th>\n",
       "      <td>@blackslashwhite LOL fuck you guys wish I was hanging out somewhere cool http://tinyurl.com/a4nst2</td>\n",
       "      <td>0</td>\n",
       "      <td>0</td>\n",
       "    </tr>\n",
       "    <tr>\n",
       "      <th>55</th>\n",
       "      <td>good  have some for me... im maintaining sobriety for the night... sucks.. as a matter of fact  have three.</td>\n",
       "      <td>0</td>\n",
       "      <td>0</td>\n",
       "    </tr>\n",
       "    <tr>\n",
       "      <th>56</th>\n",
       "      <td>fight camilla then bitch!</td>\n",
       "      <td>0</td>\n",
       "      <td>1</td>\n",
       "    </tr>\n",
       "    <tr>\n",
       "      <th>57</th>\n",
       "      <td>she sucks. :)</td>\n",
       "      <td>0</td>\n",
       "      <td>0</td>\n",
       "    </tr>\n",
       "    <tr>\n",
       "      <th>58</th>\n",
       "      <td>OMG I hate when that happens :(</td>\n",
       "      <td>0</td>\n",
       "      <td>0</td>\n",
       "    </tr>\n",
       "    <tr>\n",
       "      <th>59</th>\n",
       "      <td>Damn son  you drive a tank? It costs me less than $25.</td>\n",
       "      <td>0</td>\n",
       "      <td>0</td>\n",
       "    </tr>\n",
       "  </tbody>\n",
       "</table>\n",
       "</div>"
      ],
      "text/plain": [
       "                                                                                                                                  Text  \\\n",
       "0                          damn there is someones nana up here at beach with one. dont think ic an steal and get to you quickly tho ;(   \n",
       "1                                               no kidding! dick clark was a corpse mechanically operated by the advertising companies   \n",
       "2                  i read an article on jobros and thought damn we should cash in on our jobro pokemon. Perfect stocking stuffers haha   \n",
       "3                                                 I got one fucking day of sprinkles and now it's back to sunshine and douchebaggery.\"   \n",
       "4                 I was already listening to Elliott smith  and I fucking hate kanye west. He's not a valid artist or human in my eyes   \n",
       "5                                                                          I told Derek to go fuck himself  Devyn told us to calm down   \n",
       "6                                                                            I'm watching the new Smosh video and laughing my ass off.   \n",
       "7           My mom didn't like Catholicism because the idea of being a sinner from birth irked her  and she loves gay people  so yeah.   \n",
       "8   ya i know! lol AND big thunder mountain broke down! i only got 2 ride it once! i got a ton of bad luck. i think u stole it! bitch!   \n",
       "9                                                                                                                    lucky bitch.....\"   \n",
       "10      hate the auto DMs  there's no better way to show that you don't actually care about your followers than to put it on autopilot   \n",
       "11                                          Top Notch click!  DONT HATE hater!  u mad cuz u broke  using a playstation as a cd player.   \n",
       "12                                                          question  where the fuck is my father!? he has been MIA for like two days!   \n",
       "13                                      Fair enough  will get my ass around to doing it sometime later. Your voice has changed  btw :P   \n",
       "14   yeah that seems like he got some bitch in him somewhere or he could be brainwashed. I got a forum right now thats going in on BEY   \n",
       "15    See it too A friend of mine uses acai berry but for medical purposes. {shrugs} Damn @ her being hella skinny. I may try... Maybe   \n",
       "16                                                                                                      How can you hate Hugh Laurie!?   \n",
       "17                                                 ... First thing I would do is go to the bathroom because I most likely piss myself.   \n",
       "18                                                                                                         Um... I hate birds. Bleech!   \n",
       "19        Yes. Take the damn pickles. I'm glad we've been talking virtually every possible moment. I have a feeling it will ciontinue.   \n",
       "20                        mmm nice. problem is - i hate reading blogs in hebrew. i can read them but it takes me longer and i have ADD   \n",
       "21                                                                          awww. cum playz. we makin finger paintz on da wallz kinda.   \n",
       "22     I seriously hate insects/bugs of all kinds :( even ants... wish there was some... anti-bug thing I could stick at my door and -   \n",
       "23                     but yeah it sucks Bl there's 25 maps and wanting to get on a specific one takes forever if you're unlucky. orz.   \n",
       "24                                                                                                       Haha  that's a long-ass tail!   \n",
       "25                               When was the first ICS? Was Emo Jesus created yet? was prior to March 22  2007 (1st live tattoo show)   \n",
       "26                                                                                                                          you whore!   \n",
       "27                                                                                       awe man that sucks... I mean that's awesome!!   \n",
       "28                                                                    only if you promise to not make me look emo or like a raccoon ;}   \n",
       "29                                   i'll give you a suprise if you catch up to me by christmas. Lol! Your followers would hate you :P   \n",
       "30                                                Yeah...you'd have to post exactly.........a LOT of fucking tweets a day Hahaha &lt;3   \n",
       "31           I feel you but I also feel where they are coming from too  esp if the money is good. Damn do I sound like a sell out? lol   \n",
       "32                   Lol I say gay all the time in the gay way and I'm pretty gay.. gay gay gay gay..  I hope more people get offended   \n",
       "33                                                                                    LOL damn.. for some underwear.. thats dedication   \n",
       "34                                 I hate that!! If you're on a roll w/ writing I'd stay home =) Unless its something crazyyy going on   \n",
       "35                                                                                                            dammnn! Long ass day lol   \n",
       "36                                                                damn theres really no females like that lol. have fun for me thoughh   \n",
       "37                                                    i was bored by her.  i was sitting there like a nerd like \"oh thats interesting\"   \n",
       "38                                                                                                           I don't hate you  promise   \n",
       "39             girl these kids are lazy these days  you gotta stay on them.  my oldest is a neat freak  but those other two..... DAMN!   \n",
       "40                                                                 GIRL YOU MADE ME SPIT!!! ROFLMAO!!!! YOU ARE TOO DAMN MUCH!!!!!!!!!   \n",
       "41             Hahaha I'm sure Bronx can beat some ass. I saw his bass on the internet. It's not as bad as some other names I've heard   \n",
       "42                                                                                 Awwww! That sucks when that happens  be strong love   \n",
       "43                                          ooo ok. Thanks this is a good time for me to be ill. Sucks i cant call out...too much work   \n",
       "44                          \"Is it duncan  if it's I'm gonna be so....hug him...because I love him\" Backing out of the hate quotes? =P   \n",
       "45                              Thank you. I'm sorry  did you e-mail me already? I seem to have misplaced it if you did. I am a loser.   \n",
       "46                                                                                    I fucking forgot it. So mad. Just have my phone.   \n",
       "47                                        somewhere quiet....goin to the mountains..and i hate to say this but that Nuvo shyt is nasty   \n",
       "48       funny how folks get mad @ southern kids makin up dance songs..then a grown ass man does it and its all good cos he prod ether   \n",
       "49      You're lucky you're not currently in Bethlehem. Try having to constantly hear it. I hate it more! And the tourists suck worse.   \n",
       "50                                            ive also made yarn and synth hair braid ones. Can wear as pig tails or one big pony tail   \n",
       "51                               :-( That sucks... I've got pretty muscular calves from dancing but usually do okay with the lace ups.   \n",
       "52                                                                                 its gay. Went to sleep at 3. Come and ill make Haha   \n",
       "53                                       @sspitsbergen here's hoping the fuck has to duck shoes for the rest of his natural born life.   \n",
       "54                                  @blackslashwhite LOL fuck you guys wish I was hanging out somewhere cool http://tinyurl.com/a4nst2   \n",
       "55                         good  have some for me... im maintaining sobriety for the night... sucks.. as a matter of fact  have three.   \n",
       "56                                                                                                           fight camilla then bitch!   \n",
       "57                                                                                                                       she sucks. :)   \n",
       "58                                                                                                     OMG I hate when that happens :(   \n",
       "59                                                                              Damn son  you drive a tank? It costs me less than $25.   \n",
       "\n",
       "    CB_Label  predictions  \n",
       "0          0            0  \n",
       "1          0            0  \n",
       "2          0            0  \n",
       "3          0            0  \n",
       "4          0            0  \n",
       "5          0            0  \n",
       "6          0            0  \n",
       "7          0            0  \n",
       "8          0            0  \n",
       "9          0            0  \n",
       "10         0            1  \n",
       "11         0            0  \n",
       "12         0            0  \n",
       "13         0            0  \n",
       "14         0            1  \n",
       "15         0            0  \n",
       "16         0            0  \n",
       "17         0            0  \n",
       "18         0            0  \n",
       "19         0            0  \n",
       "20         0            0  \n",
       "21         0            0  \n",
       "22         0            0  \n",
       "23         0            0  \n",
       "24         0            0  \n",
       "25         0            0  \n",
       "26         0            0  \n",
       "27         0            0  \n",
       "28         0            0  \n",
       "29         0            0  \n",
       "30         0            0  \n",
       "31         0            0  \n",
       "32         0            0  \n",
       "33         0            0  \n",
       "34         0            0  \n",
       "35         0            0  \n",
       "36         0            0  \n",
       "37         0            0  \n",
       "38         0            0  \n",
       "39         0            0  \n",
       "40         0            0  \n",
       "41         0            0  \n",
       "42         0            0  \n",
       "43         0            0  \n",
       "44         0            0  \n",
       "45         0            0  \n",
       "46         0            0  \n",
       "47         0            0  \n",
       "48         0            0  \n",
       "49         0            0  \n",
       "50         0            0  \n",
       "51         0            0  \n",
       "52         0            0  \n",
       "53         0            0  \n",
       "54         0            0  \n",
       "55         0            0  \n",
       "56         0            1  \n",
       "57         0            0  \n",
       "58         0            0  \n",
       "59         0            0  "
      ]
     },
     "execution_count": 15,
     "metadata": {},
     "output_type": "execute_result"
    }
   ],
   "source": [
    "df_test['predictions'] = predictions_test\n",
    "pd.set_option(\"display.max_colwidth\", 248)\n",
    "df_test.head(n=60)"
   ]
  },
  {
   "cell_type": "markdown",
   "id": "9f764911",
   "metadata": {
    "papermill": {
     "duration": 0.014277,
     "end_time": "2023-11-25T04:26:18.374181",
     "exception": false,
     "start_time": "2023-11-25T04:26:18.359904",
     "status": "completed"
    },
    "tags": []
   },
   "source": [
    "Interestingly the model flagged comments that aren't cyberbullying as cyberbullying, however these comments the model flagged, without context seem to be offensive or harmful.  However the model does flag the non-cyberbullying tweets correctly.  "
   ]
  }
 ],
 "metadata": {
  "kaggle": {
   "accelerator": "none",
   "dataSources": [],
   "dockerImageVersionId": 30587,
   "isGpuEnabled": false,
   "isInternetEnabled": true,
   "language": "python",
   "sourceType": "notebook"
  },
  "kernelspec": {
   "display_name": "Python 3",
   "language": "python",
   "name": "python3"
  },
  "language_info": {
   "codemirror_mode": {
    "name": "ipython",
    "version": 3
   },
   "file_extension": ".py",
   "mimetype": "text/x-python",
   "name": "python",
   "nbconvert_exporter": "python",
   "pygments_lexer": "ipython3",
   "version": "3.10.12"
  },
  "papermill": {
   "default_parameters": {},
   "duration": 2772.857938,
   "end_time": "2023-11-25T04:26:19.421040",
   "environment_variables": {},
   "exception": null,
   "input_path": "__notebook__.ipynb",
   "output_path": "__notebook__.ipynb",
   "parameters": {},
   "start_time": "2023-11-25T03:40:06.563102",
   "version": "2.4.0"
  }
 },
 "nbformat": 4,
 "nbformat_minor": 5
}
